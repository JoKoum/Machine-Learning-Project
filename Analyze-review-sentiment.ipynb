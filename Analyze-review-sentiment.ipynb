{
 "cells": [
  {
   "cell_type": "markdown",
   "metadata": {},
   "source": [
    "# Project in Machine Learning Class: Predict user's product reviews sentiment\n",
    "---\n",
    "\n",
    "### John Koumentis, MTN2012\n",
    "\n",
    "The project evaluates the performance of different Machine Learning Classification algorithms over predicting the correct sentiment (Positive or Negative) of the given review in **Greek** language."
   ]
  },
  {
   "cell_type": "code",
   "execution_count": 1,
   "metadata": {},
   "outputs": [
    {
     "name": "stderr",
     "output_type": "stream",
     "text": [
      "[nltk_data] Downloading package stopwords to\n",
      "[nltk_data]     C:\\Users\\John\\AppData\\Roaming\\nltk_data...\n",
      "[nltk_data]   Package stopwords is already up-to-date!\n"
     ]
    }
   ],
   "source": [
    "# Load the necessary modules\n",
    "import numpy as np\n",
    "import pandas as pd\n",
    "from collections import Counter\n",
    "import os\n",
    "import time\n",
    "import matplotlib.pyplot as plt\n",
    "%matplotlib inline\n",
    "import matplotlib.patches as mpatches\n",
    "import seaborn as sns\n",
    "\n",
    "import string\n",
    "import re\n",
    "import nltk\n",
    "from nltk.corpus import stopwords\n",
    "nltk.download('stopwords')\n",
    "import spacy\n",
    "\n",
    "from sklearn.model_selection import KFold\n",
    "from sklearn.pipeline import Pipeline\n",
    "from sklearn.feature_extraction.text import TfidfVectorizer\n",
    "from sklearn.naive_bayes import MultinomialNB\n",
    "from sklearn.svm import LinearSVC\n",
    "from sklearn.linear_model import LogisticRegression\n",
    "from sklearn.tree import DecisionTreeClassifier\n",
    "from sklearn import metrics\n",
    "from sklearn.utils import resample\n",
    "\n",
    "import requests\n",
    "from bs4 import BeautifulSoup"
   ]
  },
  {
   "cell_type": "markdown",
   "metadata": {},
   "source": [
    "## Load and pre-process data\n",
    "---"
   ]
  },
  {
   "cell_type": "markdown",
   "metadata": {},
   "source": [
    "The data used comes from the 'Amazon Cell Phones Reviews' dataset found in Kaggle (https://www.kaggle.com/grikomsn/amazon-cell-phones-reviews)"
   ]
  },
  {
   "cell_type": "code",
   "execution_count": 2,
   "metadata": {},
   "outputs": [],
   "source": [
    "#Read the reviews dataset\n",
    "if os.path.exists('20191226-reviews.csv'):\n",
    "    df = pd.read_csv('20191226-reviews.csv')\n",
    "else:\n",
    "    df = pd.read_csv('https://drive.google.com/uc?id=1jwYbSTB4m0LaWKl0UCxcWLiJdLHpsnFX&export=download')\n",
    "df = df.drop('name', axis=1)"
   ]
  },
  {
   "cell_type": "code",
   "execution_count": 3,
   "metadata": {},
   "outputs": [
    {
     "name": "stdout",
     "output_type": "stream",
     "text": [
      "asin                0\n",
      "rating              0\n",
      "date                0\n",
      "verified            0\n",
      "title              14\n",
      "body               21\n",
      "helpfulVotes    40771\n",
      "dtype: int64\n"
     ]
    }
   ],
   "source": [
    "#Check for missing data\n",
    "missing_data = df.isnull().sum()\n",
    "print(missing_data)"
   ]
  },
  {
   "cell_type": "code",
   "execution_count": 4,
   "metadata": {},
   "outputs": [
    {
     "data": {
      "text/plain": [
       "(array([ 9445, 18055, 19749, 20892, 21149, 21887, 22917, 29501, 30010,\n",
       "        35596, 36845, 43415, 45899, 46470, 51628, 52176, 55171, 57837,\n",
       "        61074, 62205, 64371], dtype=int64),)"
      ]
     },
     "execution_count": 4,
     "metadata": {},
     "output_type": "execute_result"
    }
   ],
   "source": [
    "#Remove empty reviews\n",
    "empty_reviews = np.where(pd.isnull(df.body))\n",
    "df.drop(list(empty_reviews)[0],inplace=True)\n",
    "empty_reviews"
   ]
  },
  {
   "cell_type": "code",
   "execution_count": 5,
   "metadata": {},
   "outputs": [
    {
     "data": {
      "text/html": [
       "<div>\n",
       "<style scoped>\n",
       "    .dataframe tbody tr th:only-of-type {\n",
       "        vertical-align: middle;\n",
       "    }\n",
       "\n",
       "    .dataframe tbody tr th {\n",
       "        vertical-align: top;\n",
       "    }\n",
       "\n",
       "    .dataframe thead th {\n",
       "        text-align: right;\n",
       "    }\n",
       "</style>\n",
       "<table border=\"1\" class=\"dataframe\">\n",
       "  <thead>\n",
       "    <tr style=\"text-align: right;\">\n",
       "      <th></th>\n",
       "      <th>asin</th>\n",
       "      <th>rating</th>\n",
       "      <th>date</th>\n",
       "      <th>verified</th>\n",
       "      <th>title</th>\n",
       "      <th>body</th>\n",
       "      <th>helpfulVotes</th>\n",
       "    </tr>\n",
       "  </thead>\n",
       "  <tbody>\n",
       "    <tr>\n",
       "      <th>0</th>\n",
       "      <td>B0000SX2UC</td>\n",
       "      <td>3</td>\n",
       "      <td>October 11, 2005</td>\n",
       "      <td>False</td>\n",
       "      <td>Def not best, but not worst</td>\n",
       "      <td>I had the Samsung A600 for awhile which is abs...</td>\n",
       "      <td>1.0</td>\n",
       "    </tr>\n",
       "    <tr>\n",
       "      <th>1</th>\n",
       "      <td>B0000SX2UC</td>\n",
       "      <td>1</td>\n",
       "      <td>January 7, 2004</td>\n",
       "      <td>False</td>\n",
       "      <td>Text Messaging Doesn't Work</td>\n",
       "      <td>Due to a software issue between Nokia and Spri...</td>\n",
       "      <td>17.0</td>\n",
       "    </tr>\n",
       "    <tr>\n",
       "      <th>2</th>\n",
       "      <td>B0000SX2UC</td>\n",
       "      <td>5</td>\n",
       "      <td>December 30, 2003</td>\n",
       "      <td>False</td>\n",
       "      <td>Love This Phone</td>\n",
       "      <td>This is a great, reliable phone. I also purcha...</td>\n",
       "      <td>5.0</td>\n",
       "    </tr>\n",
       "    <tr>\n",
       "      <th>3</th>\n",
       "      <td>B0000SX2UC</td>\n",
       "      <td>3</td>\n",
       "      <td>March 18, 2004</td>\n",
       "      <td>False</td>\n",
       "      <td>Love the Phone, BUT...!</td>\n",
       "      <td>I love the phone and all, because I really did...</td>\n",
       "      <td>1.0</td>\n",
       "    </tr>\n",
       "    <tr>\n",
       "      <th>4</th>\n",
       "      <td>B0000SX2UC</td>\n",
       "      <td>4</td>\n",
       "      <td>August 28, 2005</td>\n",
       "      <td>False</td>\n",
       "      <td>Great phone service and options, lousy case!</td>\n",
       "      <td>The phone has been great for every purpose it ...</td>\n",
       "      <td>1.0</td>\n",
       "    </tr>\n",
       "    <tr>\n",
       "      <th>5</th>\n",
       "      <td>B0000SX2UC</td>\n",
       "      <td>4</td>\n",
       "      <td>September 25, 2005</td>\n",
       "      <td>False</td>\n",
       "      <td>Worked great for me</td>\n",
       "      <td>Hello, I have this phone and used it until I d...</td>\n",
       "      <td>NaN</td>\n",
       "    </tr>\n",
       "    <tr>\n",
       "      <th>6</th>\n",
       "      <td>B0000SX2UC</td>\n",
       "      <td>5</td>\n",
       "      <td>April 16, 2004</td>\n",
       "      <td>False</td>\n",
       "      <td>Wanna cool Nokia? You have it here!</td>\n",
       "      <td>Cool. Cheap. Color: 3 words that describe the ...</td>\n",
       "      <td>2.0</td>\n",
       "    </tr>\n",
       "    <tr>\n",
       "      <th>7</th>\n",
       "      <td>B0000SX2UC</td>\n",
       "      <td>4</td>\n",
       "      <td>April 3, 2004</td>\n",
       "      <td>False</td>\n",
       "      <td>Problem with 3588i universal headset</td>\n",
       "      <td>The 3599i is overall a nice phone, except that...</td>\n",
       "      <td>2.0</td>\n",
       "    </tr>\n",
       "    <tr>\n",
       "      <th>8</th>\n",
       "      <td>B0000SX2UC</td>\n",
       "      <td>5</td>\n",
       "      <td>November 24, 2003</td>\n",
       "      <td>False</td>\n",
       "      <td>cool phone!!!!!!!!</td>\n",
       "      <td>I've never owned a Nokia phone before, so this...</td>\n",
       "      <td>7.0</td>\n",
       "    </tr>\n",
       "    <tr>\n",
       "      <th>9</th>\n",
       "      <td>B0000SX2UC</td>\n",
       "      <td>3</td>\n",
       "      <td>February 2, 2004</td>\n",
       "      <td>False</td>\n",
       "      <td>Pissed off-a little bit</td>\n",
       "      <td>ok well im in school and i need the text messa...</td>\n",
       "      <td>3.0</td>\n",
       "    </tr>\n",
       "  </tbody>\n",
       "</table>\n",
       "</div>"
      ],
      "text/plain": [
       "         asin  rating                date  verified  \\\n",
       "0  B0000SX2UC       3    October 11, 2005     False   \n",
       "1  B0000SX2UC       1     January 7, 2004     False   \n",
       "2  B0000SX2UC       5   December 30, 2003     False   \n",
       "3  B0000SX2UC       3      March 18, 2004     False   \n",
       "4  B0000SX2UC       4     August 28, 2005     False   \n",
       "5  B0000SX2UC       4  September 25, 2005     False   \n",
       "6  B0000SX2UC       5      April 16, 2004     False   \n",
       "7  B0000SX2UC       4       April 3, 2004     False   \n",
       "8  B0000SX2UC       5   November 24, 2003     False   \n",
       "9  B0000SX2UC       3    February 2, 2004     False   \n",
       "\n",
       "                                          title  \\\n",
       "0                   Def not best, but not worst   \n",
       "1                   Text Messaging Doesn't Work   \n",
       "2                               Love This Phone   \n",
       "3                       Love the Phone, BUT...!   \n",
       "4  Great phone service and options, lousy case!   \n",
       "5                           Worked great for me   \n",
       "6           Wanna cool Nokia? You have it here!   \n",
       "7          Problem with 3588i universal headset   \n",
       "8                            cool phone!!!!!!!!   \n",
       "9                       Pissed off-a little bit   \n",
       "\n",
       "                                                body  helpfulVotes  \n",
       "0  I had the Samsung A600 for awhile which is abs...           1.0  \n",
       "1  Due to a software issue between Nokia and Spri...          17.0  \n",
       "2  This is a great, reliable phone. I also purcha...           5.0  \n",
       "3  I love the phone and all, because I really did...           1.0  \n",
       "4  The phone has been great for every purpose it ...           1.0  \n",
       "5  Hello, I have this phone and used it until I d...           NaN  \n",
       "6  Cool. Cheap. Color: 3 words that describe the ...           2.0  \n",
       "7  The 3599i is overall a nice phone, except that...           2.0  \n",
       "8  I've never owned a Nokia phone before, so this...           7.0  \n",
       "9  ok well im in school and i need the text messa...           3.0  "
      ]
     },
     "execution_count": 5,
     "metadata": {},
     "output_type": "execute_result"
    }
   ],
   "source": [
    "df.head(10)"
   ]
  },
  {
   "cell_type": "code",
   "execution_count": 6,
   "metadata": {},
   "outputs": [
    {
     "data": {
      "text/html": [
       "<div>\n",
       "<style scoped>\n",
       "    .dataframe tbody tr th:only-of-type {\n",
       "        vertical-align: middle;\n",
       "    }\n",
       "\n",
       "    .dataframe tbody tr th {\n",
       "        vertical-align: top;\n",
       "    }\n",
       "\n",
       "    .dataframe thead th {\n",
       "        text-align: right;\n",
       "    }\n",
       "</style>\n",
       "<table border=\"1\" class=\"dataframe\">\n",
       "  <thead>\n",
       "    <tr style=\"text-align: right;\">\n",
       "      <th></th>\n",
       "      <th>reviews</th>\n",
       "      <th>ratings</th>\n",
       "    </tr>\n",
       "  </thead>\n",
       "  <tbody>\n",
       "    <tr>\n",
       "      <th>0</th>\n",
       "      <td>I had the Samsung A600 for awhile which is abs...</td>\n",
       "      <td>3</td>\n",
       "    </tr>\n",
       "    <tr>\n",
       "      <th>1</th>\n",
       "      <td>Due to a software issue between Nokia and Spri...</td>\n",
       "      <td>1</td>\n",
       "    </tr>\n",
       "    <tr>\n",
       "      <th>2</th>\n",
       "      <td>This is a great, reliable phone. I also purcha...</td>\n",
       "      <td>5</td>\n",
       "    </tr>\n",
       "    <tr>\n",
       "      <th>3</th>\n",
       "      <td>I love the phone and all, because I really did...</td>\n",
       "      <td>3</td>\n",
       "    </tr>\n",
       "    <tr>\n",
       "      <th>4</th>\n",
       "      <td>The phone has been great for every purpose it ...</td>\n",
       "      <td>4</td>\n",
       "    </tr>\n",
       "  </tbody>\n",
       "</table>\n",
       "</div>"
      ],
      "text/plain": [
       "                                             reviews  ratings\n",
       "0  I had the Samsung A600 for awhile which is abs...        3\n",
       "1  Due to a software issue between Nokia and Spri...        1\n",
       "2  This is a great, reliable phone. I also purcha...        5\n",
       "3  I love the phone and all, because I really did...        3\n",
       "4  The phone has been great for every purpose it ...        4"
      ]
     },
     "execution_count": 6,
     "metadata": {},
     "output_type": "execute_result"
    }
   ],
   "source": [
    "#Isolate body and rating columns in a new dataset\n",
    "reviews_dataset = pd.DataFrame({'reviews':df.body.values, 'ratings':df.rating.values})\n",
    "#reviews_dataset.to_csv('reviews.csv')\n",
    "reviews_dataset.head()"
   ]
  },
  {
   "cell_type": "markdown",
   "metadata": {},
   "source": [
    "After removing the lines containing the empty reviews and creating a new dataset by keeping only the reviews and ratings column, the reviews column was loaded in XLSX format at https://translate.google.gr/?hl=el&sl=auto&tl=el&op=docs and translated. The output was an HTML table that was launched via Excel and stored in CSV format with name 'translate.csv'."
   ]
  },
  {
   "cell_type": "code",
   "execution_count": 7,
   "metadata": {},
   "outputs": [
    {
     "data": {
      "text/html": [
       "<div>\n",
       "<style scoped>\n",
       "    .dataframe tbody tr th:only-of-type {\n",
       "        vertical-align: middle;\n",
       "    }\n",
       "\n",
       "    .dataframe tbody tr th {\n",
       "        vertical-align: top;\n",
       "    }\n",
       "\n",
       "    .dataframe thead th {\n",
       "        text-align: right;\n",
       "    }\n",
       "</style>\n",
       "<table border=\"1\" class=\"dataframe\">\n",
       "  <thead>\n",
       "    <tr style=\"text-align: right;\">\n",
       "      <th></th>\n",
       "      <th>reviews</th>\n",
       "      <th>greek</th>\n",
       "      <th>ratings</th>\n",
       "    </tr>\n",
       "  </thead>\n",
       "  <tbody>\n",
       "    <tr>\n",
       "      <th>0</th>\n",
       "      <td>I had the Samsung A600 for awhile which is abs...</td>\n",
       "      <td>Είχα το Samsung A600 για λίγο που είναι απόλυτ...</td>\n",
       "      <td>3</td>\n",
       "    </tr>\n",
       "    <tr>\n",
       "      <th>1</th>\n",
       "      <td>Due to a software issue between Nokia and Spri...</td>\n",
       "      <td>Λόγω ενός προβλήματος λογισμικού μεταξύ της No...</td>\n",
       "      <td>1</td>\n",
       "    </tr>\n",
       "    <tr>\n",
       "      <th>2</th>\n",
       "      <td>This is a great, reliable phone. I also purcha...</td>\n",
       "      <td>Αυτό είναι ένα υπέροχο, αξιόπιστο τηλέφωνο. Αγ...</td>\n",
       "      <td>5</td>\n",
       "    </tr>\n",
       "    <tr>\n",
       "      <th>3</th>\n",
       "      <td>I love the phone and all, because I really did...</td>\n",
       "      <td>Λατρεύω το τηλέφωνο και όλα, γιατί πραγματικά ...</td>\n",
       "      <td>3</td>\n",
       "    </tr>\n",
       "    <tr>\n",
       "      <th>4</th>\n",
       "      <td>The phone has been great for every purpose it ...</td>\n",
       "      <td>Το τηλέφωνο ήταν τέλειο για κάθε σκοπό που προ...</td>\n",
       "      <td>4</td>\n",
       "    </tr>\n",
       "    <tr>\n",
       "      <th>5</th>\n",
       "      <td>Hello, I have this phone and used it until I d...</td>\n",
       "      <td>Γεια σας, έχω αυτό το τηλέφωνο και το χρησιμοπ...</td>\n",
       "      <td>4</td>\n",
       "    </tr>\n",
       "    <tr>\n",
       "      <th>6</th>\n",
       "      <td>Cool. Cheap. Color: 3 words that describe the ...</td>\n",
       "      <td>Δροσερός. Φτηνός. Χρώμα: 3 λέξεις που περιγράφ...</td>\n",
       "      <td>5</td>\n",
       "    </tr>\n",
       "    <tr>\n",
       "      <th>7</th>\n",
       "      <td>The 3599i is overall a nice phone, except that...</td>\n",
       "      <td>Το 3599i είναι γενικά ένα ωραίο τηλέφωνο, εκτό...</td>\n",
       "      <td>4</td>\n",
       "    </tr>\n",
       "    <tr>\n",
       "      <th>8</th>\n",
       "      <td>I've never owned a Nokia phone before, so this...</td>\n",
       "      <td>Δεν είχα ποτέ προηγουμένως τηλέφωνο Nokia, γι ...</td>\n",
       "      <td>5</td>\n",
       "    </tr>\n",
       "    <tr>\n",
       "      <th>9</th>\n",
       "      <td>ok well im in school and i need the text messa...</td>\n",
       "      <td>εντάξει, είμαι στο σχολείο και χρειάζομαι τα γ...</td>\n",
       "      <td>3</td>\n",
       "    </tr>\n",
       "  </tbody>\n",
       "</table>\n",
       "</div>"
      ],
      "text/plain": [
       "                                             reviews  \\\n",
       "0  I had the Samsung A600 for awhile which is abs...   \n",
       "1  Due to a software issue between Nokia and Spri...   \n",
       "2  This is a great, reliable phone. I also purcha...   \n",
       "3  I love the phone and all, because I really did...   \n",
       "4  The phone has been great for every purpose it ...   \n",
       "5  Hello, I have this phone and used it until I d...   \n",
       "6  Cool. Cheap. Color: 3 words that describe the ...   \n",
       "7  The 3599i is overall a nice phone, except that...   \n",
       "8  I've never owned a Nokia phone before, so this...   \n",
       "9  ok well im in school and i need the text messa...   \n",
       "\n",
       "                                               greek  ratings  \n",
       "0  Είχα το Samsung A600 για λίγο που είναι απόλυτ...        3  \n",
       "1  Λόγω ενός προβλήματος λογισμικού μεταξύ της No...        1  \n",
       "2  Αυτό είναι ένα υπέροχο, αξιόπιστο τηλέφωνο. Αγ...        5  \n",
       "3  Λατρεύω το τηλέφωνο και όλα, γιατί πραγματικά ...        3  \n",
       "4  Το τηλέφωνο ήταν τέλειο για κάθε σκοπό που προ...        4  \n",
       "5  Γεια σας, έχω αυτό το τηλέφωνο και το χρησιμοπ...        4  \n",
       "6  Δροσερός. Φτηνός. Χρώμα: 3 λέξεις που περιγράφ...        5  \n",
       "7  Το 3599i είναι γενικά ένα ωραίο τηλέφωνο, εκτό...        4  \n",
       "8  Δεν είχα ποτέ προηγουμένως τηλέφωνο Nokia, γι ...        5  \n",
       "9  εντάξει, είμαι στο σχολείο και χρειάζομαι τα γ...        3  "
      ]
     },
     "execution_count": 7,
     "metadata": {},
     "output_type": "execute_result"
    }
   ],
   "source": [
    "if os.path.exists('translated.csv'):\n",
    "    translated = pd.read_csv('translated.csv',header=None)\n",
    "else:\n",
    "    translated = pd.read_csv('https://drive.google.com/uc?id=1Jr4Mvh4V4xtR6_47jIIyJ8N6pebunmni&export=download',\n",
    "                         header=None)\n",
    "reviews_dataset.insert(loc=1, column='greek', value=translated)\n",
    "reviews_dataset.head(10)"
   ]
  },
  {
   "cell_type": "markdown",
   "metadata": {},
   "source": [
    "Introducing a function to clean the translated text, that converts words to lowercase, removes punctuation and stopwords and applies lemmatization."
   ]
  },
  {
   "cell_type": "code",
   "execution_count": 8,
   "metadata": {},
   "outputs": [],
   "source": [
    "#Clean reviews text\n",
    "punctuation = set(string.punctuation)\n",
    "latin = re.compile(r'[^a-zÀ-ÿ0-9]+') #Locate digits and Latin characters\n",
    "special_chars = re.compile('[u\"\\U0001F300-\\U0001F5FF\"]+',flags=re.UNICODE) #Locate special characters like emojis\n",
    "nlp = spacy.load('el_core_news_sm')\n",
    "\n",
    "def clean_text(text):\n",
    "    \"\"\"Accepts a string a input and applies a cleaning pipeline,\n",
    "       converting to lowercase, removing special characters, punctuation\n",
    "       and stopwords and performing lemmatization.\n",
    "       The output is the cleaned input string.\n",
    "    \"\"\"\n",
    "    # Convert the text into lowercase\n",
    "    text = text.lower()\n",
    "    # Remove special characters\n",
    "    text = special_chars.sub(r'',text)\n",
    "    # Remove Latin characters\n",
    "    wordList = latin.findall(text)\n",
    "    # Remove punctuation\n",
    "    wordList = [\"\".join(x for x in word if (x==\"'\")|(x not in punctuation)) for word in wordList]\n",
    "    # Remove stopwords\n",
    "    wordList = [word for word in wordList if word not in stopwords.words('greek')]\n",
    "    # Lemmatisation\n",
    "    cleaned_text = nlp(\" \".join(wordList))\n",
    "    cleaned_text = [token.lemma_ for token in cleaned_text]\n",
    "    return \" \".join(cleaned_text).strip()"
   ]
  },
  {
   "cell_type": "markdown",
   "metadata": {},
   "source": [
    "Due to long execution time the results of the following cell execution were stored in the cleaned.csv file, to get retrieved directly from there."
   ]
  },
  {
   "cell_type": "code",
   "execution_count": 9,
   "metadata": {},
   "outputs": [],
   "source": [
    "#start = time.process_time()\n",
    "#reviews_dataset['cleaned_text'] = reviews_dataset['greek'].apply(clean_text)\n",
    "#print(time.process_time() - start)\n",
    "#reviews_dataset.to_csv('cleaned.csv')\n",
    "if os.path.exists('cleaned.csv'):\n",
    "    reviews_dataset = pd.read_csv('cleaned.csv')\n",
    "else:\n",
    "    reviews_dataset = pd.read_csv('https://drive.google.com/uc?id=1I9_zVYFblWO4uYP3-WsIkV-RPdsUMx2o&export=download',\n",
    "                              index_col=0)"
   ]
  },
  {
   "cell_type": "code",
   "execution_count": 10,
   "metadata": {},
   "outputs": [
    {
     "name": "stderr",
     "output_type": "stream",
     "text": [
      "C:\\Users\\John\\Anaconda3\\envs\\MLtask\\lib\\site-packages\\seaborn\\_decorators.py:36: FutureWarning: Pass the following variable as a keyword arg: x. From version 0.12, the only valid positional argument will be `data`, and passing other arguments without an explicit keyword will result in an error or misinterpretation.\n",
      "  warnings.warn(\n"
     ]
    },
    {
     "data": {
      "text/plain": [
       "<AxesSubplot:xlabel='ratings', ylabel='count'>"
      ]
     },
     "execution_count": 10,
     "metadata": {},
     "output_type": "execute_result"
    },
    {
     "data": {
      "image/png": "[encoded data removed]",
      "text/plain": [
       "<Figure size 432x288 with 1 Axes>"
      ]
     },
     "metadata": {
      "needs_background": "light"
     },
     "output_type": "display_data"
    }
   ],
   "source": [
    "# Check the ratings count\n",
    "\n",
    "sns.countplot(reviews_dataset['ratings'])"
   ]
  },
  {
   "cell_type": "markdown",
   "metadata": {},
   "source": [
    "The `4` and `5` star (positive) ratings combined are more than the `1`,`2` ones (negative) combined. Hence, I decided to add the `3` star ratings to the negative ratings. In order to simplify the situation, I replaced the `4`,`5` star ratings with the label `1`, to indicate positive sentiment and the `1`,`2`,`3` star ratings with the label `0`, to indicate negative sentiment."
   ]
  },
  {
   "cell_type": "code",
   "execution_count": 11,
   "metadata": {},
   "outputs": [
    {
     "data": {
      "text/html": [
       "<div>\n",
       "<style scoped>\n",
       "    .dataframe tbody tr th:only-of-type {\n",
       "        vertical-align: middle;\n",
       "    }\n",
       "\n",
       "    .dataframe tbody tr th {\n",
       "        vertical-align: top;\n",
       "    }\n",
       "\n",
       "    .dataframe thead th {\n",
       "        text-align: right;\n",
       "    }\n",
       "</style>\n",
       "<table border=\"1\" class=\"dataframe\">\n",
       "  <thead>\n",
       "    <tr style=\"text-align: right;\">\n",
       "      <th></th>\n",
       "      <th>Unnamed: 0</th>\n",
       "      <th>reviews</th>\n",
       "      <th>greek</th>\n",
       "      <th>ratings</th>\n",
       "      <th>cleaned_text</th>\n",
       "    </tr>\n",
       "  </thead>\n",
       "  <tbody>\n",
       "    <tr>\n",
       "      <th>0</th>\n",
       "      <td>0</td>\n",
       "      <td>I had the Samsung A600 for awhile which is abs...</td>\n",
       "      <td>Είχα το Samsung A600 για λίγο που είναι απόλυτ...</td>\n",
       "      <td>0</td>\n",
       "      <td>έχω το      για λίγο που είναι απόλυτος      μ...</td>\n",
       "    </tr>\n",
       "    <tr>\n",
       "      <th>1</th>\n",
       "      <td>1</td>\n",
       "      <td>Due to a software issue between Nokia and Spri...</td>\n",
       "      <td>Λόγω ενός προβλήματος λογισμικού μεταξύ της No...</td>\n",
       "      <td>0</td>\n",
       "      <td>λόγω ενός προβλήματος λογισμικός μεταξύ της   ...</td>\n",
       "    </tr>\n",
       "    <tr>\n",
       "      <th>2</th>\n",
       "      <td>2</td>\n",
       "      <td>This is a great, reliable phone. I also purcha...</td>\n",
       "      <td>Αυτό είναι ένα υπέροχο, αξιόπιστο τηλέφωνο. Αγ...</td>\n",
       "      <td>1</td>\n",
       "      <td>αυτό είναι ένα υπέροχος αξιόπιστος τηλέφωνο αγ...</td>\n",
       "    </tr>\n",
       "    <tr>\n",
       "      <th>3</th>\n",
       "      <td>3</td>\n",
       "      <td>I love the phone and all, because I really did...</td>\n",
       "      <td>Λατρεύω το τηλέφωνο και όλα, γιατί πραγματικά ...</td>\n",
       "      <td>0</td>\n",
       "      <td>λατρεύω το τηλέφωνος και όλος γιατί πραγματικά...</td>\n",
       "    </tr>\n",
       "    <tr>\n",
       "      <th>4</th>\n",
       "      <td>4</td>\n",
       "      <td>The phone has been great for every purpose it ...</td>\n",
       "      <td>Το τηλέφωνο ήταν τέλειο για κάθε σκοπό που προ...</td>\n",
       "      <td>1</td>\n",
       "      <td>το τηλέφωνος ήταν τέλειος για κάθε σκοπό που π...</td>\n",
       "    </tr>\n",
       "    <tr>\n",
       "      <th>5</th>\n",
       "      <td>5</td>\n",
       "      <td>Hello, I have this phone and used it until I d...</td>\n",
       "      <td>Γεια σας, έχω αυτό το τηλέφωνο και το χρησιμοπ...</td>\n",
       "      <td>1</td>\n",
       "      <td>γειας σας έχω αυτό το τηλέφωνος και το χρησιμο...</td>\n",
       "    </tr>\n",
       "    <tr>\n",
       "      <th>6</th>\n",
       "      <td>6</td>\n",
       "      <td>Cool. Cheap. Color: 3 words that describe the ...</td>\n",
       "      <td>Δροσερός. Φτηνός. Χρώμα: 3 λέξεις που περιγράφ...</td>\n",
       "      <td>1</td>\n",
       "      <td>δροσερός φτηνό χρώμα    λέξει που περιγράφω τέ...</td>\n",
       "    </tr>\n",
       "    <tr>\n",
       "      <th>7</th>\n",
       "      <td>7</td>\n",
       "      <td>The 3599i is overall a nice phone, except that...</td>\n",
       "      <td>Το 3599i είναι γενικά ένα ωραίο τηλέφωνο, εκτό...</td>\n",
       "      <td>1</td>\n",
       "      <td>το    είναι γενικά ένα ωραίος τηλέφωνο εκτός α...</td>\n",
       "    </tr>\n",
       "    <tr>\n",
       "      <th>8</th>\n",
       "      <td>8</td>\n",
       "      <td>I've never owned a Nokia phone before, so this...</td>\n",
       "      <td>Δεν είχα ποτέ προηγουμένως τηλέφωνο Nokia, γι ...</td>\n",
       "      <td>1</td>\n",
       "      <td>δεν έχω ποτέ προηγουμένως τηλέφωνος    γι ' αυ...</td>\n",
       "    </tr>\n",
       "    <tr>\n",
       "      <th>9</th>\n",
       "      <td>9</td>\n",
       "      <td>ok well im in school and i need the text messa...</td>\n",
       "      <td>εντάξει, είμαι στο σχολείο και χρειάζομαι τα γ...</td>\n",
       "      <td>0</td>\n",
       "      <td>εντάξω είμαι στο σχολείο και χρειάζομαι τα γρα...</td>\n",
       "    </tr>\n",
       "  </tbody>\n",
       "</table>\n",
       "</div>"
      ],
      "text/plain": [
       "   Unnamed: 0                                            reviews  \\\n",
       "0           0  I had the Samsung A600 for awhile which is abs...   \n",
       "1           1  Due to a software issue between Nokia and Spri...   \n",
       "2           2  This is a great, reliable phone. I also purcha...   \n",
       "3           3  I love the phone and all, because I really did...   \n",
       "4           4  The phone has been great for every purpose it ...   \n",
       "5           5  Hello, I have this phone and used it until I d...   \n",
       "6           6  Cool. Cheap. Color: 3 words that describe the ...   \n",
       "7           7  The 3599i is overall a nice phone, except that...   \n",
       "8           8  I've never owned a Nokia phone before, so this...   \n",
       "9           9  ok well im in school and i need the text messa...   \n",
       "\n",
       "                                               greek  ratings  \\\n",
       "0  Είχα το Samsung A600 για λίγο που είναι απόλυτ...        0   \n",
       "1  Λόγω ενός προβλήματος λογισμικού μεταξύ της No...        0   \n",
       "2  Αυτό είναι ένα υπέροχο, αξιόπιστο τηλέφωνο. Αγ...        1   \n",
       "3  Λατρεύω το τηλέφωνο και όλα, γιατί πραγματικά ...        0   \n",
       "4  Το τηλέφωνο ήταν τέλειο για κάθε σκοπό που προ...        1   \n",
       "5  Γεια σας, έχω αυτό το τηλέφωνο και το χρησιμοπ...        1   \n",
       "6  Δροσερός. Φτηνός. Χρώμα: 3 λέξεις που περιγράφ...        1   \n",
       "7  Το 3599i είναι γενικά ένα ωραίο τηλέφωνο, εκτό...        1   \n",
       "8  Δεν είχα ποτέ προηγουμένως τηλέφωνο Nokia, γι ...        1   \n",
       "9  εντάξει, είμαι στο σχολείο και χρειάζομαι τα γ...        0   \n",
       "\n",
       "                                        cleaned_text  \n",
       "0  έχω το      για λίγο που είναι απόλυτος      μ...  \n",
       "1  λόγω ενός προβλήματος λογισμικός μεταξύ της   ...  \n",
       "2  αυτό είναι ένα υπέροχος αξιόπιστος τηλέφωνο αγ...  \n",
       "3  λατρεύω το τηλέφωνος και όλος γιατί πραγματικά...  \n",
       "4  το τηλέφωνος ήταν τέλειος για κάθε σκοπό που π...  \n",
       "5  γειας σας έχω αυτό το τηλέφωνος και το χρησιμο...  \n",
       "6  δροσερός φτηνό χρώμα    λέξει που περιγράφω τέ...  \n",
       "7  το    είναι γενικά ένα ωραίος τηλέφωνο εκτός α...  \n",
       "8  δεν έχω ποτέ προηγουμένως τηλέφωνος    γι ' αυ...  \n",
       "9  εντάξω είμαι στο σχολείο και χρειάζομαι τα γρα...  "
      ]
     },
     "execution_count": 11,
     "metadata": {},
     "output_type": "execute_result"
    }
   ],
   "source": [
    "sentiment_dict = {1:0, 2:0, 3:0, 4:1, 5:1}\n",
    "reviews_dataset['ratings'].replace(sentiment_dict,inplace=True)\n",
    "reviews_dataset.head(10)"
   ]
  },
  {
   "cell_type": "code",
   "execution_count": 12,
   "metadata": {},
   "outputs": [
    {
     "name": "stderr",
     "output_type": "stream",
     "text": [
      "C:\\Users\\John\\Anaconda3\\envs\\MLtask\\lib\\site-packages\\seaborn\\_decorators.py:36: FutureWarning: Pass the following variable as a keyword arg: x. From version 0.12, the only valid positional argument will be `data`, and passing other arguments without an explicit keyword will result in an error or misinterpretation.\n",
      "  warnings.warn(\n"
     ]
    },
    {
     "data": {
      "text/plain": [
       "<AxesSubplot:xlabel='ratings', ylabel='count'>"
      ]
     },
     "execution_count": 12,
     "metadata": {},
     "output_type": "execute_result"
    },
    {
     "data": {
      "image/png": "[encoded data removed]",
      "text/plain": [
       "<Figure size 432x288 with 1 Axes>"
      ]
     },
     "metadata": {
      "needs_background": "light"
     },
     "output_type": "display_data"
    }
   ],
   "source": [
    "sns.countplot(reviews_dataset['ratings'])"
   ]
  },
  {
   "cell_type": "markdown",
   "metadata": {},
   "source": [
    "After cleaning the data, there were some reviews that provided empty result:"
   ]
  },
  {
   "cell_type": "code",
   "execution_count": 13,
   "metadata": {},
   "outputs": [
    {
     "name": "stdout",
     "output_type": "stream",
     "text": [
      "Unnamed: 0         0\n",
      "reviews            0\n",
      "greek              0\n",
      "ratings            0\n",
      "cleaned_text    2026\n",
      "dtype: int64\n"
     ]
    }
   ],
   "source": [
    "missing_data = reviews_dataset.isnull().sum()\n",
    "print(missing_data)"
   ]
  },
  {
   "cell_type": "code",
   "execution_count": 14,
   "metadata": {},
   "outputs": [
    {
     "data": {
      "text/plain": [
       "(array([ 9445, 18055, 19749, 20892, 21149, 21887, 22917, 29501, 30010,\n",
       "        35596, 36845, 43415, 45899, 46470, 51628, 52176, 55171, 57837,\n",
       "        61074, 62205, 64371], dtype=int64),)"
      ]
     },
     "execution_count": 14,
     "metadata": {},
     "output_type": "execute_result"
    }
   ],
   "source": [
    "nans = np.where(pd.isnull(reviews_dataset.cleaned_text))\n",
    "reviews_dataset.drop(list(nans)[0],inplace=True)\n",
    "empty_reviews"
   ]
  },
  {
   "cell_type": "code",
   "execution_count": 15,
   "metadata": {},
   "outputs": [
    {
     "data": {
      "text/html": [
       "<div>\n",
       "<style scoped>\n",
       "    .dataframe tbody tr th:only-of-type {\n",
       "        vertical-align: middle;\n",
       "    }\n",
       "\n",
       "    .dataframe tbody tr th {\n",
       "        vertical-align: top;\n",
       "    }\n",
       "\n",
       "    .dataframe thead th {\n",
       "        text-align: right;\n",
       "    }\n",
       "</style>\n",
       "<table border=\"1\" class=\"dataframe\">\n",
       "  <thead>\n",
       "    <tr style=\"text-align: right;\">\n",
       "      <th></th>\n",
       "      <th>reviews</th>\n",
       "      <th>ratings</th>\n",
       "    </tr>\n",
       "  </thead>\n",
       "  <tbody>\n",
       "    <tr>\n",
       "      <th>0</th>\n",
       "      <td>έχω το      για λίγο που είναι απόλυτος      μ...</td>\n",
       "      <td>0</td>\n",
       "    </tr>\n",
       "    <tr>\n",
       "      <th>1</th>\n",
       "      <td>λόγω ενός προβλήματος λογισμικός μεταξύ της   ...</td>\n",
       "      <td>0</td>\n",
       "    </tr>\n",
       "    <tr>\n",
       "      <th>2</th>\n",
       "      <td>αυτό είναι ένα υπέροχος αξιόπιστος τηλέφωνο αγ...</td>\n",
       "      <td>1</td>\n",
       "    </tr>\n",
       "    <tr>\n",
       "      <th>3</th>\n",
       "      <td>λατρεύω το τηλέφωνος και όλος γιατί πραγματικά...</td>\n",
       "      <td>0</td>\n",
       "    </tr>\n",
       "    <tr>\n",
       "      <th>4</th>\n",
       "      <td>το τηλέφωνος ήταν τέλειος για κάθε σκοπό που π...</td>\n",
       "      <td>1</td>\n",
       "    </tr>\n",
       "  </tbody>\n",
       "</table>\n",
       "</div>"
      ],
      "text/plain": [
       "                                             reviews  ratings\n",
       "0  έχω το      για λίγο που είναι απόλυτος      μ...        0\n",
       "1  λόγω ενός προβλήματος λογισμικός μεταξύ της   ...        0\n",
       "2  αυτό είναι ένα υπέροχος αξιόπιστος τηλέφωνο αγ...        1\n",
       "3  λατρεύω το τηλέφωνος και όλος γιατί πραγματικά...        0\n",
       "4  το τηλέφωνος ήταν τέλειος για κάθε σκοπό που π...        1"
      ]
     },
     "execution_count": 15,
     "metadata": {},
     "output_type": "execute_result"
    }
   ],
   "source": [
    "#Isolate cleaned text and ratings columns in a new dataset\n",
    "reviews = pd.DataFrame({'reviews':reviews_dataset.cleaned_text.values, 'ratings':reviews_dataset.ratings.values})\n",
    "#reviews_dataset.to_csv('reviews.csv')\n",
    "reviews.head()"
   ]
  },
  {
   "cell_type": "code",
   "execution_count": 16,
   "metadata": {},
   "outputs": [],
   "source": [
    "greek_reviews = reviews.reviews\n",
    "labels = reviews.ratings"
   ]
  },
  {
   "cell_type": "markdown",
   "metadata": {},
   "source": [
    "## Check Positive and Negative usage of words\n",
    "---"
   ]
  },
  {
   "cell_type": "code",
   "execution_count": 17,
   "metadata": {},
   "outputs": [],
   "source": [
    "# Create three Counter objects to store positive, negative and total counts\n",
    "positive_counts = Counter()\n",
    "negative_counts = Counter()\n",
    "total_counts = Counter()"
   ]
  },
  {
   "cell_type": "code",
   "execution_count": 18,
   "metadata": {},
   "outputs": [],
   "source": [
    "# Loop over all the words in all the reviews and increment the counts in the appropriate counter objects\n",
    "for i in range(len(reviews)):\n",
    "    try:\n",
    "        for word in greek_reviews[i].split(\" \"):\n",
    "            total_counts[word] += 1\n",
    "            if labels[i] == 1:\n",
    "                positive_counts[word] += 1\n",
    "            else:\n",
    "                negative_counts[word] += 1\n",
    "    except KeyError:\n",
    "        pass"
   ]
  },
  {
   "cell_type": "code",
   "execution_count": 19,
   "metadata": {},
   "outputs": [],
   "source": [
    "pos_neg_ratios = Counter()\n",
    "pos_neg_ratios_log = Counter()\n",
    "\n",
    "# Calculate the ratios of positive and negative uses of the most common words\n",
    "# Consider words to be \"common\" if they've been used at least 100 times\n",
    "for term,cnt in list(total_counts.most_common()):\n",
    "    if(cnt > 100):\n",
    "        pos_neg_ratios[term] = positive_counts[term] / float(negative_counts[term]+1)\n",
    "        \n",
    "# Convert ratios to logs\n",
    "for word,ratio in pos_neg_ratios.most_common():\n",
    "    pos_neg_ratios_log[word] = np.log(ratio)"
   ]
  },
  {
   "cell_type": "code",
   "execution_count": 20,
   "metadata": {},
   "outputs": [
    {
     "name": "stdout",
     "output_type": "stream",
     "text": [
      "Pos-to-neg ratio for 'λόγω' = 0.2786746254947829\n",
      "Pos-to-neg ratio for 'υπέροχο' = 2.2541794702636917\n",
      "Pos-to-neg ratio for 'απογοητευμένος' = -1.618287527711083\n"
     ]
    }
   ],
   "source": [
    "print(\"Pos-to-neg ratio for 'λόγω' = {}\".format(pos_neg_ratios_log[\"λόγω\"]))\n",
    "print(\"Pos-to-neg ratio for 'υπέροχο' = {}\".format(pos_neg_ratios_log[\"υπέροχο\"]))\n",
    "print(\"Pos-to-neg ratio for 'απογοητευμένος' = {}\".format(pos_neg_ratios_log[\"απογοητευμένος\"]))"
   ]
  },
  {
   "cell_type": "markdown",
   "metadata": {},
   "source": [
    "Neutral words like 'λόγω' have logarithmic pos-to-neg ratio slightly larger than zero. Positive words like 'υπέροχο' logarithmic ratio is larger than `1`, that means it is used mostly in positive reviews, whereas negative words like 'απογοητευμένος' have a ratio value smaller than `-1` indicating that they are used mostly in negative reviews."
   ]
  },
  {
   "cell_type": "code",
   "execution_count": 21,
   "metadata": {},
   "outputs": [
    {
     "data": {
      "text/plain": [
       "{'εξοχο': 4.6913478822291435,\n",
       " 'δουλευει': 4.518158808998462,\n",
       " 'τελεια': 3.817712325956905,\n",
       " 'νικήσω': 3.2358734012367716,\n",
       " 'αγαπω': 3.0647251450409425,\n",
       " 'ανησυχούσας': 3.0155349008501706,\n",
       " 'λατρεύω': 2.807116439488649,\n",
       " 'οπως': 2.7990219793079367,\n",
       " 'προσιτός': 2.716349003916905,\n",
       " 'δύσπισ': 2.6026896854443837,\n",
       " 'ερωτευμένος': 2.5726122302071057,\n",
       " 'ανεπιφύλακτα': 2.568084156266908,\n",
       " 'αναμενόμενο': 2.523822066037674,\n",
       " 'ομαλό': 2.51939282585917,\n",
       " 'διστακτικός': 2.4619171315633017,\n",
       " 'αγαπά': 2.4069451083182885,\n",
       " 'αγαπήστε': 2.4010251658072983,\n",
       " 'εξαιρετικό': 2.4008047889620023,\n",
       " 'ξεπερνά': 2.3877429013343527,\n",
       " 'συνιστάται': 2.346436975522895}"
      ]
     },
     "execution_count": 21,
     "metadata": {},
     "output_type": "execute_result"
    }
   ],
   "source": [
    "dict(pos_neg_ratios_log.most_common()[0:20])"
   ]
  },
  {
   "cell_type": "code",
   "execution_count": 22,
   "metadata": {},
   "outputs": [
    {
     "data": {
      "text/plain": [
       "{'απογοητευμένος': -1.618287527711083,\n",
       " 'ελαττωματικός': -1.6221230719614161,\n",
       " 'σκουπιδιά': -1.661884387806643,\n",
       " 'επισκευάσω': -1.6711314814394402,\n",
       " 'σπαταλώ': -1.7211419020141017,\n",
       " 'σταμάτησε': -1.7482743572883161,\n",
       " 'σταματά': -1.836211231798889,\n",
       " 'μητρικός': -1.8935421635379972,\n",
       " 'άχρηστο': -1.916922612182061,\n",
       " 'εγγύησή': -1.9236870122706031,\n",
       " 'τυχαίας': -1.967112356705916,\n",
       " 'χρημάτα': -1.9745325952326636,\n",
       " 'ελαττωματικό': -1.9830278120118159,\n",
       " 'απενεργοποιείται': -2.0149030205422647,\n",
       " 'κολλημένος': -2.087223682121891,\n",
       " 'επιστροφός': -2.0914657346466377,\n",
       " 'επισκευή': -2.132581721074134,\n",
       " 'απάτη': -2.167548809190103,\n",
       " 'σπατάλη': -2.468099531471619,\n",
       " 'αγορασω': -2.6026896854443837}"
      ]
     },
     "execution_count": 22,
     "metadata": {},
     "output_type": "execute_result"
    }
   ],
   "source": [
    "dict(pos_neg_ratios_log.most_common()[-20:])"
   ]
  },
  {
   "cell_type": "markdown",
   "metadata": {},
   "source": [
    "As a final preparation step, the tf-idf vectorizer was used to transform the words in vectors according to their frequency and importance. As it is mentioned at the [corresponding scikit learn documentation topic](https://scikit-learn.org/stable/modules/generated/sklearn.feature_extraction.text.TfidfTransformer.html), the goal of using tf-idf instead of the raw frequencies of occurrence of a token in a given document is to scale down the impact of tokens that occur very frequently in a given corpus and that are hence empirically less informative than features that occur in a small fraction of the training corpus."
   ]
  },
  {
   "cell_type": "code",
   "execution_count": 23,
   "metadata": {},
   "outputs": [
    {
     "name": "stdout",
     "output_type": "stream",
     "text": [
      "  (0, 11)\t0.02538365412834048\n",
      "  (0, 9)\t0.02538365412834048\n",
      "  (0, 6)\t0.02538365412834048\n",
      "  (0, 18)\t0.02538365412834048\n",
      "  (0, 15)\t0.02538365412834048\n",
      "  (0, 3)\t0.02538365412834048\n",
      "  (0, 0)\t0.02538365412834048\n",
      "  (0, 14)\t0.02538365412834048\n",
      "  (0, 1)\t0.02538365412834048\n",
      "  (0, 19)\t0.02538365412834048\n",
      "  (0, 10)\t0.02538365412834048\n",
      "  (0, 2)\t0.02538365412834048\n",
      "  (0, 12)\t0.02538365412834048\n",
      "  (0, 16)\t0.02538365412834048\n",
      "  (0, 8)\t0.02538365412834048\n",
      "  (0, 17)\t0.02538365412834048\n",
      "  (0, 4)\t0.02538365412834048\n",
      "  (0, 13)\t0.02538365412834048\n",
      "  (0, 7)\t0.02538365412834048\n",
      "  (0, 5)\t0.07615096238502143\n"
     ]
    }
   ],
   "source": [
    "tfidf = TfidfVectorizer()\n",
    "vectorized = tfidf.fit_transform([reviews.reviews[0]])\n",
    "print(vectorized[0,0:20])"
   ]
  },
  {
   "cell_type": "markdown",
   "metadata": {},
   "source": [
    "## Machine Learning Pipeline\n",
    "---"
   ]
  },
  {
   "cell_type": "markdown",
   "metadata": {},
   "source": [
    "In order to feed the classifiers with data, the dataset is brought to the form X,y, where X is the column that contains the text reviews and y the column that contains the target sentiment values."
   ]
  },
  {
   "cell_type": "code",
   "execution_count": 24,
   "metadata": {},
   "outputs": [],
   "source": [
    "tfidfvectorizer = TfidfVectorizer()\n",
    "X = tfidfvectorizer.fit_transform(reviews['reviews'])\n",
    "y = reviews['ratings']"
   ]
  },
  {
   "cell_type": "code",
   "execution_count": 25,
   "metadata": {},
   "outputs": [],
   "source": [
    "def model_training(X,y,algorithm,balanced=False):\n",
    "    \"\"\"Training Pipeline implementation. The function accepts as input a feature matrix,\n",
    "       a target values vector and a classifier. The performance is tested via a 20 fold validation procedure.\n",
    "       The model average training and testing time and several classification algorithms metrics are produced.\n",
    "       Returns the trained model, along with a dictionary of the produced metrics\n",
    "    \"\"\"    \n",
    "    metrics_dict = {}\n",
    "    n_splits = 25\n",
    "    #print algorithm\n",
    "    print('########## Using',str(algorithm),'classifier ##########\\n')\n",
    "    \n",
    "    if balanced:\n",
    "        kf = KFold(n_splits=n_splits, shuffle=True, random_state=None)\n",
    "    else:\n",
    "        kf = KFold(n_splits=n_splits, shuffle=False, random_state=None)\n",
    "    \n",
    "    average_training_time = 0.0\n",
    "    average_testing_time = 0.0\n",
    "    best_accuracy = 0.0\n",
    "    average_accuracy = 0.0\n",
    "    average_f1_score = 0.0\n",
    "    best_f1_score = 0.0\n",
    "    selected_clf = None\n",
    "    \n",
    "    for train_index, test_index in kf.split(X):\n",
    "        X_train, X_test = X[train_index], X[test_index]\n",
    "        y_train, y_test = y[train_index], y[test_index]\n",
    "        model_clf = algorithm\n",
    "        #Pipeline([('tfidf', TfidfVectorizer()),('clf', algorithm),])\n",
    "        # Feed the training data through the pipeline\n",
    "        training_time_start = time.process_time()\n",
    "        model_clf.fit(X_train,y_train)\n",
    "        training_time = time.process_time() - training_time_start\n",
    "        average_training_time += training_time/n_splits\n",
    "        testing_time_start = time.process_time()\n",
    "        # Form predictions using test set\n",
    "        predictions = model_clf.predict(X_test)\n",
    "        testing_time = time.process_time() - testing_time_start\n",
    "        average_testing_time += testing_time/n_splits\n",
    "        # Calculate the overall accuracy\n",
    "        accuracy = metrics.accuracy_score(y_test, predictions)\n",
    "        average_accuracy += accuracy/n_splits\n",
    "        # Calculate F1 Score\n",
    "        f1_score = metrics.f1_score(y_test,predictions)\n",
    "        average_f1_score += f1_score/n_splits\n",
    "        if accuracy > best_accuracy and f1_score > best_f1_score: \n",
    "            selected_clf = model_clf\n",
    "            best_accuracy = accuracy\n",
    "            best_f1_score = f1_score\n",
    "\n",
    "    metrics_dict['Average training time'] = average_training_time\n",
    "    print('Average training time: ',average_training_time)\n",
    "    \n",
    "    metrics_dict['Total testing time'] = average_testing_time\n",
    "    print('Average testing time: ',average_testing_time,'\\n')\n",
    "\n",
    "    metrics_dict['Accuracy'] = average_accuracy\n",
    "    metrics_dict['F1 Score'] = average_f1_score\n",
    "    print('Average accuracy: {}\\nAverage F1-Score: {}\\n\\n'.format(average_accuracy, average_f1_score))\n",
    "    \n",
    "    print('---------------------------------------------------------------------------------')\n",
    "    return selected_clf, metrics_dict"
   ]
  },
  {
   "cell_type": "markdown",
   "metadata": {},
   "source": [
    "Four classifiers from different implementation categories, were tested against the input data, the ***Multinomial Naive Bayes classifier***, a ***Support Vector Classifier with linear kernel***, a ***Logistic Regression classifier with 500 maximum itrerations*** and a ***Decision Tree Classifier with maximum depth set to 20***, to avoid overfitting."
   ]
  },
  {
   "cell_type": "code",
   "execution_count": 26,
   "metadata": {},
   "outputs": [
    {
     "name": "stdout",
     "output_type": "stream",
     "text": [
      "########## Using MultinomialNB() classifier ##########\n",
      "\n",
      "Average training time:  0.023125000000000007\n",
      "Average testing time:  0.00125 \n",
      "\n",
      "Average accuracy: 0.8494534332814963\n",
      "Average F1-Score: 0.8964025444990797\n",
      "\n",
      "\n",
      "---------------------------------------------------------------------------------\n",
      "########## Using LinearSVC() classifier ##########\n",
      "\n",
      "Average training time:  0.6593749999999999\n",
      "Average testing time:  0.000625 \n",
      "\n",
      "Average accuracy: 0.8916576232037062\n",
      "Average F1-Score: 0.9204669718004079\n",
      "\n",
      "\n",
      "---------------------------------------------------------------------------------\n",
      "########## Using LogisticRegression(max_iter=500) classifier ##########\n",
      "\n",
      "Average training time:  8.218125\n",
      "Average testing time:  0.005 \n",
      "\n",
      "Average accuracy: 0.8924464385776218\n",
      "Average F1-Score: 0.9214933509055524\n",
      "\n",
      "\n",
      "---------------------------------------------------------------------------------\n",
      "########## Using DecisionTreeClassifier(max_depth=20) classifier ##########\n",
      "\n",
      "Average training time:  13.933125000000002\n",
      "Average testing time:  0.004375 \n",
      "\n",
      "Average accuracy: 0.8058516941075607\n",
      "Average F1-Score: 0.8586571773299813\n",
      "\n",
      "\n",
      "---------------------------------------------------------------------------------\n"
     ]
    }
   ],
   "source": [
    "text_nb, nb_metrics = model_training(X,y,MultinomialNB())\n",
    "text_svm, svm_metrics = model_training(X,y,LinearSVC())\n",
    "text_lr, lr_metrics = model_training(X,y,LogisticRegression(max_iter=500))\n",
    "text_dt, dt_metrics = model_training(X,y,DecisionTreeClassifier(max_depth=20))"
   ]
  },
  {
   "cell_type": "markdown",
   "metadata": {},
   "source": [
    "### Balance positive and negative reviews and re-train\n",
    "---\n",
    "As the positive reviews were a lot more than the negative ones, below is an attempt to balance it by keeping the same count of positive and negative reviews."
   ]
  },
  {
   "cell_type": "code",
   "execution_count": 27,
   "metadata": {},
   "outputs": [
    {
     "data": {
      "text/plain": [
       "1    44839\n",
       "0    21100\n",
       "Name: ratings, dtype: int64"
      ]
     },
     "execution_count": 27,
     "metadata": {},
     "output_type": "execute_result"
    }
   ],
   "source": [
    "reviews['ratings'].value_counts()"
   ]
  },
  {
   "cell_type": "code",
   "execution_count": 28,
   "metadata": {},
   "outputs": [
    {
     "data": {
      "text/plain": [
       "0    21100\n",
       "1    21100\n",
       "Name: ratings, dtype: int64"
      ]
     },
     "execution_count": 28,
     "metadata": {},
     "output_type": "execute_result"
    }
   ],
   "source": [
    "majority = reviews[reviews.ratings == 1]\n",
    "minority = reviews[reviews.ratings == 0]\n",
    "downsampled_majority = resample(majority,replace=False, n_samples=len(minority), random_state=77)\n",
    "\n",
    "reviews_downsampled = pd.concat([downsampled_majority, minority])\n",
    "reviews_downsampled.reset_index(inplace=True)\n",
    "reviews_downsampled['ratings'].value_counts()"
   ]
  },
  {
   "cell_type": "code",
   "execution_count": 29,
   "metadata": {},
   "outputs": [],
   "source": [
    "tfidfvectorizer_downsampled = TfidfVectorizer()\n",
    "X_downsampled = tfidfvectorizer_downsampled.fit_transform(reviews_downsampled['reviews'].values.astype('U'))\n",
    "y_downsampled = reviews_downsampled['ratings']"
   ]
  },
  {
   "cell_type": "code",
   "execution_count": 30,
   "metadata": {},
   "outputs": [
    {
     "name": "stdout",
     "output_type": "stream",
     "text": [
      "########## Using MultinomialNB() classifier ##########\n",
      "\n",
      "Average training time:  0.012500000000000002\n",
      "Average testing time:  0.000625 \n",
      "\n",
      "Average accuracy: 0.8623696682464452\n",
      "Average F1-Score: 0.8598877949323365\n",
      "\n",
      "\n",
      "---------------------------------------------------------------------------------\n",
      "########## Using LinearSVC() classifier ##########\n",
      "\n",
      "Average training time:  0.3975000000000001\n",
      "Average testing time:  0.000625 \n",
      "\n",
      "Average accuracy: 0.8799052132701423\n",
      "Average F1-Score: 0.8792200997588946\n",
      "\n",
      "\n",
      "---------------------------------------------------------------------------------\n",
      "########## Using LogisticRegression(max_iter=500) classifier ##########\n",
      "\n",
      "Average training time:  5.120000000000002\n",
      "Average testing time:  0.0 \n",
      "\n",
      "Average accuracy: 0.8819431279620853\n",
      "Average F1-Score: 0.8806913461140077\n",
      "\n",
      "\n",
      "---------------------------------------------------------------------------------\n",
      "########## Using DecisionTreeClassifier(max_depth=20) classifier ##########\n",
      "\n",
      "Average training time:  8.458750000000002\n",
      "Average testing time:  0.004375 \n",
      "\n",
      "Average accuracy: 0.7757345971563979\n",
      "Average F1-Score: 0.7749077115359786\n",
      "\n",
      "\n",
      "---------------------------------------------------------------------------------\n"
     ]
    }
   ],
   "source": [
    "text_nb_downsampled, nb_downsampled_metrics = model_training(X_downsampled,y_downsampled,MultinomialNB(),True)\n",
    "text_svm_downsampled, svm_downsampled_metrics = model_training(X_downsampled,y_downsampled,LinearSVC(),True)\n",
    "text_lr_downsampled, lr_downsampled_metrics = model_training(X_downsampled,y_downsampled,LogisticRegression(max_iter=500),True)\n",
    "text_dt_downsampled, dt_downsampled_metrics = model_training(X_downsampled,y_downsampled,DecisionTreeClassifier(max_depth=20),True)"
   ]
  },
  {
   "cell_type": "code",
   "execution_count": 31,
   "metadata": {},
   "outputs": [],
   "source": [
    "learners = {'Naive Bayes':text_nb, \n",
    "            'Naive Bayes (Downsampled)':text_nb_downsampled,\n",
    "            'SVM':text_svm,\n",
    "            'SVM (Downsampled)':text_svm_downsampled,\n",
    "            'Logistic Regression':text_lr,\n",
    "            'Logistic Regression (Downsampled)':text_lr_downsampled,\n",
    "            'Decision Tree':text_dt,\n",
    "            'Decision Tree (Downsampled)':text_dt_downsampled\n",
    "           }\n",
    "metrics_dict = {'Naive Bayes':nb_metrics, \n",
    "            'Naive Bayes (Downsampled)':nb_downsampled_metrics,\n",
    "            'SVM':svm_metrics,\n",
    "            'SVM (Downsampled)':svm_downsampled_metrics,\n",
    "            'Logistic Regression':lr_metrics,\n",
    "            'Logistic Regression (Downsampled)':lr_downsampled_metrics,\n",
    "            'Decision Tree':dt_metrics,\n",
    "            'Decision Tree (Downsampled)':dt_downsampled_metrics\n",
    "           }"
   ]
  },
  {
   "cell_type": "code",
   "execution_count": 32,
   "metadata": {},
   "outputs": [
    {
     "data": {
      "image/png": "[encoded data removed]",
      "text/plain": [
       "<Figure size 1080x720 with 4 Axes>"
      ]
     },
     "metadata": {
      "needs_background": "light"
     },
     "output_type": "display_data"
    }
   ],
   "source": [
    "fig, ax = plt.subplots(2, 2, figsize = (15,10))\n",
    "colors = ['#A00000','#A0FFF1','#A000FF','#00F0A0',\n",
    "          '#00A0AF','#00F0A0','#00A000','#FFA500',\n",
    "          '#BFA500','#DFA500','#FFF500','#FFAFF0']\n",
    "\n",
    "for k, learner in enumerate(learners.keys()):\n",
    "    for j, metric in enumerate(['Average training time','Total testing time','Accuracy','F1 Score']):\n",
    "        ax[j//2, j%2].bar(k, metrics_dict[learner][metric],color = colors[k])\n",
    "            \n",
    "ax[0, 0].set_ylabel(\"Time (in seconds)\")\n",
    "ax[0, 0].set_title(\"Average Training time\")\n",
    "\n",
    "ax[0, 1].set_ylabel(\"Time (in seconds)\")\n",
    "ax[0, 1].set_title(\"Average Testing time\")\n",
    "\n",
    "ax[1, 0].set_ylabel(\"Accuracy\")\n",
    "ax[1, 0].set_title(\"Average Testing Accuracy Score\")\n",
    "\n",
    "ax[1, 1].set_ylabel(\"F-score\")\n",
    "ax[1, 1].set_title(\"Average Testing F1 Score\")\n",
    "\n",
    "\n",
    "patches = []\n",
    "for i, learner in enumerate(learners.keys()):\n",
    "    patches.append(mpatches.Patch(color = colors[i], label = learner))\n",
    "fig.legend(handles = patches, loc='upper center', bbox_to_anchor=(1.1, 1), ncol = 1, fontsize = 'medium')\n",
    "\n",
    "plt.suptitle(\"Performance Metrics for the Classification Models\", fontsize = 18)\n",
    "plt.tight_layout()\n",
    "plt.show()"
   ]
  },
  {
   "cell_type": "markdown",
   "metadata": {},
   "source": [
    "### Check prediction in reviews from https://www.skroutz.gr\n",
    "---"
   ]
  },
  {
   "cell_type": "code",
   "execution_count": 33,
   "metadata": {},
   "outputs": [],
   "source": [
    "def data_extraction(url,reviews_selector,ratings_selector):\n",
    "    \"\"\"Accepts a URL and the respective CSS selectors\n",
    "       of the reviews text and rating.\n",
    "       Returns the extracted data in a Pandas dataframe.\n",
    "    \"\"\"\n",
    "    response = requests.get(url)\n",
    "    soup = BeautifulSoup(response.text,'html.parser')\n",
    "    reviews = soup.select(reviews_selector)\n",
    "    ratings = soup.select(ratings_selector)\n",
    "    rlist = []\n",
    "    for i in range(len(reviews)):\n",
    "        rlist.append([reviews[i].text,ratings[i].text])\n",
    "    data = pd.DataFrame(rlist,columns=['reviews','sentiment'])\n",
    "    sentiment_dict = {'1':0, '2':0, '3':0, '4':1, '5':1}\n",
    "    data['sentiment'].replace(sentiment_dict,inplace=True)\n",
    "    data['reviews'] = data['reviews'].apply(clean_text)\n",
    "    return data"
   ]
  },
  {
   "cell_type": "code",
   "execution_count": 34,
   "metadata": {},
   "outputs": [
    {
     "name": "stdout",
     "output_type": "stream",
     "text": [
      "For label  1  Classifier predicted  1  with confidence 1.214370227736961\n",
      "For label  1  Classifier predicted  1  with confidence 0.2128676805837164\n",
      "For label  1  Classifier predicted  1  with confidence 0.6335229635091201\n",
      "For label  0  Classifier predicted  1  with confidence 0.3675418063340786\n",
      "For label  0  Classifier predicted  1  with confidence 0.04314014580552968\n",
      "For label  1  Classifier predicted  0  with confidence -0.8038605264042324\n",
      "For label  1  Classifier predicted  1  with confidence 0.18122903396721535\n",
      "For label  1  Classifier predicted  1  with confidence 1.0057705374171702\n",
      "For label  1  Classifier predicted  1  with confidence 0.618349488158827\n",
      "For label  1  Classifier predicted  1  with confidence 1.969386336362532\n",
      "For label  1  Classifier predicted  1  with confidence 0.022724598469794806\n",
      "For label  1  Classifier predicted  1  with confidence 0.6254087389791115\n",
      "For label  1  Classifier predicted  1  with confidence 0.2053321194950291\n",
      "For label  1  Classifier predicted  0  with confidence -0.4056186014825348\n",
      "For label  1  Classifier predicted  1  with confidence 0.5389218583672771\n",
      "For label  1  Classifier predicted  0  with confidence -0.0629753367315485\n",
      "For label  1  Classifier predicted  1  with confidence 0.48796695484732583\n",
      "For label  1  Classifier predicted  1  with confidence 1.4942802433521716\n",
      "For label  1  Classifier predicted  0  with confidence -1.6509520658842316\n",
      "For label  1  Classifier predicted  1  with confidence 1.5072268873288501\n",
      "For label  1  Classifier predicted  0  with confidence -0.11462643008160964\n",
      "For label  1  Classifier predicted  1  with confidence 0.8463006627445872\n",
      "For label  1  Classifier predicted  1  with confidence 0.8750412997177913\n",
      "For label  1  Classifier predicted  1  with confidence 0.5831630346707132\n",
      "For label  1  Classifier predicted  1  with confidence 0.45068688147487007\n",
      "For label  0  Classifier predicted  0  with confidence -0.9053408054049356\n",
      "For label  1  Classifier predicted  0  with confidence -0.5029780154713923\n",
      "For label  1  Classifier predicted  1  with confidence 1.5066833135337527\n",
      "For label  1  Classifier predicted  1  with confidence 0.2926278326017368\n",
      "For label  1  Classifier predicted  0  with confidence -0.18949067441428652\n",
      "              precision    recall  f1-score   support\n",
      "\n",
      "           0       0.12      0.33      0.18         3\n",
      "           1       0.91      0.74      0.82        27\n",
      "\n",
      "    accuracy                           0.70        30\n",
      "   macro avg       0.52      0.54      0.50        30\n",
      "weighted avg       0.83      0.70      0.75        30\n",
      "\n"
     ]
    },
    {
     "data": {
      "text/plain": [
       "Text(0.5, 1.0, 'Confusion Matrix')"
      ]
     },
     "execution_count": 34,
     "metadata": {},
     "output_type": "execute_result"
    },
    {
     "data": {
      "image/png": "[encoded data removed]",
      "text/plain": [
       "<Figure size 432x288 with 2 Axes>"
      ]
     },
     "metadata": {
      "needs_background": "light"
     },
     "output_type": "display_data"
    }
   ],
   "source": [
    "url = 'https://www.skroutz.gr/s/20060269/Apple-iPhone-11-64GB-Black.html#reviews'\n",
    "rselector= '#sku_reviews_list > li div.review-body'\n",
    "sselector = '#sku_reviews_list > li div.actual-rating > span'\n",
    "data = data_extraction(url,rselector,sselector)\n",
    "vectorized_data = tfidfvectorizer_downsampled.transform(data['reviews'])\n",
    "predictions = text_svm_downsampled.predict(vectorized_data)\n",
    "confidence = text_svm_downsampled.decision_function(vectorized_data)\n",
    "for i in range(len(predictions)):\n",
    "    print('For label ',data['sentiment'][i],' Classifier predicted ',predictions[i],\n",
    "      ' with confidence',confidence[i])\n",
    "print(metrics.classification_report(data['sentiment'],text_svm_downsampled.predict(vectorized_data)))\n",
    "confusion_matrix = metrics.plot_confusion_matrix(text_svm_downsampled,vectorized_data,data['sentiment'],\n",
    "                                                 display_labels=['negative','positive'])\n",
    "confusion_matrix.ax_.set_title('Confusion Matrix')"
   ]
  },
  {
   "cell_type": "code",
   "execution_count": 35,
   "metadata": {},
   "outputs": [
    {
     "name": "stdout",
     "output_type": "stream",
     "text": [
      "              precision    recall  f1-score   support\n",
      "\n",
      "           0       0.55      0.75      0.63         8\n",
      "           1       0.89      0.77      0.83        22\n",
      "\n",
      "    accuracy                           0.77        30\n",
      "   macro avg       0.72      0.76      0.73        30\n",
      "weighted avg       0.80      0.77      0.78        30\n",
      "\n"
     ]
    },
    {
     "data": {
      "text/plain": [
       "Text(0.5, 1.0, 'Confusion Matrix')"
      ]
     },
     "execution_count": 35,
     "metadata": {},
     "output_type": "execute_result"
    },
    {
     "data": {
      "image/png": "[encoded data removed]",
      "text/plain": [
       "<Figure size 432x288 with 2 Axes>"
      ]
     },
     "metadata": {
      "needs_background": "light"
     },
     "output_type": "display_data"
    }
   ],
   "source": [
    "url = 'https://www.skroutz.gr/s/23120421/Samsung-Galaxy-A20e-Dual-32GB-Coral.html#reviews'\n",
    "rselector= '#sku_reviews_list > li div.review-body'\n",
    "sselector = '#sku_reviews_list > li div.actual-rating > span'\n",
    "data = data_extraction(url,rselector,sselector)\n",
    "vectorized_data = tfidfvectorizer_downsampled.transform(data['reviews'])\n",
    "predictions = text_svm_downsampled.predict(vectorized_data)\n",
    "print(metrics.classification_report(data['sentiment'],text_svm_downsampled.predict(vectorized_data)))\n",
    "confusion_matrix = metrics.plot_confusion_matrix(text_svm_downsampled,vectorized_data,data['sentiment'],\n",
    "                                                 display_labels=['negative','positive'])\n",
    "confusion_matrix.ax_.set_title('Confusion Matrix')"
   ]
  },
  {
   "cell_type": "code",
   "execution_count": 36,
   "metadata": {},
   "outputs": [
    {
     "name": "stdout",
     "output_type": "stream",
     "text": [
      "              precision    recall  f1-score   support\n",
      "\n",
      "           0       0.50      0.75      0.60         8\n",
      "           1       0.89      0.73      0.80        22\n",
      "\n",
      "    accuracy                           0.73        30\n",
      "   macro avg       0.69      0.74      0.70        30\n",
      "weighted avg       0.79      0.73      0.75        30\n",
      "\n"
     ]
    },
    {
     "data": {
      "text/plain": [
       "Text(0.5, 1.0, 'Confusion Matrix')"
      ]
     },
     "execution_count": 36,
     "metadata": {},
     "output_type": "execute_result"
    },
    {
     "data": {
      "image/png": "[encoded data removed]",
      "text/plain": [
       "<Figure size 432x288 with 2 Axes>"
      ]
     },
     "metadata": {
      "needs_background": "light"
     },
     "output_type": "display_data"
    }
   ],
   "source": [
    "url = 'https://www.skroutz.gr/s/23290197/Samsung-Galaxy-S20-Ultra-5G-128GB-Cloud-White.html#reviews'\n",
    "rselector= '#sku_reviews_list > li div.review-body'\n",
    "sselector = '#sku_reviews_list > li div.actual-rating > span'\n",
    "data = data_extraction(url,rselector,sselector)\n",
    "vectorized_data = tfidfvectorizer_downsampled.transform(data['reviews'])\n",
    "predictions = text_svm_downsampled.predict(vectorized_data)\n",
    "print(metrics.classification_report(data['sentiment'],text_svm_downsampled.predict(vectorized_data)))\n",
    "confusion_matrix = metrics.plot_confusion_matrix(text_svm_downsampled,vectorized_data,data['sentiment'],\n",
    "                                                 display_labels=['negative','positive'])\n",
    "confusion_matrix.ax_.set_title('Confusion Matrix')"
   ]
  },
  {
   "cell_type": "code",
   "execution_count": 37,
   "metadata": {},
   "outputs": [
    {
     "name": "stdout",
     "output_type": "stream",
     "text": [
      "              precision    recall  f1-score   support\n",
      "\n",
      "           0       0.08      0.50      0.14         2\n",
      "           1       0.94      0.61      0.74        28\n",
      "\n",
      "    accuracy                           0.60        30\n",
      "   macro avg       0.51      0.55      0.44        30\n",
      "weighted avg       0.89      0.60      0.70        30\n",
      "\n"
     ]
    },
    {
     "data": {
      "text/plain": [
       "Text(0.5, 1.0, 'Confusion Matrix')"
      ]
     },
     "execution_count": 37,
     "metadata": {},
     "output_type": "execute_result"
    },
    {
     "data": {
      "image/png": "[encoded data removed]",
      "text/plain": [
       "<Figure size 432x288 with 2 Axes>"
      ]
     },
     "metadata": {
      "needs_background": "light"
     },
     "output_type": "display_data"
    }
   ],
   "source": [
    "url = 'https://www.skroutz.gr/s/12247000/Gigabyte-GeForce-GT-1030-2GB-OC-GV-N1030OC-2GI.html#reviews'\n",
    "rselector= '#sku_reviews_list > li div.review-body'\n",
    "sselector = '#sku_reviews_list > li div.actual-rating > span'\n",
    "data = data_extraction(url,rselector,sselector)\n",
    "vectorized_data = tfidfvectorizer_downsampled.transform(data['reviews'])\n",
    "predictions = text_svm_downsampled.predict(vectorized_data)\n",
    "print(metrics.classification_report(data['sentiment'],text_svm_downsampled.predict(vectorized_data)))\n",
    "confusion_matrix = metrics.plot_confusion_matrix(text_svm_downsampled,vectorized_data,data['sentiment'],\n",
    "                                                 display_labels=['negative','positive'])\n",
    "confusion_matrix.ax_.set_title('Confusion Matrix')"
   ]
  },
  {
   "cell_type": "code",
   "execution_count": 38,
   "metadata": {},
   "outputs": [
    {
     "name": "stdout",
     "output_type": "stream",
     "text": [
      "              precision    recall  f1-score   support\n",
      "\n",
      "           0       0.36      0.67      0.47         6\n",
      "           1       0.89      0.71      0.79        24\n",
      "\n",
      "    accuracy                           0.70        30\n",
      "   macro avg       0.63      0.69      0.63        30\n",
      "weighted avg       0.79      0.70      0.73        30\n",
      "\n"
     ]
    },
    {
     "data": {
      "text/plain": [
       "Text(0.5, 1.0, 'Confusion Matrix')"
      ]
     },
     "execution_count": 38,
     "metadata": {},
     "output_type": "execute_result"
    },
    {
     "data": {
      "image/png": "[encoded data removed]",
      "text/plain": [
       "<Figure size 432x288 with 2 Axes>"
      ]
     },
     "metadata": {
      "needs_background": "light"
     },
     "output_type": "display_data"
    }
   ],
   "source": [
    "url = 'https://www.skroutz.gr/s/5281582/Adidas-Stan-Smith-M20325.html#reviews'\n",
    "rselector= '#sku_reviews_list > li div.review-body'\n",
    "sselector = '#sku_reviews_list > li div.actual-rating > span'\n",
    "data = data_extraction(url,rselector,sselector)\n",
    "vectorized_data = tfidfvectorizer_downsampled.transform(data['reviews'])\n",
    "predictions = text_svm_downsampled.predict(vectorized_data)\n",
    "print(metrics.classification_report(data['sentiment'],text_svm_downsampled.predict(vectorized_data)))\n",
    "confusion_matrix = metrics.plot_confusion_matrix(text_svm_downsampled,vectorized_data,data['sentiment'],\n",
    "                                                 display_labels=['negative','positive'])\n",
    "confusion_matrix.ax_.set_title('Confusion Matrix')"
   ]
  }
 ],
 "metadata": {
  "kernelspec": {
   "display_name": "Python 3",
   "language": "python",
   "name": "python3"
  },
  "language_info": {
   "codemirror_mode": {
    "name": "ipython",
    "version": 3
   },
   "file_extension": ".py",
   "mimetype": "text/x-python",
   "name": "python",
   "nbconvert_exporter": "python",
   "pygments_lexer": "ipython3",
   "version": "3.8.5"
  }
 },
 "nbformat": 4,
 "nbformat_minor": 4
}
