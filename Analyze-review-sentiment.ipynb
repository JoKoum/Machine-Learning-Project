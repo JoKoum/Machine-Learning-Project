{
 "cells": [
  {
   "cell_type": "markdown",
   "metadata": {},
   "source": [
    "# Project in Machine Learning Class: Predict user's review sentiment\n",
    "\n",
    "### John Koumentis, MTN2012"
   ]
  },
  {
   "cell_type": "code",
   "execution_count": 1,
   "metadata": {},
   "outputs": [
    {
     "name": "stderr",
     "output_type": "stream",
     "text": [
      "[nltk_data] Downloading package words to\n",
      "[nltk_data]     C:\\Users\\John\\AppData\\Roaming\\nltk_data...\n",
      "[nltk_data]   Package words is already up-to-date!\n",
      "[nltk_data] Downloading package crubadan to\n",
      "[nltk_data]     C:\\Users\\John\\AppData\\Roaming\\nltk_data...\n",
      "[nltk_data]   Package crubadan is already up-to-date!\n",
      "[nltk_data] Downloading package punkt to\n",
      "[nltk_data]     C:\\Users\\John\\AppData\\Roaming\\nltk_data...\n",
      "[nltk_data]   Package punkt is already up-to-date!\n",
      "[nltk_data] Downloading package wordnet to\n",
      "[nltk_data]     C:\\Users\\John\\AppData\\Roaming\\nltk_data...\n",
      "[nltk_data]   Package wordnet is already up-to-date!\n"
     ]
    }
   ],
   "source": [
    "import numpy as np\n",
    "import pandas as pd\n",
    "from collections import Counter\n",
    "import seaborn as sns\n",
    "\n",
    "import string\n",
    "import re\n",
    "\n",
    "import nltk\n",
    "nltk.download('words')\n",
    "from nltk.classify import textcat\n",
    "nltk.download('crubadan')\n",
    "nltk.download('punkt')\n",
    "from nltk.corpus import stopwords\n",
    "from nltk.stem.wordnet import WordNetLemmatizer\n",
    "nltk.download('wordnet')\n",
    "\n",
    "from sklearn.model_selection import train_test_split\n",
    "from sklearn.pipeline import Pipeline\n",
    "from sklearn.feature_extraction.text import TfidfVectorizer\n",
    "from sklearn.naive_bayes import MultinomialNB\n",
    "from sklearn.svm import LinearSVC\n",
    "from sklearn import metrics"
   ]
  },
  {
   "cell_type": "markdown",
   "metadata": {},
   "source": [
    "## Load and pre-process data"
   ]
  },
  {
   "cell_type": "markdown",
   "metadata": {},
   "source": [
    "The data used comes from the 'Amazon Cell Phones Reviews' dataset found in Kaggle (https://www.kaggle.com/grikomsn/amazon-cell-phones-reviews)"
   ]
  },
  {
   "cell_type": "code",
   "execution_count": 2,
   "metadata": {},
   "outputs": [],
   "source": [
    "#Read the reviews dataset\n",
    "\n",
    "df = pd.read_csv('20191226-reviews.csv')\n",
    "df = df.drop('name', axis=1)"
   ]
  },
  {
   "cell_type": "code",
   "execution_count": 3,
   "metadata": {},
   "outputs": [
    {
     "name": "stdout",
     "output_type": "stream",
     "text": [
      "asin                0\n",
      "rating              0\n",
      "date                0\n",
      "verified            0\n",
      "title              14\n",
      "body               21\n",
      "helpfulVotes    40771\n",
      "dtype: int64\n"
     ]
    }
   ],
   "source": [
    "#Check for missing data\n",
    "missing_data = df.isnull().sum()\n",
    "print(missing_data)"
   ]
  },
  {
   "cell_type": "code",
   "execution_count": 4,
   "metadata": {},
   "outputs": [
    {
     "data": {
      "text/plain": [
       "(array([ 9445, 18055, 19749, 20892, 21149, 21887, 22917, 29501, 30010,\n",
       "        35596, 36845, 43415, 45899, 46470, 51628, 52176, 55171, 57837,\n",
       "        61074, 62205, 64371], dtype=int64),)"
      ]
     },
     "execution_count": 4,
     "metadata": {},
     "output_type": "execute_result"
    }
   ],
   "source": [
    "#Remove empty reviews\n",
    "empty_reviews = np.where(pd.isnull(df.body))\n",
    "df.drop(list(empty_reviews)[0],inplace=True)\n",
    "empty_reviews"
   ]
  },
  {
   "cell_type": "code",
   "execution_count": 5,
   "metadata": {},
   "outputs": [
    {
     "data": {
      "text/html": [
       "<div>\n",
       "<style scoped>\n",
       "    .dataframe tbody tr th:only-of-type {\n",
       "        vertical-align: middle;\n",
       "    }\n",
       "\n",
       "    .dataframe tbody tr th {\n",
       "        vertical-align: top;\n",
       "    }\n",
       "\n",
       "    .dataframe thead th {\n",
       "        text-align: right;\n",
       "    }\n",
       "</style>\n",
       "<table border=\"1\" class=\"dataframe\">\n",
       "  <thead>\n",
       "    <tr style=\"text-align: right;\">\n",
       "      <th></th>\n",
       "      <th>asin</th>\n",
       "      <th>rating</th>\n",
       "      <th>date</th>\n",
       "      <th>verified</th>\n",
       "      <th>title</th>\n",
       "      <th>body</th>\n",
       "      <th>helpfulVotes</th>\n",
       "    </tr>\n",
       "  </thead>\n",
       "  <tbody>\n",
       "    <tr>\n",
       "      <th>0</th>\n",
       "      <td>B0000SX2UC</td>\n",
       "      <td>3</td>\n",
       "      <td>October 11, 2005</td>\n",
       "      <td>False</td>\n",
       "      <td>Def not best, but not worst</td>\n",
       "      <td>I had the Samsung A600 for awhile which is abs...</td>\n",
       "      <td>1.0</td>\n",
       "    </tr>\n",
       "    <tr>\n",
       "      <th>1</th>\n",
       "      <td>B0000SX2UC</td>\n",
       "      <td>1</td>\n",
       "      <td>January 7, 2004</td>\n",
       "      <td>False</td>\n",
       "      <td>Text Messaging Doesn't Work</td>\n",
       "      <td>Due to a software issue between Nokia and Spri...</td>\n",
       "      <td>17.0</td>\n",
       "    </tr>\n",
       "    <tr>\n",
       "      <th>2</th>\n",
       "      <td>B0000SX2UC</td>\n",
       "      <td>5</td>\n",
       "      <td>December 30, 2003</td>\n",
       "      <td>False</td>\n",
       "      <td>Love This Phone</td>\n",
       "      <td>This is a great, reliable phone. I also purcha...</td>\n",
       "      <td>5.0</td>\n",
       "    </tr>\n",
       "    <tr>\n",
       "      <th>3</th>\n",
       "      <td>B0000SX2UC</td>\n",
       "      <td>3</td>\n",
       "      <td>March 18, 2004</td>\n",
       "      <td>False</td>\n",
       "      <td>Love the Phone, BUT...!</td>\n",
       "      <td>I love the phone and all, because I really did...</td>\n",
       "      <td>1.0</td>\n",
       "    </tr>\n",
       "    <tr>\n",
       "      <th>4</th>\n",
       "      <td>B0000SX2UC</td>\n",
       "      <td>4</td>\n",
       "      <td>August 28, 2005</td>\n",
       "      <td>False</td>\n",
       "      <td>Great phone service and options, lousy case!</td>\n",
       "      <td>The phone has been great for every purpose it ...</td>\n",
       "      <td>1.0</td>\n",
       "    </tr>\n",
       "    <tr>\n",
       "      <th>5</th>\n",
       "      <td>B0000SX2UC</td>\n",
       "      <td>4</td>\n",
       "      <td>September 25, 2005</td>\n",
       "      <td>False</td>\n",
       "      <td>Worked great for me</td>\n",
       "      <td>Hello, I have this phone and used it until I d...</td>\n",
       "      <td>NaN</td>\n",
       "    </tr>\n",
       "    <tr>\n",
       "      <th>6</th>\n",
       "      <td>B0000SX2UC</td>\n",
       "      <td>5</td>\n",
       "      <td>April 16, 2004</td>\n",
       "      <td>False</td>\n",
       "      <td>Wanna cool Nokia? You have it here!</td>\n",
       "      <td>Cool. Cheap. Color: 3 words that describe the ...</td>\n",
       "      <td>2.0</td>\n",
       "    </tr>\n",
       "    <tr>\n",
       "      <th>7</th>\n",
       "      <td>B0000SX2UC</td>\n",
       "      <td>4</td>\n",
       "      <td>April 3, 2004</td>\n",
       "      <td>False</td>\n",
       "      <td>Problem with 3588i universal headset</td>\n",
       "      <td>The 3599i is overall a nice phone, except that...</td>\n",
       "      <td>2.0</td>\n",
       "    </tr>\n",
       "    <tr>\n",
       "      <th>8</th>\n",
       "      <td>B0000SX2UC</td>\n",
       "      <td>5</td>\n",
       "      <td>November 24, 2003</td>\n",
       "      <td>False</td>\n",
       "      <td>cool phone!!!!!!!!</td>\n",
       "      <td>I've never owned a Nokia phone before, so this...</td>\n",
       "      <td>7.0</td>\n",
       "    </tr>\n",
       "    <tr>\n",
       "      <th>9</th>\n",
       "      <td>B0000SX2UC</td>\n",
       "      <td>3</td>\n",
       "      <td>February 2, 2004</td>\n",
       "      <td>False</td>\n",
       "      <td>Pissed off-a little bit</td>\n",
       "      <td>ok well im in school and i need the text messa...</td>\n",
       "      <td>3.0</td>\n",
       "    </tr>\n",
       "  </tbody>\n",
       "</table>\n",
       "</div>"
      ],
      "text/plain": [
       "         asin  rating                date  verified  \\\n",
       "0  B0000SX2UC       3    October 11, 2005     False   \n",
       "1  B0000SX2UC       1     January 7, 2004     False   \n",
       "2  B0000SX2UC       5   December 30, 2003     False   \n",
       "3  B0000SX2UC       3      March 18, 2004     False   \n",
       "4  B0000SX2UC       4     August 28, 2005     False   \n",
       "5  B0000SX2UC       4  September 25, 2005     False   \n",
       "6  B0000SX2UC       5      April 16, 2004     False   \n",
       "7  B0000SX2UC       4       April 3, 2004     False   \n",
       "8  B0000SX2UC       5   November 24, 2003     False   \n",
       "9  B0000SX2UC       3    February 2, 2004     False   \n",
       "\n",
       "                                          title  \\\n",
       "0                   Def not best, but not worst   \n",
       "1                   Text Messaging Doesn't Work   \n",
       "2                               Love This Phone   \n",
       "3                       Love the Phone, BUT...!   \n",
       "4  Great phone service and options, lousy case!   \n",
       "5                           Worked great for me   \n",
       "6           Wanna cool Nokia? You have it here!   \n",
       "7          Problem with 3588i universal headset   \n",
       "8                            cool phone!!!!!!!!   \n",
       "9                       Pissed off-a little bit   \n",
       "\n",
       "                                                body  helpfulVotes  \n",
       "0  I had the Samsung A600 for awhile which is abs...           1.0  \n",
       "1  Due to a software issue between Nokia and Spri...          17.0  \n",
       "2  This is a great, reliable phone. I also purcha...           5.0  \n",
       "3  I love the phone and all, because I really did...           1.0  \n",
       "4  The phone has been great for every purpose it ...           1.0  \n",
       "5  Hello, I have this phone and used it until I d...           NaN  \n",
       "6  Cool. Cheap. Color: 3 words that describe the ...           2.0  \n",
       "7  The 3599i is overall a nice phone, except that...           2.0  \n",
       "8  I've never owned a Nokia phone before, so this...           7.0  \n",
       "9  ok well im in school and i need the text messa...           3.0  "
      ]
     },
     "execution_count": 5,
     "metadata": {},
     "output_type": "execute_result"
    }
   ],
   "source": [
    "df.head(10)"
   ]
  },
  {
   "cell_type": "code",
   "execution_count": 6,
   "metadata": {},
   "outputs": [
    {
     "data": {
      "text/html": [
       "<div>\n",
       "<style scoped>\n",
       "    .dataframe tbody tr th:only-of-type {\n",
       "        vertical-align: middle;\n",
       "    }\n",
       "\n",
       "    .dataframe tbody tr th {\n",
       "        vertical-align: top;\n",
       "    }\n",
       "\n",
       "    .dataframe thead th {\n",
       "        text-align: right;\n",
       "    }\n",
       "</style>\n",
       "<table border=\"1\" class=\"dataframe\">\n",
       "  <thead>\n",
       "    <tr style=\"text-align: right;\">\n",
       "      <th></th>\n",
       "      <th>reviews</th>\n",
       "      <th>ratings</th>\n",
       "    </tr>\n",
       "  </thead>\n",
       "  <tbody>\n",
       "    <tr>\n",
       "      <th>0</th>\n",
       "      <td>I had the Samsung A600 for awhile which is abs...</td>\n",
       "      <td>3</td>\n",
       "    </tr>\n",
       "    <tr>\n",
       "      <th>1</th>\n",
       "      <td>Due to a software issue between Nokia and Spri...</td>\n",
       "      <td>1</td>\n",
       "    </tr>\n",
       "    <tr>\n",
       "      <th>2</th>\n",
       "      <td>This is a great, reliable phone. I also purcha...</td>\n",
       "      <td>5</td>\n",
       "    </tr>\n",
       "    <tr>\n",
       "      <th>3</th>\n",
       "      <td>I love the phone and all, because I really did...</td>\n",
       "      <td>3</td>\n",
       "    </tr>\n",
       "    <tr>\n",
       "      <th>4</th>\n",
       "      <td>The phone has been great for every purpose it ...</td>\n",
       "      <td>4</td>\n",
       "    </tr>\n",
       "  </tbody>\n",
       "</table>\n",
       "</div>"
      ],
      "text/plain": [
       "                                             reviews  ratings\n",
       "0  I had the Samsung A600 for awhile which is abs...        3\n",
       "1  Due to a software issue between Nokia and Spri...        1\n",
       "2  This is a great, reliable phone. I also purcha...        5\n",
       "3  I love the phone and all, because I really did...        3\n",
       "4  The phone has been great for every purpose it ...        4"
      ]
     },
     "execution_count": 6,
     "metadata": {},
     "output_type": "execute_result"
    }
   ],
   "source": [
    "#Isolate body and rating columns in a new dataset\n",
    "reviews_dataset = pd.DataFrame({'reviews':df.body.values, 'ratings':df.rating.values})\n",
    "#reviews_dataset.to_csv('reviews.csv')\n",
    "reviews_dataset.head()"
   ]
  },
  {
   "cell_type": "markdown",
   "metadata": {},
   "source": [
    "After removing the lines containing the empty reviews and creating a new dataset by keeping only the reviews and ratings column, the reviews column was loaded in XLSX format at https://translate.google.gr/?hl=el&sl=auto&tl=el&op=docs and translated. The output was an HTML table that was launched via Excel and stored in CSV format with name 'translate.csv'."
   ]
  },
  {
   "cell_type": "code",
   "execution_count": 7,
   "metadata": {},
   "outputs": [
    {
     "data": {
      "text/html": [
       "<div>\n",
       "<style scoped>\n",
       "    .dataframe tbody tr th:only-of-type {\n",
       "        vertical-align: middle;\n",
       "    }\n",
       "\n",
       "    .dataframe tbody tr th {\n",
       "        vertical-align: top;\n",
       "    }\n",
       "\n",
       "    .dataframe thead th {\n",
       "        text-align: right;\n",
       "    }\n",
       "</style>\n",
       "<table border=\"1\" class=\"dataframe\">\n",
       "  <thead>\n",
       "    <tr style=\"text-align: right;\">\n",
       "      <th></th>\n",
       "      <th>reviews</th>\n",
       "      <th>greek</th>\n",
       "      <th>ratings</th>\n",
       "    </tr>\n",
       "  </thead>\n",
       "  <tbody>\n",
       "    <tr>\n",
       "      <th>0</th>\n",
       "      <td>I had the Samsung A600 for awhile which is abs...</td>\n",
       "      <td>Είχα το Samsung A600 για λίγο που είναι απόλυτ...</td>\n",
       "      <td>3</td>\n",
       "    </tr>\n",
       "    <tr>\n",
       "      <th>1</th>\n",
       "      <td>Due to a software issue between Nokia and Spri...</td>\n",
       "      <td>Λόγω ενός προβλήματος λογισμικού μεταξύ της No...</td>\n",
       "      <td>1</td>\n",
       "    </tr>\n",
       "    <tr>\n",
       "      <th>2</th>\n",
       "      <td>This is a great, reliable phone. I also purcha...</td>\n",
       "      <td>Αυτό είναι ένα υπέροχο, αξιόπιστο τηλέφωνο. Αγ...</td>\n",
       "      <td>5</td>\n",
       "    </tr>\n",
       "    <tr>\n",
       "      <th>3</th>\n",
       "      <td>I love the phone and all, because I really did...</td>\n",
       "      <td>Λατρεύω το τηλέφωνο και όλα, γιατί πραγματικά ...</td>\n",
       "      <td>3</td>\n",
       "    </tr>\n",
       "    <tr>\n",
       "      <th>4</th>\n",
       "      <td>The phone has been great for every purpose it ...</td>\n",
       "      <td>Το τηλέφωνο ήταν τέλειο για κάθε σκοπό που προ...</td>\n",
       "      <td>4</td>\n",
       "    </tr>\n",
       "    <tr>\n",
       "      <th>5</th>\n",
       "      <td>Hello, I have this phone and used it until I d...</td>\n",
       "      <td>Γεια σας, έχω αυτό το τηλέφωνο και το χρησιμοπ...</td>\n",
       "      <td>4</td>\n",
       "    </tr>\n",
       "    <tr>\n",
       "      <th>6</th>\n",
       "      <td>Cool. Cheap. Color: 3 words that describe the ...</td>\n",
       "      <td>Δροσερός. Φτηνός. Χρώμα: 3 λέξεις που περιγράφ...</td>\n",
       "      <td>5</td>\n",
       "    </tr>\n",
       "    <tr>\n",
       "      <th>7</th>\n",
       "      <td>The 3599i is overall a nice phone, except that...</td>\n",
       "      <td>Το 3599i είναι γενικά ένα ωραίο τηλέφωνο, εκτό...</td>\n",
       "      <td>4</td>\n",
       "    </tr>\n",
       "    <tr>\n",
       "      <th>8</th>\n",
       "      <td>I've never owned a Nokia phone before, so this...</td>\n",
       "      <td>Δεν είχα ποτέ προηγουμένως τηλέφωνο Nokia, γι ...</td>\n",
       "      <td>5</td>\n",
       "    </tr>\n",
       "    <tr>\n",
       "      <th>9</th>\n",
       "      <td>ok well im in school and i need the text messa...</td>\n",
       "      <td>εντάξει, είμαι στο σχολείο και χρειάζομαι τα γ...</td>\n",
       "      <td>3</td>\n",
       "    </tr>\n",
       "  </tbody>\n",
       "</table>\n",
       "</div>"
      ],
      "text/plain": [
       "                                             reviews  \\\n",
       "0  I had the Samsung A600 for awhile which is abs...   \n",
       "1  Due to a software issue between Nokia and Spri...   \n",
       "2  This is a great, reliable phone. I also purcha...   \n",
       "3  I love the phone and all, because I really did...   \n",
       "4  The phone has been great for every purpose it ...   \n",
       "5  Hello, I have this phone and used it until I d...   \n",
       "6  Cool. Cheap. Color: 3 words that describe the ...   \n",
       "7  The 3599i is overall a nice phone, except that...   \n",
       "8  I've never owned a Nokia phone before, so this...   \n",
       "9  ok well im in school and i need the text messa...   \n",
       "\n",
       "                                               greek  ratings  \n",
       "0  Είχα το Samsung A600 για λίγο που είναι απόλυτ...        3  \n",
       "1  Λόγω ενός προβλήματος λογισμικού μεταξύ της No...        1  \n",
       "2  Αυτό είναι ένα υπέροχο, αξιόπιστο τηλέφωνο. Αγ...        5  \n",
       "3  Λατρεύω το τηλέφωνο και όλα, γιατί πραγματικά ...        3  \n",
       "4  Το τηλέφωνο ήταν τέλειο για κάθε σκοπό που προ...        4  \n",
       "5  Γεια σας, έχω αυτό το τηλέφωνο και το χρησιμοπ...        4  \n",
       "6  Δροσερός. Φτηνός. Χρώμα: 3 λέξεις που περιγράφ...        5  \n",
       "7  Το 3599i είναι γενικά ένα ωραίο τηλέφωνο, εκτό...        4  \n",
       "8  Δεν είχα ποτέ προηγουμένως τηλέφωνο Nokia, γι ...        5  \n",
       "9  εντάξει, είμαι στο σχολείο και χρειάζομαι τα γ...        3  "
      ]
     },
     "execution_count": 7,
     "metadata": {},
     "output_type": "execute_result"
    }
   ],
   "source": [
    "translated = pd.read_csv('translate.csv',header=None)\n",
    "reviews_dataset.insert(loc=1, column='greek', value=translated)\n",
    "reviews_dataset.head(10)"
   ]
  },
  {
   "cell_type": "code",
   "execution_count": 8,
   "metadata": {},
   "outputs": [],
   "source": [
    "#Clean reviews text\n",
    "lemma = WordNetLemmatizer()\n",
    "punctuation = set(string.punctuation)\n",
    "\n",
    "def clean_text(text):\n",
    "    # Convert the text into lowercase\n",
    "    text = text.lower()\n",
    "    # Split into list\n",
    "    wordList = text.split()\n",
    "    # Remove punctuation\n",
    "    wordList = [\"\".join(x for x in word if (x==\"'\")|(x not in punctuation)) for word in wordList]\n",
    "    # Remove stopwords\n",
    "    wordList = [word for word in wordList if word not in stopwords.words('english')]\n",
    "    # Lemmatisation\n",
    "    wordList = [lemma.lemmatize(word) for word in wordList]\n",
    "    return \" \".join(wordList)"
   ]
  },
  {
   "cell_type": "code",
   "execution_count": 9,
   "metadata": {},
   "outputs": [],
   "source": [
    "#reviews_dataset['cleaned_text'] = reviews_dataset['reviews'].apply(clean_text)"
   ]
  },
  {
   "cell_type": "code",
   "execution_count": 10,
   "metadata": {},
   "outputs": [
    {
     "name": "stderr",
     "output_type": "stream",
     "text": [
      "C:\\Users\\John\\Anaconda3\\lib\\site-packages\\seaborn\\_decorators.py:43: FutureWarning: Pass the following variable as a keyword arg: x. From version 0.12, the only valid positional argument will be `data`, and passing other arguments without an explicit keyword will result in an error or misinterpretation.\n",
      "  FutureWarning\n"
     ]
    },
    {
     "data": {
      "text/plain": [
       "<AxesSubplot:xlabel='ratings', ylabel='count'>"
      ]
     },
     "execution_count": 10,
     "metadata": {},
     "output_type": "execute_result"
    },
    {
     "data": {
      "image/png": "[encoded data removed]",
      "text/plain": [
       "<Figure size 432x288 with 1 Axes>"
      ]
     },
     "metadata": {
      "needs_background": "light"
     },
     "output_type": "display_data"
    }
   ],
   "source": [
    "# Check the ratings count\n",
    "\n",
    "sns.countplot(reviews_dataset['ratings'])"
   ]
  },
  {
   "cell_type": "markdown",
   "metadata": {},
   "source": [
    "The `4` and `5` star (positive) ratings combined are more than the `1`,`2` ones (negative) combined. Hence, I decided to add the `3` star ratings to the negative ratings. In order to simplify the situation, I replaced the `4`,`5` star ratings with the label `1`, to indicate positive sentiment and the `1`,`2`,`3` star ratings with the label `0`, to indicate negative sentiment."
   ]
  },
  {
   "cell_type": "code",
   "execution_count": 11,
   "metadata": {},
   "outputs": [
    {
     "data": {
      "text/html": [
       "<div>\n",
       "<style scoped>\n",
       "    .dataframe tbody tr th:only-of-type {\n",
       "        vertical-align: middle;\n",
       "    }\n",
       "\n",
       "    .dataframe tbody tr th {\n",
       "        vertical-align: top;\n",
       "    }\n",
       "\n",
       "    .dataframe thead th {\n",
       "        text-align: right;\n",
       "    }\n",
       "</style>\n",
       "<table border=\"1\" class=\"dataframe\">\n",
       "  <thead>\n",
       "    <tr style=\"text-align: right;\">\n",
       "      <th></th>\n",
       "      <th>reviews</th>\n",
       "      <th>greek</th>\n",
       "      <th>ratings</th>\n",
       "    </tr>\n",
       "  </thead>\n",
       "  <tbody>\n",
       "    <tr>\n",
       "      <th>0</th>\n",
       "      <td>I had the Samsung A600 for awhile which is abs...</td>\n",
       "      <td>Είχα το Samsung A600 για λίγο που είναι απόλυτ...</td>\n",
       "      <td>0</td>\n",
       "    </tr>\n",
       "    <tr>\n",
       "      <th>1</th>\n",
       "      <td>Due to a software issue between Nokia and Spri...</td>\n",
       "      <td>Λόγω ενός προβλήματος λογισμικού μεταξύ της No...</td>\n",
       "      <td>0</td>\n",
       "    </tr>\n",
       "    <tr>\n",
       "      <th>2</th>\n",
       "      <td>This is a great, reliable phone. I also purcha...</td>\n",
       "      <td>Αυτό είναι ένα υπέροχο, αξιόπιστο τηλέφωνο. Αγ...</td>\n",
       "      <td>1</td>\n",
       "    </tr>\n",
       "    <tr>\n",
       "      <th>3</th>\n",
       "      <td>I love the phone and all, because I really did...</td>\n",
       "      <td>Λατρεύω το τηλέφωνο και όλα, γιατί πραγματικά ...</td>\n",
       "      <td>0</td>\n",
       "    </tr>\n",
       "    <tr>\n",
       "      <th>4</th>\n",
       "      <td>The phone has been great for every purpose it ...</td>\n",
       "      <td>Το τηλέφωνο ήταν τέλειο για κάθε σκοπό που προ...</td>\n",
       "      <td>1</td>\n",
       "    </tr>\n",
       "    <tr>\n",
       "      <th>5</th>\n",
       "      <td>Hello, I have this phone and used it until I d...</td>\n",
       "      <td>Γεια σας, έχω αυτό το τηλέφωνο και το χρησιμοπ...</td>\n",
       "      <td>1</td>\n",
       "    </tr>\n",
       "    <tr>\n",
       "      <th>6</th>\n",
       "      <td>Cool. Cheap. Color: 3 words that describe the ...</td>\n",
       "      <td>Δροσερός. Φτηνός. Χρώμα: 3 λέξεις που περιγράφ...</td>\n",
       "      <td>1</td>\n",
       "    </tr>\n",
       "    <tr>\n",
       "      <th>7</th>\n",
       "      <td>The 3599i is overall a nice phone, except that...</td>\n",
       "      <td>Το 3599i είναι γενικά ένα ωραίο τηλέφωνο, εκτό...</td>\n",
       "      <td>1</td>\n",
       "    </tr>\n",
       "    <tr>\n",
       "      <th>8</th>\n",
       "      <td>I've never owned a Nokia phone before, so this...</td>\n",
       "      <td>Δεν είχα ποτέ προηγουμένως τηλέφωνο Nokia, γι ...</td>\n",
       "      <td>1</td>\n",
       "    </tr>\n",
       "    <tr>\n",
       "      <th>9</th>\n",
       "      <td>ok well im in school and i need the text messa...</td>\n",
       "      <td>εντάξει, είμαι στο σχολείο και χρειάζομαι τα γ...</td>\n",
       "      <td>0</td>\n",
       "    </tr>\n",
       "  </tbody>\n",
       "</table>\n",
       "</div>"
      ],
      "text/plain": [
       "                                             reviews  \\\n",
       "0  I had the Samsung A600 for awhile which is abs...   \n",
       "1  Due to a software issue between Nokia and Spri...   \n",
       "2  This is a great, reliable phone. I also purcha...   \n",
       "3  I love the phone and all, because I really did...   \n",
       "4  The phone has been great for every purpose it ...   \n",
       "5  Hello, I have this phone and used it until I d...   \n",
       "6  Cool. Cheap. Color: 3 words that describe the ...   \n",
       "7  The 3599i is overall a nice phone, except that...   \n",
       "8  I've never owned a Nokia phone before, so this...   \n",
       "9  ok well im in school and i need the text messa...   \n",
       "\n",
       "                                               greek  ratings  \n",
       "0  Είχα το Samsung A600 για λίγο που είναι απόλυτ...        0  \n",
       "1  Λόγω ενός προβλήματος λογισμικού μεταξύ της No...        0  \n",
       "2  Αυτό είναι ένα υπέροχο, αξιόπιστο τηλέφωνο. Αγ...        1  \n",
       "3  Λατρεύω το τηλέφωνο και όλα, γιατί πραγματικά ...        0  \n",
       "4  Το τηλέφωνο ήταν τέλειο για κάθε σκοπό που προ...        1  \n",
       "5  Γεια σας, έχω αυτό το τηλέφωνο και το χρησιμοπ...        1  \n",
       "6  Δροσερός. Φτηνός. Χρώμα: 3 λέξεις που περιγράφ...        1  \n",
       "7  Το 3599i είναι γενικά ένα ωραίο τηλέφωνο, εκτό...        1  \n",
       "8  Δεν είχα ποτέ προηγουμένως τηλέφωνο Nokia, γι ...        1  \n",
       "9  εντάξει, είμαι στο σχολείο και χρειάζομαι τα γ...        0  "
      ]
     },
     "execution_count": 11,
     "metadata": {},
     "output_type": "execute_result"
    }
   ],
   "source": [
    "sentiment_dict = {1:0, 2:0, 3:0, 4:1, 5:1}\n",
    "reviews_dataset['ratings'].replace(sentiment_dict,inplace=True)\n",
    "reviews_dataset.head(10)"
   ]
  },
  {
   "cell_type": "code",
   "execution_count": 12,
   "metadata": {},
   "outputs": [
    {
     "name": "stderr",
     "output_type": "stream",
     "text": [
      "C:\\Users\\John\\Anaconda3\\lib\\site-packages\\seaborn\\_decorators.py:43: FutureWarning: Pass the following variable as a keyword arg: x. From version 0.12, the only valid positional argument will be `data`, and passing other arguments without an explicit keyword will result in an error or misinterpretation.\n",
      "  FutureWarning\n"
     ]
    },
    {
     "data": {
      "text/plain": [
       "<AxesSubplot:xlabel='ratings', ylabel='count'>"
      ]
     },
     "execution_count": 12,
     "metadata": {},
     "output_type": "execute_result"
    },
    {
     "data": {
      "image/png": "[encoded data removed]",
      "text/plain": [
       "<Figure size 432x288 with 1 Axes>"
      ]
     },
     "metadata": {
      "needs_background": "light"
     },
     "output_type": "display_data"
    }
   ],
   "source": [
    "sns.countplot(reviews_dataset['ratings'])"
   ]
  },
  {
   "cell_type": "code",
   "execution_count": 13,
   "metadata": {},
   "outputs": [
    {
     "name": "stdout",
     "output_type": "stream",
     "text": [
      "Orginal review text:\n",
      "\n",
      "I had the Samsung A600 for awhile which is absolute doo doo. You can read my review on it and detect my rage at the stupid thing. It finally died on me so I used this Nokia phone I bought in a garage sale for $1. I wonder y she sold it so cheap?... Bad: ===> I hate the menu. It takes forever to get to what you want because you have to scroll endlessly. Usually phones have numbered categories so u can simply press the # and get where you want to go. ===> It's a pain to put it on silent or vibrate. If you're in class and it rings, you have to turn it off immediately. There's no fast way to silence the damn thing. Always remember to put it on silent! I learned that the hard way. ===> It's so true about the case. It's a mission to get off and will break ur nails in the process. Also, you'll damage the case each time u try. For some reason the phone started giving me problems once I did succeed in opening it. ===> Buttons could be a bit bigger. Vibration could be stronger. Good: ===> Reception is not too shabby. I was using it in the elevator which is a remarkable feat considering my old phone would lose service by simply putting it in my pocket. ===> Compared to my old Samsung, this phone works quite well. The ring tones are loud enough to hear and the phone actually charges quickly and has great battery life. It doesn't heat up like a potatoe in the oven either during long phone convos. ===> Nice bright, large screen. ===> Cute ways to customize it. Scroll bar can be set to purple, pink, aqua, orange, etc. Overall: Okay phone. It serves its purpose but definitely pales in comparison to these new phones coming out from Sprint. Why get so so when you can get great?\n",
      "\n",
      "and it's greek translation:\n",
      "\n",
      "Είχα το Samsung A600 για λίγο που είναι απόλυτο doo doo. Μπορείτε να διαβάσετε την κριτική μου σε αυτό και να εντοπίσετε την οργή μου στο ηλίθιο πράγμα. Τελικά πέθανε για μένα, γι 'αυτό χρησιμοποίησα αυτό το τηλέφωνο Nokia που αγόρασα σε γκαράζ για $ 1 Αναρωτιέμαι ότι το πούλησε τόσο φτηνό; ... Κακό: ===> Μισώ το μενού. Χρειάζεται για πάντα για να φτάσετε σε αυτό που θέλετε επειδή πρέπει να κάνετε κύλιση ατελείωτα. Συνήθως τα τηλέφωνα έχουν αριθμημένες κατηγορίες, έτσι μπορείτε απλά να πατήσετε το # και να φτάσετε εκεί που θέλετε να πάτε. ===> Είναι πόνος να το βάζεις σε αθόρυβη ή δόνηση. Εάν είστε στην τάξη και χτυπάει, πρέπει να το απενεργοποιήσετε αμέσως. Δεν υπάρχει γρήγορος τρόπος να σιγήσετε το καταραμένο πράγμα. Να θυμάστε πάντα να το βάζετε σιωπηλό! Έμαθα ότι ο σκληρός τρόπος. ===> Είναι αλήθεια για την υπόθεση. Είναι αποστολή να κατεβείτε και να σπάσετε τα νύχια σας στη διαδικασία. Επίσης, θα καταστρέφετε την θήκη κάθε φορά που δοκιμάζετε. Για κάποιο λόγο το τηλέφωνο άρχισε να μου δίνει προβλήματα όταν κατάφερα να το ανοίξω. ===> Τα κουμπιά θα μπορούσαν να είναι λίγο μεγαλύτερα. Η δόνηση θα μπορούσε να είναι ισχυρότερη. Καλό: ===> Η λήψη δεν είναι πολύ άθλια. Το χρησιμοποιούσα στο ασανσέρ που είναι ένα αξιοθαύμαστο κατόρθωμα, δεδομένου ότι το παλιό μου τηλέφωνο θα χάσει την εξυπηρέτηση απλώς το βάζω στην τσέπη μου. ===> Σε σύγκριση με την παλιά μου Samsung, αυτό το τηλέφωνο λειτουργεί αρκετά καλά. Οι ήχοι κλήσης είναι αρκετά δυνατοί για να ακούσουν και το τηλέφωνο φορτίζει πραγματικά γρήγορα και έχει μεγάλη διάρκεια ζωής της μπαταρίας. Δεν θερμαίνεται σαν μια πατάτα στο φούρνο ούτε κατά τη διάρκεια μεγάλων τηλεφωνικών συνεδριάσεων. ===> Ωραία φωτεινή, μεγάλη οθόνη. ===> Χαριτωμένοι τρόποι προσαρμογής του. Η γραμμή κύλισης μπορεί να οριστεί σε μοβ, ροζ, aqua, πορτοκαλί κ.λπ. Συνολικά: Εντάξει τηλέφωνο. Εξυπηρετεί το σκοπό του, αλλά σίγουρα χλωμό σε σύγκριση με αυτά τα νέα τηλέφωνα που βγαίνουν από το Sprint. Γιατί να το καταφέρετε όταν μπορείτε να γίνετε υπέροχοι;\n"
     ]
    }
   ],
   "source": [
    "reviews = reviews_dataset.reviews\n",
    "translated_reviews = reviews_dataset.greek\n",
    "labels = reviews_dataset.ratings\n",
    "print('Orginal review text:\\n\\n{}\\n\\nand it\\'s greek translation:\\n\\n{}'.format(reviews[0],translated_reviews[0]))"
   ]
  },
  {
   "cell_type": "markdown",
   "metadata": {},
   "source": [
    "## Check Positive and Negative usage of words"
   ]
  },
  {
   "cell_type": "code",
   "execution_count": 14,
   "metadata": {},
   "outputs": [],
   "source": [
    "# Create three Counter objects to store positive, negative and total counts\n",
    "positive_counts = Counter()\n",
    "negative_counts = Counter()\n",
    "total_counts = Counter()"
   ]
  },
  {
   "cell_type": "code",
   "execution_count": 15,
   "metadata": {},
   "outputs": [],
   "source": [
    "# Loop over all the words in all the reviews and increment the counts in the appropriate counter objects\n",
    "for i in range(len(reviews)):\n",
    "    for word in translated_reviews[i].split(\" \"):\n",
    "        total_counts[word] += 1\n",
    "        if labels[i] == 1:\n",
    "            positive_counts[word] += 1\n",
    "        else:\n",
    "            negative_counts[word] += 1\n",
    "        "
   ]
  },
  {
   "cell_type": "code",
   "execution_count": 16,
   "metadata": {},
   "outputs": [],
   "source": [
    "pos_neg_ratios = Counter()\n",
    "\n",
    "# Calculate the ratios of positive and negative uses of the most common words\n",
    "# Consider words to be \"common\" if they've been used at least 100 times\n",
    "for term,cnt in list(total_counts.most_common()):\n",
    "    if(cnt > 100):\n",
    "        pos_neg_ratio = positive_counts[term] / float(negative_counts[term]+1)\n",
    "        pos_neg_ratios[term] = pos_neg_ratio\n",
    "        \n",
    "# Convert ratios to logs\n",
    "for word,ratio in pos_neg_ratios.most_common():\n",
    "    pos_neg_ratios[word] = np.log(ratio)"
   ]
  },
  {
   "cell_type": "code",
   "execution_count": 17,
   "metadata": {},
   "outputs": [
    {
     "name": "stdout",
     "output_type": "stream",
     "text": [
      "Pos-to-neg ratio for 'το' = 0.4645098993220195\n",
      "Pos-to-neg ratio for 'υπέροχο' = 1.600240818953183\n",
      "Pos-to-neg ratio for 'απογοητευμένος' = -1.4737366797236018\n"
     ]
    }
   ],
   "source": [
    "print(\"Pos-to-neg ratio for 'το' = {}\".format(pos_neg_ratios[\"το\"]))\n",
    "print(\"Pos-to-neg ratio for 'υπέροχο' = {}\".format(pos_neg_ratios[\"υπέροχο\"]))\n",
    "print(\"Pos-to-neg ratio for 'απογοητευμένος' = {}\".format(pos_neg_ratios[\"απογοητευμένος\"]))"
   ]
  },
  {
   "cell_type": "markdown",
   "metadata": {},
   "source": [
    "Neutral words like 'το' have logarithmic pos-to-neg ratio slightly larger than zero. Positive words like 'υπέροχο' logarithmic ratio is larger than `1`, that means it is used mostly in positive reviews, whereas negative words like 'απογοητευμένος' have a ratio value smaller than `-1` indicating that they are used mostly in negative reviews."
   ]
  },
  {
   "cell_type": "code",
   "execution_count": 18,
   "metadata": {},
   "outputs": [],
   "source": [
    "#list(pos_neg_ratios.most_common())[0:40]"
   ]
  },
  {
   "cell_type": "code",
   "execution_count": 19,
   "metadata": {},
   "outputs": [],
   "source": [
    "#list(reversed(pos_neg_ratios.most_common()))[0:40]"
   ]
  },
  {
   "cell_type": "code",
   "execution_count": 20,
   "metadata": {},
   "outputs": [],
   "source": [
    "tfidf = TfidfVectorizer(stop_words=stopwords.words('english'))"
   ]
  },
  {
   "cell_type": "code",
   "execution_count": 21,
   "metadata": {},
   "outputs": [
    {
     "data": {
      "text/plain": [
       "<67965x35305 sparse matrix of type '<class 'numpy.float64'>'\n",
       "\twith 1570495 stored elements in Compressed Sparse Row format>"
      ]
     },
     "execution_count": 21,
     "metadata": {},
     "output_type": "execute_result"
    }
   ],
   "source": [
    "tfidf.fit_transform(reviews)"
   ]
  },
  {
   "cell_type": "code",
   "execution_count": 22,
   "metadata": {},
   "outputs": [],
   "source": [
    "vocab = set(nltk.corpus.words.words())"
   ]
  },
  {
   "cell_type": "markdown",
   "metadata": {},
   "source": [
    "## Machine Learning Pipeline"
   ]
  },
  {
   "cell_type": "code",
   "execution_count": 23,
   "metadata": {},
   "outputs": [],
   "source": [
    "X = reviews_dataset['greek']\n",
    "y = reviews_dataset['ratings']"
   ]
  },
  {
   "cell_type": "code",
   "execution_count": 24,
   "metadata": {},
   "outputs": [],
   "source": [
    "def model_training(X,y,algorithm):\n",
    "    X_train, X_test, y_train, y_test = train_test_split(X, y, test_size=0.3, random_state=4)\n",
    "\n",
    "    model_clf = Pipeline([('tfidf', TfidfVectorizer()),\n",
    "                     ('clf', algorithm),\n",
    "    ])\n",
    "\n",
    "    # Feed the training data through the pipeline\n",
    "    model_clf.fit(X_train, y_train) \n",
    "\n",
    "    # Form a prediction set\n",
    "    predictions = model_clf.predict(X_test)\n",
    "\n",
    "    # Report the confusion matrix\n",
    "    confusion_matrix = metrics.confusion_matrix(y_test,predictions)\n",
    "    print('Confusion Matrix\\n{}\\n'.format(confusion_matrix))\n",
    "\n",
    "    # Create a classification report\n",
    "    report = metrics.classification_report(y_test,predictions)\n",
    "    print('Classification report\\n{}\\n'.format(report))\n",
    "\n",
    "    # Calculate the overall accuracy\n",
    "    accuracy_score = metrics.accuracy_score(y_test,predictions)\n",
    "    print('Overall accuracy: {}'.format(accuracy_score))\n",
    "    \n",
    "    return model_clf"
   ]
  },
  {
   "cell_type": "markdown",
   "metadata": {},
   "source": [
    "### Naive Bayes algorithm"
   ]
  },
  {
   "cell_type": "code",
   "execution_count": 25,
   "metadata": {},
   "outputs": [],
   "source": [
    "nb = MultinomialNB()"
   ]
  },
  {
   "cell_type": "code",
   "execution_count": 26,
   "metadata": {},
   "outputs": [
    {
     "name": "stdout",
     "output_type": "stream",
     "text": [
      "Confusion Matrix\n",
      "[[ 3278  3078]\n",
      " [  266 13768]]\n",
      "\n",
      "Classification report\n",
      "              precision    recall  f1-score   support\n",
      "\n",
      "           0       0.92      0.52      0.66      6356\n",
      "           1       0.82      0.98      0.89     14034\n",
      "\n",
      "    accuracy                           0.84     20390\n",
      "   macro avg       0.87      0.75      0.78     20390\n",
      "weighted avg       0.85      0.84      0.82     20390\n",
      "\n",
      "\n",
      "Overall accuracy: 0.8359980382540461\n"
     ]
    }
   ],
   "source": [
    "text_nb = model_training(X,y,nb)"
   ]
  },
  {
   "cell_type": "markdown",
   "metadata": {},
   "source": [
    "### Support Vector Machines algorithm"
   ]
  },
  {
   "cell_type": "code",
   "execution_count": 27,
   "metadata": {},
   "outputs": [],
   "source": [
    "svm = LinearSVC()"
   ]
  },
  {
   "cell_type": "code",
   "execution_count": 28,
   "metadata": {},
   "outputs": [
    {
     "name": "stdout",
     "output_type": "stream",
     "text": [
      "Confusion Matrix\n",
      "[[ 5133  1223]\n",
      " [  951 13083]]\n",
      "\n",
      "Classification report\n",
      "              precision    recall  f1-score   support\n",
      "\n",
      "           0       0.84      0.81      0.83      6356\n",
      "           1       0.91      0.93      0.92     14034\n",
      "\n",
      "    accuracy                           0.89     20390\n",
      "   macro avg       0.88      0.87      0.87     20390\n",
      "weighted avg       0.89      0.89      0.89     20390\n",
      "\n",
      "\n",
      "Overall accuracy: 0.893379107405591\n"
     ]
    }
   ],
   "source": [
    "text_svm = model_training(X,y,svm)"
   ]
  },
  {
   "cell_type": "markdown",
   "metadata": {},
   "source": [
    "#### Check prediction in review from https://www.skroutz.gr/s/20060269/Apple-iPhone-11-64GB-Black.html"
   ]
  },
  {
   "cell_type": "code",
   "execution_count": 29,
   "metadata": {},
   "outputs": [
    {
     "name": "stdout",
     "output_type": "stream",
     "text": [
      "Naive Bayes prediction: [1]\n",
      "SVM prediction: [1]\n"
     ]
    }
   ],
   "source": [
    "greek_review = 'Κατοχος περιπου 7 χρονια iphone, πιστευω πως ειναι το καλυτερο iphone που εχω παρει ποτε,\\\n",
    "σε μεγεθος ειναι ο,τι πρεπει, και η μπαταρια του πολυ καλη, ειχα πετυχει μεχρι και δυο 24ωρα\\\n",
    "διαρκεια μπαταριας στις αρχες που το ειχα παρει, θα μεινω αρκετο καιρο μ αυτο το κινητο απ οτι βλεπω...'\n",
    "\n",
    "print('Naive Bayes prediction: {}\\nSVM prediction: {}'.format(text_nb.predict([greek_review]),\n",
    "      text_svm.predict([greek_review])))"
   ]
  },
  {
   "cell_type": "code",
   "execution_count": 30,
   "metadata": {},
   "outputs": [],
   "source": [
    "r = text_svm[0].transform([reviews[0]])"
   ]
  },
  {
   "cell_type": "code",
   "execution_count": 31,
   "metadata": {},
   "outputs": [
    {
     "data": {
      "text/plain": [
       "array([0.22755037, 0.03480314, 0.03528271, 0.03583633, 0.03832571,\n",
       "       0.07056541, 0.03832571, 0.03480314, 0.03729252, 0.03729252,\n",
       "       0.06509109, 0.03305948, 0.07665141, 0.03729252, 0.0397819 ,\n",
       "       0.03583633, 0.03071096, 0.0397819 , 0.02982438, 0.03729252,\n",
       "       0.0397819 , 0.03649112, 0.03583633, 0.36554824, 0.03231376,\n",
       "       0.06267426, 0.07458504, 0.0397819 , 0.03583633, 0.36389957,\n",
       "       0.03231376, 0.03832571, 0.03832571, 0.03832571, 0.02023591,\n",
       "       0.03649112, 0.19675996, 0.0795638 , 0.03832571, 0.03528271,\n",
       "       0.03279333, 0.07665141, 0.02756678, 0.02558428, 0.03649112,\n",
       "       0.03729252, 0.03365944, 0.0397819 , 0.0397819 , 0.03832571,\n",
       "       0.0397819 , 0.03169657, 0.03832571, 0.0397819 , 0.07665141,\n",
       "       0.03649112, 0.03832571, 0.03729252, 0.0397819 , 0.03334695,\n",
       "       0.03832571, 0.06202083, 0.14001867, 0.03832571, 0.03085757,\n",
       "       0.03528271, 0.03400174, 0.03528271, 0.10351521, 0.06960628,\n",
       "       0.0397819 , 0.05688759, 0.02930297, 0.01704923, 0.02027499,\n",
       "       0.03365944, 0.02756678, 0.14040359, 0.0397819 , 0.03832571,\n",
       "       0.04295424, 0.03480314, 0.0397819 , 0.03729252, 0.03583633,\n",
       "       0.02884775, 0.03209603, 0.03832571, 0.03832571, 0.03649112,\n",
       "       0.46966145, 0.09053375, 0.21450871, 0.0397819 , 0.03438013,\n",
       "       0.0397819 , 0.09694128, 0.03305948, 0.03583633, 0.03209603,\n",
       "       0.06202083, 0.0305701 , 0.02490218, 0.1682972 , 0.0397819 ,\n",
       "       0.03480314, 0.03583633, 0.08466473, 0.03832571, 0.02971386,\n",
       "       0.03832571, 0.03832571, 0.07298224, 0.03832571, 0.0397819 ,\n",
       "       0.03649112, 0.0397819 , 0.07458504, 0.0397819 , 0.0397819 ,\n",
       "       0.03305948, 0.03729252, 0.0598768 , 0.13752053, 0.03017792,\n",
       "       0.0397819 , 0.03209603, 0.0397819 , 0.03832571, 0.03133713,\n",
       "       0.03649112, 0.10097832, 0.0299384 , 0.0284438 , 0.03085757,\n",
       "       0.0397819 , 0.0167017 , 0.03400174, 0.03832571, 0.16434934,\n",
       "       0.03729252, 0.03528271, 0.0397819 , 0.03832571, 0.03583633])"
      ]
     },
     "execution_count": 31,
     "metadata": {},
     "output_type": "execute_result"
    }
   ],
   "source": [
    "r.data"
   ]
  },
  {
   "cell_type": "code",
   "execution_count": null,
   "metadata": {},
   "outputs": [],
   "source": []
  }
 ],
 "metadata": {
  "kernelspec": {
   "display_name": "Python 3",
   "language": "python",
   "name": "python3"
  },
  "language_info": {
   "codemirror_mode": {
    "name": "ipython",
    "version": 3
   },
   "file_extension": ".py",
   "mimetype": "text/x-python",
   "name": "python",
   "nbconvert_exporter": "python",
   "pygments_lexer": "ipython3",
   "version": "3.7.9"
  }
 },
 "nbformat": 4,
 "nbformat_minor": 4
}
