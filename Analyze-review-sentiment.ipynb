{
 "cells": [
  {
   "cell_type": "markdown",
   "metadata": {},
   "source": [
    "# Project in Machine Learning Class: Predict user's product reviews sentiment\n",
    "---\n",
    "\n",
    "### John Koumentis, MTN2012\n",
    "\n",
    "The project evaluates the performance of different Machine Learning Classification algorithms over predicting the correct sentiment (Positive or Negative) of the given review in **Greek** language."
   ]
  },
  {
   "cell_type": "code",
   "execution_count": 1,
   "metadata": {},
   "outputs": [
    {
     "name": "stderr",
     "output_type": "stream",
     "text": [
      "[nltk_data] Downloading package stopwords to\n",
      "[nltk_data]     C:\\Users\\John\\AppData\\Roaming\\nltk_data...\n",
      "[nltk_data]   Package stopwords is already up-to-date!\n"
     ]
    }
   ],
   "source": [
    "# Load the necessary modules\n",
    "import numpy as np\n",
    "import pandas as pd\n",
    "from collections import Counter\n",
    "import os\n",
    "import time\n",
    "import matplotlib.pyplot as plt\n",
    "%matplotlib inline\n",
    "import matplotlib.patches as mpatches\n",
    "import seaborn as sns\n",
    "\n",
    "import string\n",
    "import re\n",
    "import nltk\n",
    "from nltk.corpus import stopwords\n",
    "nltk.download('stopwords')\n",
    "import spacy\n",
    "\n",
    "from sklearn.model_selection import KFold, train_test_split, GridSearchCV\n",
    "from sklearn.pipeline import Pipeline\n",
    "from sklearn.feature_extraction.text import TfidfVectorizer\n",
    "from sklearn.naive_bayes import MultinomialNB\n",
    "from sklearn.svm import LinearSVC\n",
    "from sklearn.linear_model import LogisticRegression\n",
    "from sklearn.tree import DecisionTreeClassifier\n",
    "from sklearn import metrics\n",
    "from sklearn.utils import resample\n",
    "\n",
    "import requests\n",
    "from bs4 import BeautifulSoup\n",
    "\n",
    "import warnings\n",
    "warnings.filterwarnings('ignore')"
   ]
  },
  {
   "cell_type": "markdown",
   "metadata": {},
   "source": [
    "## Load and pre-process data\n",
    "---"
   ]
  },
  {
   "cell_type": "markdown",
   "metadata": {},
   "source": [
    "The data used comes from the 'Amazon Cell Phones Reviews' dataset found in Kaggle (https://www.kaggle.com/grikomsn/amazon-cell-phones-reviews)"
   ]
  },
  {
   "cell_type": "code",
   "execution_count": 2,
   "metadata": {},
   "outputs": [],
   "source": [
    "#Read the reviews dataset\n",
    "if os.path.exists('20191226-reviews.csv'):\n",
    "    df = pd.read_csv('20191226-reviews.csv')\n",
    "else:\n",
    "    df = pd.read_csv('https://drive.google.com/uc?id=1jwYbSTB4m0LaWKl0UCxcWLiJdLHpsnFX&export=download')\n",
    "df = df.drop('name', axis=1)"
   ]
  },
  {
   "cell_type": "code",
   "execution_count": 3,
   "metadata": {},
   "outputs": [
    {
     "name": "stdout",
     "output_type": "stream",
     "text": [
      "asin                0\n",
      "rating              0\n",
      "date                0\n",
      "verified            0\n",
      "title              14\n",
      "body               21\n",
      "helpfulVotes    40771\n",
      "dtype: int64\n"
     ]
    }
   ],
   "source": [
    "#Check for missing data\n",
    "missing_data = df.isnull().sum()\n",
    "print(missing_data)"
   ]
  },
  {
   "cell_type": "code",
   "execution_count": 4,
   "metadata": {},
   "outputs": [
    {
     "data": {
      "text/plain": [
       "(array([ 9445, 18055, 19749, 20892, 21149, 21887, 22917, 29501, 30010,\n",
       "        35596, 36845, 43415, 45899, 46470, 51628, 52176, 55171, 57837,\n",
       "        61074, 62205, 64371], dtype=int64),)"
      ]
     },
     "execution_count": 4,
     "metadata": {},
     "output_type": "execute_result"
    }
   ],
   "source": [
    "#Remove empty reviews\n",
    "empty_reviews = np.where(pd.isnull(df.body))\n",
    "df.drop(list(empty_reviews)[0],inplace=True)\n",
    "empty_reviews"
   ]
  },
  {
   "cell_type": "code",
   "execution_count": 5,
   "metadata": {},
   "outputs": [
    {
     "data": {
      "text/html": [
       "<div>\n",
       "<style scoped>\n",
       "    .dataframe tbody tr th:only-of-type {\n",
       "        vertical-align: middle;\n",
       "    }\n",
       "\n",
       "    .dataframe tbody tr th {\n",
       "        vertical-align: top;\n",
       "    }\n",
       "\n",
       "    .dataframe thead th {\n",
       "        text-align: right;\n",
       "    }\n",
       "</style>\n",
       "<table border=\"1\" class=\"dataframe\">\n",
       "  <thead>\n",
       "    <tr style=\"text-align: right;\">\n",
       "      <th></th>\n",
       "      <th>asin</th>\n",
       "      <th>rating</th>\n",
       "      <th>date</th>\n",
       "      <th>verified</th>\n",
       "      <th>title</th>\n",
       "      <th>body</th>\n",
       "      <th>helpfulVotes</th>\n",
       "    </tr>\n",
       "  </thead>\n",
       "  <tbody>\n",
       "    <tr>\n",
       "      <th>0</th>\n",
       "      <td>B0000SX2UC</td>\n",
       "      <td>3</td>\n",
       "      <td>October 11, 2005</td>\n",
       "      <td>False</td>\n",
       "      <td>Def not best, but not worst</td>\n",
       "      <td>I had the Samsung A600 for awhile which is abs...</td>\n",
       "      <td>1.0</td>\n",
       "    </tr>\n",
       "    <tr>\n",
       "      <th>1</th>\n",
       "      <td>B0000SX2UC</td>\n",
       "      <td>1</td>\n",
       "      <td>January 7, 2004</td>\n",
       "      <td>False</td>\n",
       "      <td>Text Messaging Doesn't Work</td>\n",
       "      <td>Due to a software issue between Nokia and Spri...</td>\n",
       "      <td>17.0</td>\n",
       "    </tr>\n",
       "    <tr>\n",
       "      <th>2</th>\n",
       "      <td>B0000SX2UC</td>\n",
       "      <td>5</td>\n",
       "      <td>December 30, 2003</td>\n",
       "      <td>False</td>\n",
       "      <td>Love This Phone</td>\n",
       "      <td>This is a great, reliable phone. I also purcha...</td>\n",
       "      <td>5.0</td>\n",
       "    </tr>\n",
       "    <tr>\n",
       "      <th>3</th>\n",
       "      <td>B0000SX2UC</td>\n",
       "      <td>3</td>\n",
       "      <td>March 18, 2004</td>\n",
       "      <td>False</td>\n",
       "      <td>Love the Phone, BUT...!</td>\n",
       "      <td>I love the phone and all, because I really did...</td>\n",
       "      <td>1.0</td>\n",
       "    </tr>\n",
       "    <tr>\n",
       "      <th>4</th>\n",
       "      <td>B0000SX2UC</td>\n",
       "      <td>4</td>\n",
       "      <td>August 28, 2005</td>\n",
       "      <td>False</td>\n",
       "      <td>Great phone service and options, lousy case!</td>\n",
       "      <td>The phone has been great for every purpose it ...</td>\n",
       "      <td>1.0</td>\n",
       "    </tr>\n",
       "    <tr>\n",
       "      <th>5</th>\n",
       "      <td>B0000SX2UC</td>\n",
       "      <td>4</td>\n",
       "      <td>September 25, 2005</td>\n",
       "      <td>False</td>\n",
       "      <td>Worked great for me</td>\n",
       "      <td>Hello, I have this phone and used it until I d...</td>\n",
       "      <td>NaN</td>\n",
       "    </tr>\n",
       "    <tr>\n",
       "      <th>6</th>\n",
       "      <td>B0000SX2UC</td>\n",
       "      <td>5</td>\n",
       "      <td>April 16, 2004</td>\n",
       "      <td>False</td>\n",
       "      <td>Wanna cool Nokia? You have it here!</td>\n",
       "      <td>Cool. Cheap. Color: 3 words that describe the ...</td>\n",
       "      <td>2.0</td>\n",
       "    </tr>\n",
       "    <tr>\n",
       "      <th>7</th>\n",
       "      <td>B0000SX2UC</td>\n",
       "      <td>4</td>\n",
       "      <td>April 3, 2004</td>\n",
       "      <td>False</td>\n",
       "      <td>Problem with 3588i universal headset</td>\n",
       "      <td>The 3599i is overall a nice phone, except that...</td>\n",
       "      <td>2.0</td>\n",
       "    </tr>\n",
       "    <tr>\n",
       "      <th>8</th>\n",
       "      <td>B0000SX2UC</td>\n",
       "      <td>5</td>\n",
       "      <td>November 24, 2003</td>\n",
       "      <td>False</td>\n",
       "      <td>cool phone!!!!!!!!</td>\n",
       "      <td>I've never owned a Nokia phone before, so this...</td>\n",
       "      <td>7.0</td>\n",
       "    </tr>\n",
       "    <tr>\n",
       "      <th>9</th>\n",
       "      <td>B0000SX2UC</td>\n",
       "      <td>3</td>\n",
       "      <td>February 2, 2004</td>\n",
       "      <td>False</td>\n",
       "      <td>Pissed off-a little bit</td>\n",
       "      <td>ok well im in school and i need the text messa...</td>\n",
       "      <td>3.0</td>\n",
       "    </tr>\n",
       "  </tbody>\n",
       "</table>\n",
       "</div>"
      ],
      "text/plain": [
       "         asin  rating                date  verified  \\\n",
       "0  B0000SX2UC       3    October 11, 2005     False   \n",
       "1  B0000SX2UC       1     January 7, 2004     False   \n",
       "2  B0000SX2UC       5   December 30, 2003     False   \n",
       "3  B0000SX2UC       3      March 18, 2004     False   \n",
       "4  B0000SX2UC       4     August 28, 2005     False   \n",
       "5  B0000SX2UC       4  September 25, 2005     False   \n",
       "6  B0000SX2UC       5      April 16, 2004     False   \n",
       "7  B0000SX2UC       4       April 3, 2004     False   \n",
       "8  B0000SX2UC       5   November 24, 2003     False   \n",
       "9  B0000SX2UC       3    February 2, 2004     False   \n",
       "\n",
       "                                          title  \\\n",
       "0                   Def not best, but not worst   \n",
       "1                   Text Messaging Doesn't Work   \n",
       "2                               Love This Phone   \n",
       "3                       Love the Phone, BUT...!   \n",
       "4  Great phone service and options, lousy case!   \n",
       "5                           Worked great for me   \n",
       "6           Wanna cool Nokia? You have it here!   \n",
       "7          Problem with 3588i universal headset   \n",
       "8                            cool phone!!!!!!!!   \n",
       "9                       Pissed off-a little bit   \n",
       "\n",
       "                                                body  helpfulVotes  \n",
       "0  I had the Samsung A600 for awhile which is abs...           1.0  \n",
       "1  Due to a software issue between Nokia and Spri...          17.0  \n",
       "2  This is a great, reliable phone. I also purcha...           5.0  \n",
       "3  I love the phone and all, because I really did...           1.0  \n",
       "4  The phone has been great for every purpose it ...           1.0  \n",
       "5  Hello, I have this phone and used it until I d...           NaN  \n",
       "6  Cool. Cheap. Color: 3 words that describe the ...           2.0  \n",
       "7  The 3599i is overall a nice phone, except that...           2.0  \n",
       "8  I've never owned a Nokia phone before, so this...           7.0  \n",
       "9  ok well im in school and i need the text messa...           3.0  "
      ]
     },
     "execution_count": 5,
     "metadata": {},
     "output_type": "execute_result"
    }
   ],
   "source": [
    "df.head(10)"
   ]
  },
  {
   "cell_type": "code",
   "execution_count": 6,
   "metadata": {},
   "outputs": [
    {
     "data": {
      "text/html": [
       "<div>\n",
       "<style scoped>\n",
       "    .dataframe tbody tr th:only-of-type {\n",
       "        vertical-align: middle;\n",
       "    }\n",
       "\n",
       "    .dataframe tbody tr th {\n",
       "        vertical-align: top;\n",
       "    }\n",
       "\n",
       "    .dataframe thead th {\n",
       "        text-align: right;\n",
       "    }\n",
       "</style>\n",
       "<table border=\"1\" class=\"dataframe\">\n",
       "  <thead>\n",
       "    <tr style=\"text-align: right;\">\n",
       "      <th></th>\n",
       "      <th>reviews</th>\n",
       "      <th>ratings</th>\n",
       "    </tr>\n",
       "  </thead>\n",
       "  <tbody>\n",
       "    <tr>\n",
       "      <th>0</th>\n",
       "      <td>I had the Samsung A600 for awhile which is abs...</td>\n",
       "      <td>3</td>\n",
       "    </tr>\n",
       "    <tr>\n",
       "      <th>1</th>\n",
       "      <td>Due to a software issue between Nokia and Spri...</td>\n",
       "      <td>1</td>\n",
       "    </tr>\n",
       "    <tr>\n",
       "      <th>2</th>\n",
       "      <td>This is a great, reliable phone. I also purcha...</td>\n",
       "      <td>5</td>\n",
       "    </tr>\n",
       "    <tr>\n",
       "      <th>3</th>\n",
       "      <td>I love the phone and all, because I really did...</td>\n",
       "      <td>3</td>\n",
       "    </tr>\n",
       "    <tr>\n",
       "      <th>4</th>\n",
       "      <td>The phone has been great for every purpose it ...</td>\n",
       "      <td>4</td>\n",
       "    </tr>\n",
       "  </tbody>\n",
       "</table>\n",
       "</div>"
      ],
      "text/plain": [
       "                                             reviews  ratings\n",
       "0  I had the Samsung A600 for awhile which is abs...        3\n",
       "1  Due to a software issue between Nokia and Spri...        1\n",
       "2  This is a great, reliable phone. I also purcha...        5\n",
       "3  I love the phone and all, because I really did...        3\n",
       "4  The phone has been great for every purpose it ...        4"
      ]
     },
     "execution_count": 6,
     "metadata": {},
     "output_type": "execute_result"
    }
   ],
   "source": [
    "#Isolate body and rating columns in a new dataset\n",
    "reviews_dataset = pd.DataFrame({'reviews':df.body.values, 'ratings':df.rating.values})\n",
    "#reviews_dataset.to_csv('reviews.csv')\n",
    "reviews_dataset.head()"
   ]
  },
  {
   "cell_type": "markdown",
   "metadata": {},
   "source": [
    "After removing the lines containing the empty reviews and creating a new dataset by keeping only the reviews and ratings column, the reviews column was loaded in XLSX format at https://translate.google.gr/?hl=el&sl=auto&tl=el&op=docs and translated. The output was an HTML table that was launched via Excel and stored in CSV format with name 'translate.csv'."
   ]
  },
  {
   "cell_type": "code",
   "execution_count": 7,
   "metadata": {},
   "outputs": [
    {
     "data": {
      "text/html": [
       "<div>\n",
       "<style scoped>\n",
       "    .dataframe tbody tr th:only-of-type {\n",
       "        vertical-align: middle;\n",
       "    }\n",
       "\n",
       "    .dataframe tbody tr th {\n",
       "        vertical-align: top;\n",
       "    }\n",
       "\n",
       "    .dataframe thead th {\n",
       "        text-align: right;\n",
       "    }\n",
       "</style>\n",
       "<table border=\"1\" class=\"dataframe\">\n",
       "  <thead>\n",
       "    <tr style=\"text-align: right;\">\n",
       "      <th></th>\n",
       "      <th>reviews</th>\n",
       "      <th>greek</th>\n",
       "      <th>ratings</th>\n",
       "    </tr>\n",
       "  </thead>\n",
       "  <tbody>\n",
       "    <tr>\n",
       "      <th>0</th>\n",
       "      <td>I had the Samsung A600 for awhile which is abs...</td>\n",
       "      <td>Είχα το Samsung A600 για λίγο που είναι απόλυτ...</td>\n",
       "      <td>3</td>\n",
       "    </tr>\n",
       "    <tr>\n",
       "      <th>1</th>\n",
       "      <td>Due to a software issue between Nokia and Spri...</td>\n",
       "      <td>Λόγω ενός προβλήματος λογισμικού μεταξύ της No...</td>\n",
       "      <td>1</td>\n",
       "    </tr>\n",
       "    <tr>\n",
       "      <th>2</th>\n",
       "      <td>This is a great, reliable phone. I also purcha...</td>\n",
       "      <td>Αυτό είναι ένα υπέροχο, αξιόπιστο τηλέφωνο. Αγ...</td>\n",
       "      <td>5</td>\n",
       "    </tr>\n",
       "    <tr>\n",
       "      <th>3</th>\n",
       "      <td>I love the phone and all, because I really did...</td>\n",
       "      <td>Λατρεύω το τηλέφωνο και όλα, γιατί πραγματικά ...</td>\n",
       "      <td>3</td>\n",
       "    </tr>\n",
       "    <tr>\n",
       "      <th>4</th>\n",
       "      <td>The phone has been great for every purpose it ...</td>\n",
       "      <td>Το τηλέφωνο ήταν τέλειο για κάθε σκοπό που προ...</td>\n",
       "      <td>4</td>\n",
       "    </tr>\n",
       "    <tr>\n",
       "      <th>5</th>\n",
       "      <td>Hello, I have this phone and used it until I d...</td>\n",
       "      <td>Γεια σας, έχω αυτό το τηλέφωνο και το χρησιμοπ...</td>\n",
       "      <td>4</td>\n",
       "    </tr>\n",
       "    <tr>\n",
       "      <th>6</th>\n",
       "      <td>Cool. Cheap. Color: 3 words that describe the ...</td>\n",
       "      <td>Δροσερός. Φτηνός. Χρώμα: 3 λέξεις που περιγράφ...</td>\n",
       "      <td>5</td>\n",
       "    </tr>\n",
       "    <tr>\n",
       "      <th>7</th>\n",
       "      <td>The 3599i is overall a nice phone, except that...</td>\n",
       "      <td>Το 3599i είναι γενικά ένα ωραίο τηλέφωνο, εκτό...</td>\n",
       "      <td>4</td>\n",
       "    </tr>\n",
       "    <tr>\n",
       "      <th>8</th>\n",
       "      <td>I've never owned a Nokia phone before, so this...</td>\n",
       "      <td>Δεν είχα ποτέ προηγουμένως τηλέφωνο Nokia, γι ...</td>\n",
       "      <td>5</td>\n",
       "    </tr>\n",
       "    <tr>\n",
       "      <th>9</th>\n",
       "      <td>ok well im in school and i need the text messa...</td>\n",
       "      <td>εντάξει, είμαι στο σχολείο και χρειάζομαι τα γ...</td>\n",
       "      <td>3</td>\n",
       "    </tr>\n",
       "  </tbody>\n",
       "</table>\n",
       "</div>"
      ],
      "text/plain": [
       "                                             reviews  \\\n",
       "0  I had the Samsung A600 for awhile which is abs...   \n",
       "1  Due to a software issue between Nokia and Spri...   \n",
       "2  This is a great, reliable phone. I also purcha...   \n",
       "3  I love the phone and all, because I really did...   \n",
       "4  The phone has been great for every purpose it ...   \n",
       "5  Hello, I have this phone and used it until I d...   \n",
       "6  Cool. Cheap. Color: 3 words that describe the ...   \n",
       "7  The 3599i is overall a nice phone, except that...   \n",
       "8  I've never owned a Nokia phone before, so this...   \n",
       "9  ok well im in school and i need the text messa...   \n",
       "\n",
       "                                               greek  ratings  \n",
       "0  Είχα το Samsung A600 για λίγο που είναι απόλυτ...        3  \n",
       "1  Λόγω ενός προβλήματος λογισμικού μεταξύ της No...        1  \n",
       "2  Αυτό είναι ένα υπέροχο, αξιόπιστο τηλέφωνο. Αγ...        5  \n",
       "3  Λατρεύω το τηλέφωνο και όλα, γιατί πραγματικά ...        3  \n",
       "4  Το τηλέφωνο ήταν τέλειο για κάθε σκοπό που προ...        4  \n",
       "5  Γεια σας, έχω αυτό το τηλέφωνο και το χρησιμοπ...        4  \n",
       "6  Δροσερός. Φτηνός. Χρώμα: 3 λέξεις που περιγράφ...        5  \n",
       "7  Το 3599i είναι γενικά ένα ωραίο τηλέφωνο, εκτό...        4  \n",
       "8  Δεν είχα ποτέ προηγουμένως τηλέφωνο Nokia, γι ...        5  \n",
       "9  εντάξει, είμαι στο σχολείο και χρειάζομαι τα γ...        3  "
      ]
     },
     "execution_count": 7,
     "metadata": {},
     "output_type": "execute_result"
    }
   ],
   "source": [
    "if os.path.exists('translated.csv'):\n",
    "    translated = pd.read_csv('translated.csv',header=None)\n",
    "else:\n",
    "    translated = pd.read_csv('https://drive.google.com/uc?id=1Jr4Mvh4V4xtR6_47jIIyJ8N6pebunmni&export=download',\n",
    "                         header=None)\n",
    "reviews_dataset.insert(loc=1, column='greek', value=translated)\n",
    "reviews_dataset.head(10)"
   ]
  },
  {
   "cell_type": "markdown",
   "metadata": {},
   "source": [
    "---\n",
    "Next step is cleaning the translated greek text. Below are the modules and the regular expressions used:"
   ]
  },
  {
   "cell_type": "code",
   "execution_count": 8,
   "metadata": {},
   "outputs": [],
   "source": [
    "#Clean reviews text\n",
    "punctuation = set(string.punctuation)\n",
    "greek = re.compile(r'[α-ωά-ώϊϋΐΰ]+') #Isolate greek characters\n",
    "special_chars = re.compile('[u\"\\U0001F300-\\U0001F5FF\"]+',flags=re.UNICODE) #Locate special characters like emojis\n",
    "nlp = spacy.load('el_core_news_sm')"
   ]
  },
  {
   "cell_type": "markdown",
   "metadata": {},
   "source": [
    "Introducing a function to clean the translated text, that converts words to lowercase, removes punctuation and stopwords and applies lemmatization."
   ]
  },
  {
   "cell_type": "code",
   "execution_count": 9,
   "metadata": {},
   "outputs": [],
   "source": [
    "def clean_text(text):\n",
    "    \"\"\"Accepts a string a input and applies a cleaning pipeline,\n",
    "       converting to lowercase, removing special characters, punctuation\n",
    "       and stopwords and performing lemmatization.\n",
    "       The output is the cleaned input string.\n",
    "    \"\"\"\n",
    "    # Convert the text into lowercase\n",
    "    text = text.lower()\n",
    "    # Remove special characters\n",
    "    text = special_chars.sub(r'',text)\n",
    "    # Remove Latin characters\n",
    "    wordList = greek.findall(text)\n",
    "    # Remove punctuation\n",
    "    wordList = [\"\".join(x for x in word if (x==\"'\")|(x not in punctuation)) for word in wordList]\n",
    "    # Remove stopwords\n",
    "    wordList = [word for word in wordList if word not in stopwords.words('greek')]\n",
    "    # Lemmatisation\n",
    "    cleaned_text = nlp(\" \".join(wordList))\n",
    "    cleaned_text = [token.lemma_ for token in cleaned_text]\n",
    "    return \" \".join(cleaned_text).strip()"
   ]
  },
  {
   "cell_type": "markdown",
   "metadata": {},
   "source": [
    "Due to long execution time the results of the following cell execution were stored in the cleaned.csv file, to get retrieved directly from there."
   ]
  },
  {
   "cell_type": "code",
   "execution_count": 10,
   "metadata": {},
   "outputs": [
    {
     "data": {
      "text/html": [
       "<div>\n",
       "<style scoped>\n",
       "    .dataframe tbody tr th:only-of-type {\n",
       "        vertical-align: middle;\n",
       "    }\n",
       "\n",
       "    .dataframe tbody tr th {\n",
       "        vertical-align: top;\n",
       "    }\n",
       "\n",
       "    .dataframe thead th {\n",
       "        text-align: right;\n",
       "    }\n",
       "</style>\n",
       "<table border=\"1\" class=\"dataframe\">\n",
       "  <thead>\n",
       "    <tr style=\"text-align: right;\">\n",
       "      <th></th>\n",
       "      <th>reviews</th>\n",
       "      <th>greek</th>\n",
       "      <th>ratings</th>\n",
       "      <th>cleaned_text</th>\n",
       "    </tr>\n",
       "  </thead>\n",
       "  <tbody>\n",
       "    <tr>\n",
       "      <th>0</th>\n",
       "      <td>I had the Samsung A600 for awhile which is abs...</td>\n",
       "      <td>Είχα το Samsung A600 για λίγο που είναι απόλυτ...</td>\n",
       "      <td>3</td>\n",
       "      <td>έχω λίγο είναι απόλυτος μπορείτε διαβάσω κριτι...</td>\n",
       "    </tr>\n",
       "    <tr>\n",
       "      <th>1</th>\n",
       "      <td>Due to a software issue between Nokia and Spri...</td>\n",
       "      <td>Λόγω ενός προβλήματος λογισμικού μεταξύ της No...</td>\n",
       "      <td>1</td>\n",
       "      <td>λόγω ενός προβλήματος λογισμικός μεταξύ της τη...</td>\n",
       "    </tr>\n",
       "    <tr>\n",
       "      <th>2</th>\n",
       "      <td>This is a great, reliable phone. I also purcha...</td>\n",
       "      <td>Αυτό είναι ένα υπέροχο, αξιόπιστο τηλέφωνο. Αγ...</td>\n",
       "      <td>5</td>\n",
       "      <td>αυτό είναι ένα υπέροχος αξιόπιστος τηλέφωνο αγ...</td>\n",
       "    </tr>\n",
       "    <tr>\n",
       "      <th>3</th>\n",
       "      <td>I love the phone and all, because I really did...</td>\n",
       "      <td>Λατρεύω το τηλέφωνο και όλα, γιατί πραγματικά ...</td>\n",
       "      <td>3</td>\n",
       "      <td>λατρεύω τηλέφωνο όλος γιατί πραγματικά χρειαζά...</td>\n",
       "    </tr>\n",
       "    <tr>\n",
       "      <th>4</th>\n",
       "      <td>The phone has been great for every purpose it ...</td>\n",
       "      <td>Το τηλέφωνο ήταν τέλειο για κάθε σκοπό που προ...</td>\n",
       "      <td>4</td>\n",
       "      <td>τηλέφωνο ήταν τέλειος κάθε σκοπό προσφέρω εκτό...</td>\n",
       "    </tr>\n",
       "  </tbody>\n",
       "</table>\n",
       "</div>"
      ],
      "text/plain": [
       "                                             reviews  \\\n",
       "0  I had the Samsung A600 for awhile which is abs...   \n",
       "1  Due to a software issue between Nokia and Spri...   \n",
       "2  This is a great, reliable phone. I also purcha...   \n",
       "3  I love the phone and all, because I really did...   \n",
       "4  The phone has been great for every purpose it ...   \n",
       "\n",
       "                                               greek  ratings  \\\n",
       "0  Είχα το Samsung A600 για λίγο που είναι απόλυτ...        3   \n",
       "1  Λόγω ενός προβλήματος λογισμικού μεταξύ της No...        1   \n",
       "2  Αυτό είναι ένα υπέροχο, αξιόπιστο τηλέφωνο. Αγ...        5   \n",
       "3  Λατρεύω το τηλέφωνο και όλα, γιατί πραγματικά ...        3   \n",
       "4  Το τηλέφωνο ήταν τέλειο για κάθε σκοπό που προ...        4   \n",
       "\n",
       "                                        cleaned_text  \n",
       "0  έχω λίγο είναι απόλυτος μπορείτε διαβάσω κριτι...  \n",
       "1  λόγω ενός προβλήματος λογισμικός μεταξύ της τη...  \n",
       "2  αυτό είναι ένα υπέροχος αξιόπιστος τηλέφωνο αγ...  \n",
       "3  λατρεύω τηλέφωνο όλος γιατί πραγματικά χρειαζά...  \n",
       "4  τηλέφωνο ήταν τέλειος κάθε σκοπό προσφέρω εκτό...  "
      ]
     },
     "execution_count": 10,
     "metadata": {},
     "output_type": "execute_result"
    }
   ],
   "source": [
    "#start = time.process_time()\n",
    "#reviews_dataset['cleaned_text'] = reviews_dataset['greek'].apply(clean_text)\n",
    "#print(time.process_time() - start)\n",
    "#reviews_dataset.to_csv('cleaned.csv')\n",
    "if os.path.exists('cleaned.csv'):\n",
    "    reviews_dataset = pd.read_csv('cleaned.csv',index_col=0)\n",
    "else:\n",
    "    reviews_dataset = pd.read_csv('https://drive.google.com/uc?id=1I9_zVYFblWO4uYP3-WsIkV-RPdsUMx2o&export=download',\n",
    "                              index_col=0)\n",
    "reviews_dataset.head()"
   ]
  },
  {
   "cell_type": "markdown",
   "metadata": {},
   "source": [
    "After cleaning the data, there were some reviews that provided empty result:"
   ]
  },
  {
   "cell_type": "code",
   "execution_count": 11,
   "metadata": {},
   "outputs": [
    {
     "name": "stdout",
     "output_type": "stream",
     "text": [
      "reviews            0\n",
      "greek              0\n",
      "ratings            0\n",
      "cleaned_text    2145\n",
      "dtype: int64\n"
     ]
    }
   ],
   "source": [
    "missing_data = reviews_dataset.isnull().sum()\n",
    "print(missing_data)"
   ]
  },
  {
   "cell_type": "code",
   "execution_count": 12,
   "metadata": {},
   "outputs": [
    {
     "data": {
      "text/plain": [
       "(array([ 9445, 18055, 19749, 20892, 21149, 21887, 22917, 29501, 30010,\n",
       "        35596, 36845, 43415, 45899, 46470, 51628, 52176, 55171, 57837,\n",
       "        61074, 62205, 64371], dtype=int64),)"
      ]
     },
     "execution_count": 12,
     "metadata": {},
     "output_type": "execute_result"
    }
   ],
   "source": [
    "nans = np.where(pd.isnull(reviews_dataset.cleaned_text))\n",
    "reviews_dataset.drop(list(nans)[0],inplace=True)\n",
    "empty_reviews"
   ]
  },
  {
   "cell_type": "markdown",
   "metadata": {},
   "source": [
    "After cleaning the features, I looked into the target values"
   ]
  },
  {
   "cell_type": "code",
   "execution_count": 13,
   "metadata": {},
   "outputs": [
    {
     "data": {
      "text/plain": [
       "<AxesSubplot:xlabel='ratings', ylabel='count'>"
      ]
     },
     "execution_count": 13,
     "metadata": {},
     "output_type": "execute_result"
    },
    {
     "data": {
      "image/png": "[encoded data removed]",
      "text/plain": [
       "<Figure size 432x288 with 1 Axes>"
      ]
     },
     "metadata": {
      "needs_background": "light"
     },
     "output_type": "display_data"
    }
   ],
   "source": [
    "# Check the ratings count\n",
    "sns.countplot(reviews_dataset['ratings'])"
   ]
  },
  {
   "cell_type": "markdown",
   "metadata": {},
   "source": [
    "The `4` and `5` star (positive) ratings combined are more than the `1`,`2` ones (negative) combined. Hence, I decided to add the `3` star ratings to the negative ratings. In order to simplify the situation, I replaced the `4`,`5` star ratings with the label `1`, to indicate positive sentiment and the `1`,`2`,`3` star ratings with the label `0`, to indicate negative sentiment."
   ]
  },
  {
   "cell_type": "code",
   "execution_count": 14,
   "metadata": {},
   "outputs": [
    {
     "data": {
      "text/html": [
       "<div>\n",
       "<style scoped>\n",
       "    .dataframe tbody tr th:only-of-type {\n",
       "        vertical-align: middle;\n",
       "    }\n",
       "\n",
       "    .dataframe tbody tr th {\n",
       "        vertical-align: top;\n",
       "    }\n",
       "\n",
       "    .dataframe thead th {\n",
       "        text-align: right;\n",
       "    }\n",
       "</style>\n",
       "<table border=\"1\" class=\"dataframe\">\n",
       "  <thead>\n",
       "    <tr style=\"text-align: right;\">\n",
       "      <th></th>\n",
       "      <th>reviews</th>\n",
       "      <th>greek</th>\n",
       "      <th>ratings</th>\n",
       "      <th>cleaned_text</th>\n",
       "    </tr>\n",
       "  </thead>\n",
       "  <tbody>\n",
       "    <tr>\n",
       "      <th>0</th>\n",
       "      <td>I had the Samsung A600 for awhile which is abs...</td>\n",
       "      <td>Είχα το Samsung A600 για λίγο που είναι απόλυτ...</td>\n",
       "      <td>0</td>\n",
       "      <td>έχω λίγο είναι απόλυτος μπορείτε διαβάσω κριτι...</td>\n",
       "    </tr>\n",
       "    <tr>\n",
       "      <th>1</th>\n",
       "      <td>Due to a software issue between Nokia and Spri...</td>\n",
       "      <td>Λόγω ενός προβλήματος λογισμικού μεταξύ της No...</td>\n",
       "      <td>0</td>\n",
       "      <td>λόγω ενός προβλήματος λογισμικός μεταξύ της τη...</td>\n",
       "    </tr>\n",
       "    <tr>\n",
       "      <th>2</th>\n",
       "      <td>This is a great, reliable phone. I also purcha...</td>\n",
       "      <td>Αυτό είναι ένα υπέροχο, αξιόπιστο τηλέφωνο. Αγ...</td>\n",
       "      <td>1</td>\n",
       "      <td>αυτό είναι ένα υπέροχος αξιόπιστος τηλέφωνο αγ...</td>\n",
       "    </tr>\n",
       "    <tr>\n",
       "      <th>3</th>\n",
       "      <td>I love the phone and all, because I really did...</td>\n",
       "      <td>Λατρεύω το τηλέφωνο και όλα, γιατί πραγματικά ...</td>\n",
       "      <td>0</td>\n",
       "      <td>λατρεύω τηλέφωνο όλος γιατί πραγματικά χρειαζά...</td>\n",
       "    </tr>\n",
       "    <tr>\n",
       "      <th>4</th>\n",
       "      <td>The phone has been great for every purpose it ...</td>\n",
       "      <td>Το τηλέφωνο ήταν τέλειο για κάθε σκοπό που προ...</td>\n",
       "      <td>1</td>\n",
       "      <td>τηλέφωνο ήταν τέλειος κάθε σκοπό προσφέρω εκτό...</td>\n",
       "    </tr>\n",
       "    <tr>\n",
       "      <th>5</th>\n",
       "      <td>Hello, I have this phone and used it until I d...</td>\n",
       "      <td>Γεια σας, έχω αυτό το τηλέφωνο και το χρησιμοπ...</td>\n",
       "      <td>1</td>\n",
       "      <td>γει σας έχω αυτό τηλέφωνο χρησιμοποίησα μέχρι ...</td>\n",
       "    </tr>\n",
       "    <tr>\n",
       "      <th>6</th>\n",
       "      <td>Cool. Cheap. Color: 3 words that describe the ...</td>\n",
       "      <td>Δροσερός. Φτηνός. Χρώμα: 3 λέξεις που περιγράφ...</td>\n",
       "      <td>1</td>\n",
       "      <td>δροσερός φτηνό χρώμα λέξει περιγράφω τέλειο θέ...</td>\n",
       "    </tr>\n",
       "    <tr>\n",
       "      <th>7</th>\n",
       "      <td>The 3599i is overall a nice phone, except that...</td>\n",
       "      <td>Το 3599i είναι γενικά ένα ωραίο τηλέφωνο, εκτό...</td>\n",
       "      <td>1</td>\n",
       "      <td>είναι γενικά ένα ωραίος τηλέφωνο εκτός από ότι...</td>\n",
       "    </tr>\n",
       "    <tr>\n",
       "      <th>8</th>\n",
       "      <td>I've never owned a Nokia phone before, so this...</td>\n",
       "      <td>Δεν είχα ποτέ προηγουμένως τηλέφωνο Nokia, γι ...</td>\n",
       "      <td>1</td>\n",
       "      <td>έχω ποτέ προηγουμένως τηλέφωνο γι αυτό είναι π...</td>\n",
       "    </tr>\n",
       "    <tr>\n",
       "      <th>9</th>\n",
       "      <td>ok well im in school and i need the text messa...</td>\n",
       "      <td>εντάξει, είμαι στο σχολείο και χρειάζομαι τα γ...</td>\n",
       "      <td>0</td>\n",
       "      <td>εντάξω είμαι σχολείο χρειάζομαι γραπτά μηνύμαα...</td>\n",
       "    </tr>\n",
       "  </tbody>\n",
       "</table>\n",
       "</div>"
      ],
      "text/plain": [
       "                                             reviews  \\\n",
       "0  I had the Samsung A600 for awhile which is abs...   \n",
       "1  Due to a software issue between Nokia and Spri...   \n",
       "2  This is a great, reliable phone. I also purcha...   \n",
       "3  I love the phone and all, because I really did...   \n",
       "4  The phone has been great for every purpose it ...   \n",
       "5  Hello, I have this phone and used it until I d...   \n",
       "6  Cool. Cheap. Color: 3 words that describe the ...   \n",
       "7  The 3599i is overall a nice phone, except that...   \n",
       "8  I've never owned a Nokia phone before, so this...   \n",
       "9  ok well im in school and i need the text messa...   \n",
       "\n",
       "                                               greek  ratings  \\\n",
       "0  Είχα το Samsung A600 για λίγο που είναι απόλυτ...        0   \n",
       "1  Λόγω ενός προβλήματος λογισμικού μεταξύ της No...        0   \n",
       "2  Αυτό είναι ένα υπέροχο, αξιόπιστο τηλέφωνο. Αγ...        1   \n",
       "3  Λατρεύω το τηλέφωνο και όλα, γιατί πραγματικά ...        0   \n",
       "4  Το τηλέφωνο ήταν τέλειο για κάθε σκοπό που προ...        1   \n",
       "5  Γεια σας, έχω αυτό το τηλέφωνο και το χρησιμοπ...        1   \n",
       "6  Δροσερός. Φτηνός. Χρώμα: 3 λέξεις που περιγράφ...        1   \n",
       "7  Το 3599i είναι γενικά ένα ωραίο τηλέφωνο, εκτό...        1   \n",
       "8  Δεν είχα ποτέ προηγουμένως τηλέφωνο Nokia, γι ...        1   \n",
       "9  εντάξει, είμαι στο σχολείο και χρειάζομαι τα γ...        0   \n",
       "\n",
       "                                        cleaned_text  \n",
       "0  έχω λίγο είναι απόλυτος μπορείτε διαβάσω κριτι...  \n",
       "1  λόγω ενός προβλήματος λογισμικός μεταξύ της τη...  \n",
       "2  αυτό είναι ένα υπέροχος αξιόπιστος τηλέφωνο αγ...  \n",
       "3  λατρεύω τηλέφωνο όλος γιατί πραγματικά χρειαζά...  \n",
       "4  τηλέφωνο ήταν τέλειος κάθε σκοπό προσφέρω εκτό...  \n",
       "5  γει σας έχω αυτό τηλέφωνο χρησιμοποίησα μέχρι ...  \n",
       "6  δροσερός φτηνό χρώμα λέξει περιγράφω τέλειο θέ...  \n",
       "7  είναι γενικά ένα ωραίος τηλέφωνο εκτός από ότι...  \n",
       "8  έχω ποτέ προηγουμένως τηλέφωνο γι αυτό είναι π...  \n",
       "9  εντάξω είμαι σχολείο χρειάζομαι γραπτά μηνύμαα...  "
      ]
     },
     "execution_count": 14,
     "metadata": {},
     "output_type": "execute_result"
    }
   ],
   "source": [
    "sentiment_dict = {1:0, 2:0, 3:0, 4:1, 5:1}\n",
    "reviews_dataset['ratings'].replace(sentiment_dict,inplace=True)\n",
    "reviews_dataset.head(10)"
   ]
  },
  {
   "cell_type": "code",
   "execution_count": 15,
   "metadata": {},
   "outputs": [
    {
     "data": {
      "text/plain": [
       "<AxesSubplot:xlabel='ratings', ylabel='count'>"
      ]
     },
     "execution_count": 15,
     "metadata": {},
     "output_type": "execute_result"
    },
    {
     "data": {
      "image/png": "[encoded data removed]",
      "text/plain": [
       "<Figure size 432x288 with 1 Axes>"
      ]
     },
     "metadata": {
      "needs_background": "light"
     },
     "output_type": "display_data"
    }
   ],
   "source": [
    "sns.countplot(reviews_dataset['ratings'])"
   ]
  },
  {
   "cell_type": "code",
   "execution_count": 16,
   "metadata": {},
   "outputs": [
    {
     "data": {
      "text/html": [
       "<div>\n",
       "<style scoped>\n",
       "    .dataframe tbody tr th:only-of-type {\n",
       "        vertical-align: middle;\n",
       "    }\n",
       "\n",
       "    .dataframe tbody tr th {\n",
       "        vertical-align: top;\n",
       "    }\n",
       "\n",
       "    .dataframe thead th {\n",
       "        text-align: right;\n",
       "    }\n",
       "</style>\n",
       "<table border=\"1\" class=\"dataframe\">\n",
       "  <thead>\n",
       "    <tr style=\"text-align: right;\">\n",
       "      <th></th>\n",
       "      <th>reviews</th>\n",
       "      <th>ratings</th>\n",
       "    </tr>\n",
       "  </thead>\n",
       "  <tbody>\n",
       "    <tr>\n",
       "      <th>0</th>\n",
       "      <td>έχω λίγο είναι απόλυτος μπορείτε διαβάσω κριτι...</td>\n",
       "      <td>0</td>\n",
       "    </tr>\n",
       "    <tr>\n",
       "      <th>1</th>\n",
       "      <td>λόγω ενός προβλήματος λογισμικός μεταξύ της τη...</td>\n",
       "      <td>0</td>\n",
       "    </tr>\n",
       "    <tr>\n",
       "      <th>2</th>\n",
       "      <td>αυτό είναι ένα υπέροχος αξιόπιστος τηλέφωνο αγ...</td>\n",
       "      <td>1</td>\n",
       "    </tr>\n",
       "    <tr>\n",
       "      <th>3</th>\n",
       "      <td>λατρεύω τηλέφωνο όλος γιατί πραγματικά χρειαζά...</td>\n",
       "      <td>0</td>\n",
       "    </tr>\n",
       "    <tr>\n",
       "      <th>4</th>\n",
       "      <td>τηλέφωνο ήταν τέλειος κάθε σκοπό προσφέρω εκτό...</td>\n",
       "      <td>1</td>\n",
       "    </tr>\n",
       "  </tbody>\n",
       "</table>\n",
       "</div>"
      ],
      "text/plain": [
       "                                             reviews  ratings\n",
       "0  έχω λίγο είναι απόλυτος μπορείτε διαβάσω κριτι...        0\n",
       "1  λόγω ενός προβλήματος λογισμικός μεταξύ της τη...        0\n",
       "2  αυτό είναι ένα υπέροχος αξιόπιστος τηλέφωνο αγ...        1\n",
       "3  λατρεύω τηλέφωνο όλος γιατί πραγματικά χρειαζά...        0\n",
       "4  τηλέφωνο ήταν τέλειος κάθε σκοπό προσφέρω εκτό...        1"
      ]
     },
     "execution_count": 16,
     "metadata": {},
     "output_type": "execute_result"
    }
   ],
   "source": [
    "#Isolate cleaned text and ratings columns in a new dataset\n",
    "reviews = pd.DataFrame({'reviews':reviews_dataset.cleaned_text.values, 'ratings':reviews_dataset.ratings.values})\n",
    "#reviews_dataset.to_csv('reviews.csv')\n",
    "reviews.head()"
   ]
  },
  {
   "cell_type": "code",
   "execution_count": 17,
   "metadata": {},
   "outputs": [],
   "source": [
    "greek_reviews = reviews.reviews\n",
    "labels = reviews.ratings"
   ]
  },
  {
   "cell_type": "markdown",
   "metadata": {},
   "source": [
    "## Check Positive and Negative usage of words\n",
    "---\n",
    "In this part, I investigate the correlation of words usage in reviews, with respect to the review sentiment. Results show the most common words used mostly in positive reviews along with the most common words used mostly in negative ones."
   ]
  },
  {
   "cell_type": "code",
   "execution_count": 18,
   "metadata": {},
   "outputs": [],
   "source": [
    "# Create three Counter objects to store positive, negative and total counts\n",
    "positive_counts = Counter()\n",
    "negative_counts = Counter()\n",
    "total_counts = Counter()"
   ]
  },
  {
   "cell_type": "code",
   "execution_count": 19,
   "metadata": {},
   "outputs": [],
   "source": [
    "# Loop over all the words in all the reviews and increment the counts in the appropriate counter objects\n",
    "for i in range(len(reviews)):\n",
    "    try:\n",
    "        for word in greek_reviews[i].split(\" \"):\n",
    "            total_counts[word] += 1\n",
    "            if labels[i] == 1:\n",
    "                positive_counts[word] += 1\n",
    "            else:\n",
    "                negative_counts[word] += 1\n",
    "    except KeyError:\n",
    "        pass"
   ]
  },
  {
   "cell_type": "code",
   "execution_count": 20,
   "metadata": {},
   "outputs": [],
   "source": [
    "pos_neg_ratios = Counter()\n",
    "pos_neg_ratios_log = Counter()\n",
    "\n",
    "# Calculate the ratios of positive and negative uses of the most common words\n",
    "# Consider words to be \"common\" if they've been used at least 100 times\n",
    "for term,cnt in list(total_counts.most_common()):\n",
    "    if(cnt > 100):\n",
    "        pos_neg_ratios[term] = positive_counts[term] / float(negative_counts[term]+1)\n",
    "        \n",
    "# Convert ratios to logs\n",
    "for word,ratio in pos_neg_ratios.most_common():\n",
    "    pos_neg_ratios_log[word] = np.log(ratio)"
   ]
  },
  {
   "cell_type": "code",
   "execution_count": 21,
   "metadata": {},
   "outputs": [
    {
     "name": "stdout",
     "output_type": "stream",
     "text": [
      "Pos-to-neg ratio for 'λόγω' = 0.2786746254947829\n",
      "Pos-to-neg ratio for 'υπέροχο' = 2.2204814395004866\n",
      "Pos-to-neg ratio for 'απογοητευμένος' = -1.526315069184163\n"
     ]
    }
   ],
   "source": [
    "print(\"Pos-to-neg ratio for 'λόγω' = {}\".format(pos_neg_ratios_log[\"λόγω\"]))\n",
    "print(\"Pos-to-neg ratio for 'υπέροχο' = {}\".format(pos_neg_ratios_log[\"υπέροχο\"]))\n",
    "print(\"Pos-to-neg ratio for 'απογοητευμένος' = {}\".format(pos_neg_ratios_log[\"απογοητευμένος\"]))"
   ]
  },
  {
   "cell_type": "markdown",
   "metadata": {},
   "source": [
    "Neutral words like 'λόγω' have logarithmic pos-to-neg ratio slightly larger than zero. Positive words like 'υπέροχο' logarithmic ratio is larger than `1`, that means it is used mostly in positive reviews, whereas negative words like 'απογοητευμένος' have a ratio value smaller than `-1` indicating that they are used mostly in negative reviews."
   ]
  },
  {
   "cell_type": "code",
   "execution_count": 22,
   "metadata": {},
   "outputs": [
    {
     "data": {
      "text/plain": [
       "{'εξοχο': 4.6913478822291435,\n",
       " 'δουλευει': 4.518158808998462,\n",
       " 'τελεια': 3.9815490680767565,\n",
       " 'νικήσω': 3.373026504695459,\n",
       " 'αγαπω': 3.0845277723371223,\n",
       " 'αναμενόμενο': 2.842969519001581,\n",
       " 'οπως': 2.8247744754103516,\n",
       " 'λατρεύω': 2.8073137365199687,\n",
       " 'δύσπισ': 2.659260036932778,\n",
       " 'ανεπιφύλακτα': 2.59239256475814,\n",
       " 'προσιτός': 2.5734600471294455,\n",
       " 'ερωτευμένος': 2.533696813957432,\n",
       " 'ομαλό': 2.51939282585917,\n",
       " 'αγαπά': 2.509599262378372,\n",
       " 'διστακτικός': 2.477302050402781,\n",
       " 'αγαπήστε': 2.4010251658072983,\n",
       " 'εξαιρετικό': 2.4008047889620023,\n",
       " 'δύσπιστος': 2.3978952727983707,\n",
       " 'συνιστάται': 2.346436975522895,\n",
       " 'τέλειος': 2.3249521231409416}"
      ]
     },
     "execution_count": 22,
     "metadata": {},
     "output_type": "execute_result"
    }
   ],
   "source": [
    "dict(pos_neg_ratios_log.most_common()[0:20])"
   ]
  },
  {
   "cell_type": "code",
   "execution_count": 23,
   "metadata": {},
   "outputs": [
    {
     "data": {
      "text/plain": [
       "{'προσπάθησε': -1.6029653979284828,\n",
       " 'δυσαρεστημένος': -1.6156684621847366,\n",
       " 'επικοινώνησα': -1.6218604324326575,\n",
       " 'ελαττωματικός': -1.626315950221452,\n",
       " 'σκουπιδιής': -1.661884387806643,\n",
       " 'επισκευάσω': -1.6711314814394402,\n",
       " 'σταματά': -1.6761292869327726,\n",
       " 'απογοητευμένο': -1.7033903187779649,\n",
       " 'σταμάτησε': -1.7482743572883161,\n",
       " 'επιστροφός': -1.7975298256893915,\n",
       " 'μητρικός': -1.8827312474337816,\n",
       " 'τυχαίας': -1.906169820405799,\n",
       " 'άχρηστο': -1.9102410728485784,\n",
       " 'χρημάτα': -1.9554681668614187,\n",
       " 'ελαττωματικό': -1.9830278120118159,\n",
       " 'απενεργοποιείται': -2.0149030205422647,\n",
       " 'επισκευή': -2.1486794811743857,\n",
       " 'απάτη': -2.149311221640322,\n",
       " 'σπατάλη': -2.468099531471619,\n",
       " 'αγορασω': -2.6026896854443837}"
      ]
     },
     "execution_count": 23,
     "metadata": {},
     "output_type": "execute_result"
    }
   ],
   "source": [
    "dict(pos_neg_ratios_log.most_common()[-20:])"
   ]
  },
  {
   "cell_type": "markdown",
   "metadata": {},
   "source": [
    "### Balance positive and negative reviews\n",
    "---\n",
    "As the positive reviews were a lot more than the negative ones, below is an attempt to balance it by dropping randomly positive reviews and keeping the same count of positive as negative reviews."
   ]
  },
  {
   "cell_type": "code",
   "execution_count": 24,
   "metadata": {},
   "outputs": [
    {
     "data": {
      "text/plain": [
       "1    44740\n",
       "0    21080\n",
       "Name: ratings, dtype: int64"
      ]
     },
     "execution_count": 24,
     "metadata": {},
     "output_type": "execute_result"
    }
   ],
   "source": [
    "reviews['ratings'].value_counts()"
   ]
  },
  {
   "cell_type": "code",
   "execution_count": 25,
   "metadata": {},
   "outputs": [
    {
     "data": {
      "text/plain": [
       "1    21080\n",
       "0    21080\n",
       "Name: ratings, dtype: int64"
      ]
     },
     "execution_count": 25,
     "metadata": {},
     "output_type": "execute_result"
    }
   ],
   "source": [
    "majority = reviews[reviews.ratings == 1]\n",
    "minority = reviews[reviews.ratings == 0]\n",
    "downsampled_majority = resample(majority,replace=False, n_samples=len(minority), random_state=77)\n",
    "\n",
    "reviews_downsampled = pd.concat([downsampled_majority, minority])\n",
    "reviews_downsampled.reset_index(inplace=True)\n",
    "reviews_downsampled['ratings'].value_counts()"
   ]
  },
  {
   "cell_type": "markdown",
   "metadata": {},
   "source": [
    "### Feature engineering: convert text to vectors\n",
    "---\n",
    "Most classifiers accept as input numerical data. Hence, as a final preparation step, it was necessary to transform the words existing in the reviews to vectors, taking into account their attributes and features. The tf-idf vectorizer was used to transform the words in vectors according to their frequency and importance. As it is mentioned at the [corresponding scikit learn documentation topic](https://scikit-learn.org/stable/modules/generated/sklearn.feature_extraction.text.TfidfTransformer.html), the goal of using tf-idf instead of the raw frequencies of occurrence of a token in a given document is to scale down the impact of tokens that occur very frequently in a given corpus and that are hence empirically less informative than features that occur in a small fraction of the training corpus. A sample usage of the TfidfVectorizer transforming the first dataset review is shown below:"
   ]
  },
  {
   "cell_type": "code",
   "execution_count": 26,
   "metadata": {},
   "outputs": [
    {
     "name": "stdout",
     "output_type": "stream",
     "text": [
      "  (0, 11)\t0.04845015831115092\n",
      "  (0, 9)\t0.04845015831115092\n",
      "  (0, 6)\t0.04845015831115092\n",
      "  (0, 18)\t0.04845015831115092\n",
      "  (0, 15)\t0.04845015831115092\n",
      "  (0, 3)\t0.04845015831115092\n",
      "  (0, 0)\t0.04845015831115092\n",
      "  (0, 14)\t0.04845015831115092\n",
      "  (0, 1)\t0.04845015831115092\n",
      "  (0, 19)\t0.04845015831115092\n",
      "  (0, 10)\t0.04845015831115092\n",
      "  (0, 2)\t0.04845015831115092\n",
      "  (0, 12)\t0.04845015831115092\n",
      "  (0, 16)\t0.04845015831115092\n",
      "  (0, 8)\t0.04845015831115092\n",
      "  (0, 17)\t0.04845015831115092\n",
      "  (0, 4)\t0.04845015831115092\n",
      "  (0, 13)\t0.04845015831115092\n",
      "  (0, 7)\t0.04845015831115092\n",
      "  (0, 5)\t0.14535047493345277\n"
     ]
    }
   ],
   "source": [
    "tfidf = TfidfVectorizer()\n",
    "vectorized = tfidf.fit_transform([reviews.reviews[0]])\n",
    "print(vectorized[0,0:20])"
   ]
  },
  {
   "cell_type": "markdown",
   "metadata": {},
   "source": [
    "## Machine Learning Pipeline\n",
    "---"
   ]
  },
  {
   "cell_type": "markdown",
   "metadata": {},
   "source": [
    "In order to feed the classifiers with data, the dataset is brought to the form X,y, where X is the column that contains the text reviews transformed as vectors and y the column that contains the target sentiment values. "
   ]
  },
  {
   "cell_type": "code",
   "execution_count": 27,
   "metadata": {},
   "outputs": [],
   "source": [
    "tfidfvectorizer = TfidfVectorizer()\n",
    "X = tfidfvectorizer.fit_transform(reviews['reviews'])\n",
    "y = reviews['ratings']"
   ]
  },
  {
   "cell_type": "code",
   "execution_count": 28,
   "metadata": {},
   "outputs": [],
   "source": [
    "def model_training(X,y,classifier):\n",
    "    \"\"\"Training Pipeline implementation. The function accepts as input a feature matrix,\n",
    "       a target values vector and a classifier. The performance is tested via a 10 fold validation procedure.\n",
    "       The model average training and testing time and several classification algorithms metrics are produced.\n",
    "       Returns the trained model, along with a dictionary of the produced metrics\n",
    "    \"\"\"    \n",
    "    metrics_dict = {}\n",
    "    n_splits = 10\n",
    "    #print classifier\n",
    "    print('########## Using',str(classifier),'classifier ##########\\n')\n",
    "    \n",
    "    kf = KFold(n_splits=n_splits, shuffle=True, random_state=0)\n",
    "        \n",
    "    average_training_time = 0.0\n",
    "    average_testing_time = 0.0\n",
    "    best_accuracy = 0.0\n",
    "    average_training_accuracy = 0.0\n",
    "    std_train = 0.0\n",
    "    average_testing_accuracy = 0.0\n",
    "    std_test = 0.0\n",
    "    average_f1_score = 0.0\n",
    "    best_f1_score = 0.0\n",
    "    selected_clf = None\n",
    "    \n",
    "    train_acc_list = []\n",
    "    test_acc_list = []\n",
    "    \n",
    "    for train_index, test_index in kf.split(X):\n",
    "        X_train, X_test = X[train_index], X[test_index]\n",
    "        y_train, y_test = y[train_index], y[test_index]\n",
    "        model_clf = classifier\n",
    "        \n",
    "        training_time_start = time.process_time()\n",
    "        model_clf.fit(X_train,y_train)\n",
    "        training_time = time.process_time() - training_time_start\n",
    "        average_training_time += training_time/n_splits\n",
    "        train_pred = model_clf.predict(X_train)\n",
    "        train_acc = metrics.accuracy_score(y_train,train_pred)\n",
    "        average_training_accuracy += train_acc/n_splits\n",
    "        train_acc_list.append(train_acc)\n",
    "        \n",
    "        testing_time_start = time.process_time()\n",
    "        # Form predictions using test set\n",
    "        predictions = model_clf.predict(X_test)\n",
    "        testing_time = time.process_time() - testing_time_start\n",
    "        average_testing_time += testing_time/n_splits\n",
    "       \n",
    "        # Calculate the overall accuracy\n",
    "        accuracy = metrics.accuracy_score(y_test, predictions)\n",
    "        average_testing_accuracy += accuracy/n_splits\n",
    "        test_acc_list.append(accuracy)\n",
    "        \n",
    "        # Calculate F1 Score\n",
    "        f1_score = metrics.f1_score(y_test,predictions)\n",
    "        average_f1_score += f1_score/n_splits\n",
    "        if accuracy > best_accuracy and f1_score > best_f1_score: \n",
    "            selected_clf = model_clf\n",
    "            best_accuracy = accuracy\n",
    "            best_f1_score = f1_score\n",
    "            \n",
    "    metrics_dict['Average training time'] = average_training_time\n",
    "    print('Average training time: ',average_training_time)\n",
    "    \n",
    "    metrics_dict['Average testing time'] = average_testing_time\n",
    "    print('Average testing time: ',average_testing_time,'\\n')\n",
    "\n",
    "    metrics_dict['Training Accuracy'] = np.mean(train_acc_list)\n",
    "    metrics_dict['Testing Accuracy'] = np.mean(test_acc_list)\n",
    "    metrics_dict['F1 Score'] = average_f1_score\n",
    "    print('Average training accuracy: {}, σ: {}\\nAverage testing accuracy: {}, σ: {}\\nAverage F1-Score: {}\\n\\n'.format(np.mean(train_acc_list),np.std(train_acc_list),\n",
    "                                                                                                         np.mean(test_acc_list),np.std(test_acc_list), \n",
    "                                                                                                         average_f1_score))\n",
    "    \n",
    "    print('---------------------------------------------------------------------------------')\n",
    "    return selected_clf, metrics_dict"
   ]
  },
  {
   "cell_type": "markdown",
   "metadata": {},
   "source": [
    "Four classifiers from different implementation categories, were tested against the input data:\n",
    "- the ***[Multinomial Naive Bayes Classifier](https://scikit-learn.org/stable/modules/generated/sklearn.naive_bayes.MultinomialNB.html)***, as it is suitable for classification with discrete features\n",
    "- a ***[Linear Support Vector Classifier](https://scikit-learn.org/stable/modules/generated/sklearn.svm.LinearSVC.html)*** because it should scale better to large numbers of samples compared to SVC with linear kernel, \n",
    "- a ***[Logistic Regression Classifier](https://scikit-learn.org/stable/modules/generated/sklearn.linear_model.LogisticRegression.html)*** with 1000 maximum itrerations and a SAGA solver and \n",
    "- a ***[Decision Tree Classifier](https://scikit-learn.org/stable/modules/generated/sklearn.tree.DecisionTreeClassifier.html)*** with maximum depth set to 15, to avoid overfitting."
   ]
  },
  {
   "cell_type": "code",
   "execution_count": 29,
   "metadata": {},
   "outputs": [
    {
     "name": "stdout",
     "output_type": "stream",
     "text": [
      "########## Using MultinomialNB() classifier ##########\n",
      "\n",
      "Average training time:  0.017187499999999998\n",
      "Average testing time:  0.0015625 \n",
      "\n",
      "Average training accuracy: 0.8655390121205983, σ: 0.00047733704721759554\n",
      "Average testing accuracy: 0.8473564266180492, σ: 0.003319616219528673\n",
      "Average F1-Score: 0.8963954671494354\n",
      "\n",
      "\n",
      "---------------------------------------------------------------------------------\n",
      "########## Using LinearSVC() classifier ##########\n",
      "\n",
      "Average training time:  0.640625\n",
      "Average testing time:  0.0 \n",
      "\n",
      "Average training accuracy: 0.9413383301259326, σ: 0.0003908976120878462\n",
      "Average testing accuracy: 0.88529322394409, σ: 0.0029057883123209454\n",
      "Average F1-Score: 0.916572589175376\n",
      "\n",
      "\n",
      "---------------------------------------------------------------------------------\n",
      "########## Using LogisticRegression(max_iter=1000, solver='saga') classifier ##########\n",
      "\n",
      "Average training time:  0.915625\n",
      "Average testing time:  0.0 \n",
      "\n",
      "Average training accuracy: 0.9108578952699281, σ: 0.00038109334616701627\n",
      "Average testing accuracy: 0.8894257064721968, σ: 0.0038193276527013907\n",
      "Average F1-Score: 0.9201833394906861\n",
      "\n",
      "\n",
      "---------------------------------------------------------------------------------\n",
      "########## Using DecisionTreeClassifier(max_depth=15) classifier ##########\n",
      "\n",
      "Average training time:  8.4828125\n",
      "Average testing time:  0.0109375 \n",
      "\n",
      "Average training accuracy: 0.7990090820081704, σ: 0.0021801026131743695\n",
      "Average testing accuracy: 0.7579914919477363, σ: 0.0046800453014597555\n",
      "Average F1-Score: 0.8371567902426809\n",
      "\n",
      "\n",
      "---------------------------------------------------------------------------------\n"
     ]
    }
   ],
   "source": [
    "np.random.seed(0)\n",
    "text_nb, nb_metrics = model_training(X,y,MultinomialNB())\n",
    "text_svm, svm_metrics = model_training(X,y,LinearSVC())\n",
    "text_lr, lr_metrics = model_training(X,y,LogisticRegression(max_iter=1000,solver='saga'))\n",
    "text_dt, dt_metrics = model_training(X,y,DecisionTreeClassifier(max_depth=15))"
   ]
  },
  {
   "cell_type": "markdown",
   "metadata": {},
   "source": [
    "#### Train the same four classifiers on the balanced dataset"
   ]
  },
  {
   "cell_type": "code",
   "execution_count": 30,
   "metadata": {},
   "outputs": [],
   "source": [
    "tfidfvectorizer_downsampled = TfidfVectorizer()\n",
    "X_downsampled = tfidfvectorizer_downsampled.fit_transform(reviews_downsampled['reviews'].values.astype('U'))\n",
    "y_downsampled = reviews_downsampled['ratings']"
   ]
  },
  {
   "cell_type": "code",
   "execution_count": 31,
   "metadata": {},
   "outputs": [
    {
     "name": "stdout",
     "output_type": "stream",
     "text": [
      "########## Using MultinomialNB() classifier ##########\n",
      "\n",
      "Average training time:  0.014062499999999999\n",
      "Average testing time:  0.003125 \n",
      "\n",
      "Average training accuracy: 0.8873023402909551, σ: 0.0005431611440830446\n",
      "Average testing accuracy: 0.8592030360531308, σ: 0.004932445861466122\n",
      "Average F1-Score: 0.8581022462882931\n",
      "\n",
      "\n",
      "---------------------------------------------------------------------------------\n",
      "########## Using LinearSVC() classifier ##########\n",
      "\n",
      "Average training time:  0.39375\n",
      "Average testing time:  0.0 \n",
      "\n",
      "Average training accuracy: 0.9419592030360532, σ: 0.0003253595958239828\n",
      "Average testing accuracy: 0.8739800759013283, σ: 0.005760437428830688\n",
      "Average F1-Score: 0.8733375148158116\n",
      "\n",
      "\n",
      "---------------------------------------------------------------------------------\n",
      "########## Using LogisticRegression(max_iter=1000) classifier ##########\n",
      "\n",
      "Average training time:  3.5046875\n",
      "Average testing time:  0.00625 \n",
      "\n",
      "Average training accuracy: 0.9035183428209994, σ: 0.0005094629739905493\n",
      "Average testing accuracy: 0.8749762808349146, σ: 0.0038031371724502857\n",
      "Average F1-Score: 0.8732919470657559\n",
      "\n",
      "\n",
      "---------------------------------------------------------------------------------\n",
      "########## Using DecisionTreeClassifier(max_depth=15) classifier ##########\n",
      "\n",
      "Average training time:  5.2437499999999995\n",
      "Average testing time:  0.00625 \n",
      "\n",
      "Average training accuracy: 0.7522954880877083, σ: 0.004779096944783228\n",
      "Average testing accuracy: 0.6975094876660342, σ: 0.009734716389391058\n",
      "Average F1-Score: 0.6563481319650479\n",
      "\n",
      "\n",
      "---------------------------------------------------------------------------------\n"
     ]
    }
   ],
   "source": [
    "text_nb_downsampled, nb_downsampled_metrics = model_training(X_downsampled,y_downsampled,MultinomialNB())\n",
    "text_svm_downsampled, svm_downsampled_metrics = model_training(X_downsampled,y_downsampled,LinearSVC())\n",
    "text_lr_downsampled, lr_downsampled_metrics = model_training(X_downsampled,y_downsampled,LogisticRegression(max_iter=1000))\n",
    "text_dt_downsampled, dt_downsampled_metrics = model_training(X_downsampled,y_downsampled,DecisionTreeClassifier(max_depth=15))"
   ]
  },
  {
   "cell_type": "code",
   "execution_count": 32,
   "metadata": {},
   "outputs": [],
   "source": [
    "# Creating dictionaries to store the trained classifier models and their respective metrics\n",
    "\n",
    "learners = {'Naive Bayes':text_nb, \n",
    "            'Naive Bayes (Downsampled)':text_nb_downsampled,\n",
    "            'SVM':text_svm,\n",
    "            'SVM (Downsampled)':text_svm_downsampled,\n",
    "            'Logistic Regression':text_lr,\n",
    "            'Logistic Regression (Downsampled)':text_lr_downsampled,\n",
    "            'Decision Tree':text_dt,\n",
    "            'Decision Tree (Downsampled)':text_dt_downsampled\n",
    "           }\n",
    "metrics_dict = {'Naive Bayes':nb_metrics, \n",
    "            'Naive Bayes (Downsampled)':nb_downsampled_metrics,\n",
    "            'SVM':svm_metrics,\n",
    "            'SVM (Downsampled)':svm_downsampled_metrics,\n",
    "            'Logistic Regression':lr_metrics,\n",
    "            'Logistic Regression (Downsampled)':lr_downsampled_metrics,\n",
    "            'Decision Tree':dt_metrics,\n",
    "            'Decision Tree (Downsampled)':dt_downsampled_metrics\n",
    "           }"
   ]
  },
  {
   "cell_type": "code",
   "execution_count": 33,
   "metadata": {},
   "outputs": [
    {
     "data": {
      "image/png": "[encoded data removed]",
      "text/plain": [
       "<Figure size 1080x720 with 4 Axes>"
      ]
     },
     "metadata": {
      "needs_background": "light"
     },
     "output_type": "display_data"
    }
   ],
   "source": [
    "# Plot classification results\n",
    "\n",
    "fig, ax = plt.subplots(2, 2, figsize = (15,10))\n",
    "colors = ['#A00000','#A0FFF1','#A000FF','#00F0A0',\n",
    "          '#00A0AF','#00F0A0','#00A000','#FFA500',\n",
    "          '#BFA500','#DFA500','#FFF500','#FFAFF0']\n",
    "\n",
    "for k, learner in enumerate(learners.keys()):\n",
    "    for j, metric in enumerate(['Average training time','Average testing time','Testing Accuracy','F1 Score']):\n",
    "        ax[j//2, j%2].bar(k, metrics_dict[learner][metric],color = colors[k])\n",
    "            \n",
    "ax[0, 0].set_ylabel(\"Time (in seconds)\")\n",
    "ax[0, 0].set_title(\"Average Training time\")\n",
    "\n",
    "ax[0, 1].set_ylabel(\"Time (in seconds)\")\n",
    "ax[0, 1].set_title(\"Average Testing time\")\n",
    "\n",
    "ax[1, 0].set_ylabel(\"Accuracy\")\n",
    "ax[1, 0].set_title(\"Average Testing Accuracy Score\")\n",
    "\n",
    "ax[1, 1].set_ylabel(\"F-score\")\n",
    "ax[1, 1].set_title(\"Average Testing F1 Score\")\n",
    "\n",
    "\n",
    "patches = []\n",
    "for i, learner in enumerate(learners.keys()):\n",
    "    patches.append(mpatches.Patch(color = colors[i], label = learner))\n",
    "fig.legend(handles = patches, loc='upper center', bbox_to_anchor=(1.1, 1), ncol = 1, fontsize = 'medium')\n",
    "\n",
    "plt.suptitle(\"Performance Metrics for the Classification Models\", fontsize = 18)\n",
    "plt.tight_layout()\n",
    "plt.show()"
   ]
  },
  {
   "cell_type": "markdown",
   "metadata": {},
   "source": [
    "##### Comparing overall performance, lowest training and testing time and highest average Testing Accuracy and F1 score, the Linear SVC classifier will be the selected one."
   ]
  },
  {
   "cell_type": "markdown",
   "metadata": {},
   "source": [
    "### Hyperparameter tuning\n",
    "---\n",
    "Using the selected classifier's hyperparameters combinations so as to create the best performing model given the input data. "
   ]
  },
  {
   "cell_type": "code",
   "execution_count": 34,
   "metadata": {},
   "outputs": [],
   "source": [
    "def hyperparam_tuning(X,y,classifier):\n",
    "    \"\"\"Tune the selected classifier's hypeparameters\"\"\"\n",
    "    X_train, X_test, y_train, y_test = train_test_split(X, y, test_size=0.33, shuffle=True, random_state=0)\n",
    "    \n",
    "    default_model = classifier\n",
    "    default_model.fit(X_train,y_train)\n",
    "    prediction = default_model.predict(X_test)\n",
    "    \n",
    "    hyperparameters = {\"C\": [0.001, 0.01, 0.1, 1.0, 10.0, 100.0, 1000.0],\n",
    "                       \"loss\": ['hinge', 'square-hinge'],\n",
    "                       \"dual\": [True, False],\n",
    "                       \"fit_intercept\": [True, False],\n",
    "                       \"class_weight\": ['balanced',None]}\n",
    "\n",
    "    scorer = metrics.make_scorer(metrics.f1_score)\n",
    "    grid_search = GridSearchCV(classifier,hyperparameters,scorer,n_jobs=-1)\n",
    "    grid_fit = grid_search.fit(X_train,y_train)\n",
    "    best_model = grid_fit.best_estimator_    \n",
    "    best_prediction = best_model.predict(X_test)\n",
    "    \n",
    "    print('Unoptimized Model\\nAccuracy: {}\\nF1 Score: {}'.format(metrics.accuracy_score(y_test,prediction),\n",
    "                                                                 metrics.f1_score(y_test,prediction)))\n",
    "    print('Hyperparameters: C: {}, Loss: {}, Dual: {}, Fit-Intercept: {} Class Weigth: {}\\n'.format(default_model.C,default_model.loss,\n",
    "                                                                                   default_model.dual,default_model.fit_intercept,\n",
    "                                                                                                   default_model.class_weight))\n",
    "    print('Best Model\\nAccuracy: {}\\nF1 Score: {}'.format(metrics.accuracy_score(y_test,best_prediction),\n",
    "                                                                 metrics.f1_score(y_test,best_prediction)))\n",
    "    print('Hyperparameters: C: {}, Loss: {}, Dual: {}, Fit_Intercept: {} Class Weigth: {}\\n'.format(best_model.C,best_model.loss,\n",
    "                                                                                   best_model.dual,best_model.fit_intercept,\n",
    "                                                                                                   best_model.class_weight))\n",
    "    print('---------------------------------------------------------------------------------')\n",
    "    \n",
    "    return best_model"
   ]
  },
  {
   "cell_type": "code",
   "execution_count": 35,
   "metadata": {},
   "outputs": [
    {
     "name": "stdout",
     "output_type": "stream",
     "text": [
      "Unoptimized Model\n",
      "Accuracy: 0.8807605543022881\n",
      "F1 Score: 0.9131455399061033\n",
      "Hyperparameters: C: 1.0, Loss: squared_hinge, Dual: True, Fit-Intercept: True Class Weigth: None\n",
      "\n",
      "Best Model\n",
      "Accuracy: 0.8866995073891626\n",
      "F1 Score: 0.9175792893265012\n",
      "Hyperparameters: C: 1.0, Loss: hinge, Dual: True, Fit_Intercept: True Class Weigth: None\n",
      "\n",
      "---------------------------------------------------------------------------------\n",
      "Unoptimized Model\n",
      "Accuracy: 0.871055847049522\n",
      "F1 Score: 0.8692610406646262\n",
      "Hyperparameters: C: 1.0, Loss: squared_hinge, Dual: True, Fit-Intercept: True Class Weigth: None\n",
      "\n",
      "Best Model\n",
      "Accuracy: 0.8735714799108747\n",
      "F1 Score: 0.8723419696639815\n",
      "Hyperparameters: C: 1.0, Loss: hinge, Dual: True, Fit_Intercept: False Class Weigth: None\n",
      "\n",
      "---------------------------------------------------------------------------------\n"
     ]
    }
   ],
   "source": [
    "text_svc = hyperparam_tuning(X,y,LinearSVC())\n",
    "text_svc_downsampled = hyperparam_tuning(X_downsampled,y_downsampled,LinearSVC())"
   ]
  },
  {
   "cell_type": "markdown",
   "metadata": {},
   "source": [
    "### Check prediction in reviews extracted from [Skroutz](https://www.skroutz.gr)\n",
    "---\n",
    "After tuning the selected `2` classifier models, trained using full data and balanced data respectively, I tested their performance against product reviews extracted from [Skroutz](https://www.skroutz.gr). As I wanted to check if the models can generalize well in predicting sentiment, I have also inluded reviews from other products, a gpu and a pair of sneakers. For each product, the confusion matrix is plotted to provide information on how the model performs on never seen before data."
   ]
  },
  {
   "cell_type": "code",
   "execution_count": 36,
   "metadata": {},
   "outputs": [],
   "source": [
    "def data_extraction(url,reviews_selector,ratings_selector):\n",
    "    \"\"\"Accepts a URL and the respective CSS selectors\n",
    "       of the reviews text and rating.\n",
    "       Returns the extracted data in a Pandas dataframe.\n",
    "    \"\"\"\n",
    "    response = requests.get(url)\n",
    "    soup = BeautifulSoup(response.text,'html.parser')\n",
    "    reviews = soup.select(reviews_selector)\n",
    "    ratings = soup.select(ratings_selector)\n",
    "    rlist = []\n",
    "    for i in range(len(reviews)):\n",
    "        rlist.append([reviews[i].text,ratings[i].text])\n",
    "    data = pd.DataFrame(rlist,columns=['reviews','sentiment'])\n",
    "    sentiment_dict = {'1':0, '2':0, '3':0, '4':1, '5':1}\n",
    "    data['sentiment'].replace(sentiment_dict,inplace=True)\n",
    "    data['reviews'] = data['reviews'].apply(clean_text)\n",
    "    return data"
   ]
  },
  {
   "cell_type": "code",
   "execution_count": 37,
   "metadata": {},
   "outputs": [
    {
     "name": "stdout",
     "output_type": "stream",
     "text": [
      "Classifier trained with imbalanced dataset:\n",
      "\n",
      "              precision    recall  f1-score   support\n",
      "\n",
      "           0       0.50      0.25      0.33         4\n",
      "           1       0.89      0.96      0.93        26\n",
      "\n",
      "    accuracy                           0.87        30\n",
      "   macro avg       0.70      0.61      0.63        30\n",
      "weighted avg       0.84      0.87      0.85        30\n",
      "\n",
      "Average confidence score:  0.9931548588331839\n",
      "\n",
      "\n",
      "Classifier trained with balanced dataset:\n",
      "\n",
      "              precision    recall  f1-score   support\n",
      "\n",
      "           0       0.20      0.25      0.22         4\n",
      "           1       0.88      0.85      0.86        26\n",
      "\n",
      "    accuracy                           0.77        30\n",
      "   macro avg       0.54      0.55      0.54        30\n",
      "weighted avg       0.79      0.77      0.78        30\n",
      "\n",
      "Average confidence score:  0.930357618934021\n"
     ]
    },
    {
     "data": {
      "image/png": "[encoded data removed]",
      "text/plain": [
       "<Figure size 720x360 with 4 Axes>"
      ]
     },
     "metadata": {
      "needs_background": "light"
     },
     "output_type": "display_data"
    }
   ],
   "source": [
    "url = 'https://www.skroutz.gr/s/20060269/Apple-iPhone-11-64GB-Black.html#reviews'\n",
    "rselector= '#sku_reviews_list > li div.review-body'\n",
    "sselector = '#sku_reviews_list > li div.actual-rating > span'\n",
    "data = data_extraction(url,rselector,sselector)\n",
    "\n",
    "vectorized_data = tfidfvectorizer.transform(data['reviews'])\n",
    "vectorized_data_downsampled = tfidfvectorizer_downsampled.transform(data['reviews'])\n",
    "\n",
    "average_confidence = np.sum(np.sum(text_svc.decision_function(vectorized_data)))/len(text_svc.decision_function(vectorized_data))\n",
    "average_confidence_downsampled = np.sum(np.abs(text_svc_downsampled.decision_function(vectorized_data_downsampled)))/len(text_svc_downsampled.decision_function(vectorized_data_downsampled))\n",
    "\n",
    "print('Classifier trained with imbalanced dataset:\\n')\n",
    "print(metrics.classification_report(data['sentiment'],text_svc.predict(vectorized_data)))\n",
    "print('Average confidence score: ',average_confidence)\n",
    "print('\\n\\nClassifier trained with balanced dataset:\\n')\n",
    "print(metrics.classification_report(data['sentiment'],text_svc_downsampled.predict(vectorized_data_downsampled)))\n",
    "print('Average confidence score: ',average_confidence_downsampled)\n",
    "\n",
    "fig, ax = plt.subplots(1, 2, figsize = (10,5))\n",
    "confusion_matrix = metrics.plot_confusion_matrix(text_svc,vectorized_data,data['sentiment'],\n",
    "                                                 display_labels=['negative','positive'],ax=ax[0])\n",
    "\n",
    "ax[0].set_title('Inbalanced dataset')\n",
    "confusion_matrix_downsampled = metrics.plot_confusion_matrix(text_svc_downsampled,vectorized_data_downsampled,data['sentiment'],\n",
    "                                                 display_labels=['negative','positive'],ax=ax[1])\n",
    "\n",
    "ax[1].set_title('Balanced dataset')\n",
    "plt.suptitle(\"Confusion Matrix\", fontsize = 18)\n",
    "plt.tight_layout()"
   ]
  },
  {
   "cell_type": "code",
   "execution_count": 38,
   "metadata": {},
   "outputs": [
    {
     "name": "stdout",
     "output_type": "stream",
     "text": [
      "Classifier trained with imbalanced dataset:\n",
      "\n",
      "              precision    recall  f1-score   support\n",
      "\n",
      "           0       0.80      0.50      0.62         8\n",
      "           1       0.84      0.95      0.89        22\n",
      "\n",
      "    accuracy                           0.83        30\n",
      "   macro avg       0.82      0.73      0.75        30\n",
      "weighted avg       0.83      0.83      0.82        30\n",
      "\n",
      "Average confidence score:  0.8476013159472665\n",
      "\n",
      "\n",
      "Classifier trained with balanced dataset:\n",
      "\n",
      "              precision    recall  f1-score   support\n",
      "\n",
      "           0       0.54      0.88      0.67         8\n",
      "           1       0.94      0.73      0.82        22\n",
      "\n",
      "    accuracy                           0.77        30\n",
      "   macro avg       0.74      0.80      0.74        30\n",
      "weighted avg       0.83      0.77      0.78        30\n",
      "\n",
      "Average confidence score:  0.9292871674944007\n"
     ]
    },
    {
     "data": {
      "image/png": "[encoded data removed]",
      "text/plain": [
       "<Figure size 720x360 with 4 Axes>"
      ]
     },
     "metadata": {
      "needs_background": "light"
     },
     "output_type": "display_data"
    }
   ],
   "source": [
    "url = 'https://www.skroutz.gr/s/23272388/Xiaomi-Redmi-Note-9-Pro-128GB-Tropical-Green.html#reviews'\n",
    "rselector= '#sku_reviews_list > li div.review-body'\n",
    "sselector = '#sku_reviews_list > li div.actual-rating > span'\n",
    "data = data_extraction(url,rselector,sselector)\n",
    "\n",
    "vectorized_data = tfidfvectorizer.transform(data['reviews'])\n",
    "vectorized_data_downsampled = tfidfvectorizer_downsampled.transform(data['reviews'])\n",
    "\n",
    "average_confidence = np.sum(np.sum(text_svc.decision_function(vectorized_data)))/len(text_svc.decision_function(vectorized_data))\n",
    "average_confidence_downsampled = np.sum(np.abs(text_svc_downsampled.decision_function(vectorized_data_downsampled)))/len(text_svc_downsampled.decision_function(vectorized_data_downsampled))\n",
    "\n",
    "print('Classifier trained with imbalanced dataset:\\n')\n",
    "print(metrics.classification_report(data['sentiment'],text_svc.predict(vectorized_data)))\n",
    "print('Average confidence score: ',average_confidence)\n",
    "print('\\n\\nClassifier trained with balanced dataset:\\n')\n",
    "print(metrics.classification_report(data['sentiment'],text_svc_downsampled.predict(vectorized_data_downsampled)))\n",
    "print('Average confidence score: ',average_confidence_downsampled)\n",
    "\n",
    "fig, ax = plt.subplots(1, 2, figsize = (10,5))\n",
    "confusion_matrix = metrics.plot_confusion_matrix(text_svc,vectorized_data,data['sentiment'],\n",
    "                                                 display_labels=['negative','positive'],ax=ax[0])\n",
    "\n",
    "ax[0].set_title('Inbalanced dataset')\n",
    "confusion_matrix_downsampled = metrics.plot_confusion_matrix(text_svc_downsampled,vectorized_data_downsampled,data['sentiment'],\n",
    "                                                 display_labels=['negative','positive'],ax=ax[1])\n",
    "\n",
    "ax[1].set_title('Balanced dataset')\n",
    "plt.suptitle(\"Confusion Matrix\", fontsize = 18)\n",
    "plt.tight_layout()"
   ]
  },
  {
   "cell_type": "code",
   "execution_count": 39,
   "metadata": {},
   "outputs": [
    {
     "name": "stdout",
     "output_type": "stream",
     "text": [
      "Classifier trained with imbalanced dataset:\n",
      "\n",
      "              precision    recall  f1-score   support\n",
      "\n",
      "           0       0.55      0.86      0.67         7\n",
      "           1       0.95      0.78      0.86        23\n",
      "\n",
      "    accuracy                           0.80        30\n",
      "   macro avg       0.75      0.82      0.76        30\n",
      "weighted avg       0.85      0.80      0.81        30\n",
      "\n",
      "Average confidence score:  0.42202219060365576\n",
      "\n",
      "\n",
      "Classifier trained with balanced dataset:\n",
      "\n",
      "              precision    recall  f1-score   support\n",
      "\n",
      "           0       0.46      0.86      0.60         7\n",
      "           1       0.94      0.70      0.80        23\n",
      "\n",
      "    accuracy                           0.73        30\n",
      "   macro avg       0.70      0.78      0.70        30\n",
      "weighted avg       0.83      0.73      0.75        30\n",
      "\n",
      "Average confidence score:  0.5997825632371294\n"
     ]
    },
    {
     "data": {
      "image/png": "[encoded data removed]",
      "text/plain": [
       "<Figure size 720x360 with 4 Axes>"
      ]
     },
     "metadata": {
      "needs_background": "light"
     },
     "output_type": "display_data"
    }
   ],
   "source": [
    "url = 'https://www.skroutz.gr/s/23290197/Samsung-Galaxy-S20-Ultra-5G-128GB-Cloud-White.html#reviews'\n",
    "rselector= '#sku_reviews_list > li div.review-body'\n",
    "sselector = '#sku_reviews_list > li div.actual-rating > span'\n",
    "data = data_extraction(url,rselector,sselector)\n",
    "\n",
    "vectorized_data = tfidfvectorizer.transform(data['reviews'])\n",
    "vectorized_data_downsampled = tfidfvectorizer_downsampled.transform(data['reviews'])\n",
    "\n",
    "average_confidence = np.sum(np.sum(text_svc.decision_function(vectorized_data)))/len(text_svc.decision_function(vectorized_data))\n",
    "average_confidence_downsampled = np.sum(np.abs(text_svc_downsampled.decision_function(vectorized_data_downsampled)))/len(text_svc_downsampled.decision_function(vectorized_data_downsampled))\n",
    "\n",
    "print('Classifier trained with imbalanced dataset:\\n')\n",
    "print(metrics.classification_report(data['sentiment'],text_svc.predict(vectorized_data)))\n",
    "print('Average confidence score: ',average_confidence)\n",
    "print('\\n\\nClassifier trained with balanced dataset:\\n')\n",
    "print(metrics.classification_report(data['sentiment'],text_svc_downsampled.predict(vectorized_data_downsampled)))\n",
    "print('Average confidence score: ',average_confidence_downsampled)\n",
    "\n",
    "fig, ax = plt.subplots(1, 2, figsize = (10,5))\n",
    "confusion_matrix = metrics.plot_confusion_matrix(text_svc,vectorized_data,data['sentiment'],\n",
    "                                                 display_labels=['negative','positive'],ax=ax[0])\n",
    "\n",
    "ax[0].set_title('Inbalanced dataset')\n",
    "confusion_matrix_downsampled = metrics.plot_confusion_matrix(text_svc_downsampled,vectorized_data_downsampled,data['sentiment'],\n",
    "                                                 display_labels=['negative','positive'],ax=ax[1])\n",
    "\n",
    "ax[1].set_title('Balanced dataset')\n",
    "plt.suptitle(\"Confusion Matrix\", fontsize = 18)\n",
    "plt.tight_layout()"
   ]
  },
  {
   "cell_type": "code",
   "execution_count": 40,
   "metadata": {},
   "outputs": [
    {
     "name": "stdout",
     "output_type": "stream",
     "text": [
      "Classifier trained with imbalanced dataset:\n",
      "\n",
      "              precision    recall  f1-score   support\n",
      "\n",
      "           0       0.17      0.50      0.25         2\n",
      "           1       0.96      0.82      0.88        28\n",
      "\n",
      "    accuracy                           0.80        30\n",
      "   macro avg       0.56      0.66      0.57        30\n",
      "weighted avg       0.91      0.80      0.84        30\n",
      "\n",
      "Average confidence score:  0.6254533295838482\n",
      "\n",
      "\n",
      "Classifier trained with balanced dataset:\n",
      "\n",
      "              precision    recall  f1-score   support\n",
      "\n",
      "           0       0.11      0.50      0.18         2\n",
      "           1       0.95      0.71      0.82        28\n",
      "\n",
      "    accuracy                           0.70        30\n",
      "   macro avg       0.53      0.61      0.50        30\n",
      "weighted avg       0.90      0.70      0.77        30\n",
      "\n",
      "Average confidence score:  0.6958834267571398\n"
     ]
    },
    {
     "data": {
      "image/png": "[encoded data removed]",
      "text/plain": [
       "<Figure size 720x360 with 4 Axes>"
      ]
     },
     "metadata": {
      "needs_background": "light"
     },
     "output_type": "display_data"
    }
   ],
   "source": [
    "url = 'https://www.skroutz.gr/s/12247000/Gigabyte-GeForce-GT-1030-2GB-OC-GV-N1030OC-2GI.html#reviews'\n",
    "rselector= '#sku_reviews_list > li div.review-body'\n",
    "sselector = '#sku_reviews_list > li div.actual-rating > span'\n",
    "data = data_extraction(url,rselector,sselector)\n",
    "\n",
    "vectorized_data = tfidfvectorizer.transform(data['reviews'])\n",
    "vectorized_data_downsampled = tfidfvectorizer_downsampled.transform(data['reviews'])\n",
    "\n",
    "average_confidence = np.sum(np.sum(text_svc.decision_function(vectorized_data)))/len(text_svc.decision_function(vectorized_data))\n",
    "average_confidence_downsampled = np.sum(np.abs(text_svc_downsampled.decision_function(vectorized_data_downsampled)))/len(text_svc_downsampled.decision_function(vectorized_data_downsampled))\n",
    "\n",
    "print('Classifier trained with imbalanced dataset:\\n')\n",
    "print(metrics.classification_report(data['sentiment'],text_svc.predict(vectorized_data)))\n",
    "print('Average confidence score: ',average_confidence)\n",
    "print('\\n\\nClassifier trained with balanced dataset:\\n')\n",
    "print(metrics.classification_report(data['sentiment'],text_svc_downsampled.predict(vectorized_data_downsampled)))\n",
    "print('Average confidence score: ',average_confidence_downsampled)\n",
    "\n",
    "fig, ax = plt.subplots(1, 2, figsize = (10,5))\n",
    "confusion_matrix = metrics.plot_confusion_matrix(text_svc,vectorized_data,data['sentiment'],\n",
    "                                                 display_labels=['negative','positive'],ax=ax[0])\n",
    "\n",
    "ax[0].set_title('Inbalanced dataset')\n",
    "confusion_matrix_downsampled = metrics.plot_confusion_matrix(text_svc_downsampled,vectorized_data_downsampled,data['sentiment'],\n",
    "                                                 display_labels=['negative','positive'],ax=ax[1])\n",
    "\n",
    "ax[1].set_title('Balanced dataset')\n",
    "plt.suptitle(\"Confusion Matrix\", fontsize = 18)\n",
    "plt.tight_layout()"
   ]
  },
  {
   "cell_type": "code",
   "execution_count": 41,
   "metadata": {},
   "outputs": [
    {
     "name": "stdout",
     "output_type": "stream",
     "text": [
      "Classifier trained with imbalanced dataset:\n",
      "\n",
      "              precision    recall  f1-score   support\n",
      "\n",
      "           0       0.67      0.33      0.44         6\n",
      "           1       0.85      0.96      0.90        24\n",
      "\n",
      "    accuracy                           0.83        30\n",
      "   macro avg       0.76      0.65      0.67        30\n",
      "weighted avg       0.81      0.83      0.81        30\n",
      "\n",
      "Average confidence score:  0.6366528112902662\n",
      "\n",
      "\n",
      "Classifier trained with balanced dataset:\n",
      "\n",
      "              precision    recall  f1-score   support\n",
      "\n",
      "           0       0.25      0.50      0.33         6\n",
      "           1       0.83      0.62      0.71        24\n",
      "\n",
      "    accuracy                           0.60        30\n",
      "   macro avg       0.54      0.56      0.52        30\n",
      "weighted avg       0.72      0.60      0.64        30\n",
      "\n",
      "Average confidence score:  0.6758192929519111\n"
     ]
    },
    {
     "data": {
      "image/png": "[encoded data removed]",
      "text/plain": [
       "<Figure size 720x360 with 4 Axes>"
      ]
     },
     "metadata": {
      "needs_background": "light"
     },
     "output_type": "display_data"
    }
   ],
   "source": [
    "url = 'https://www.skroutz.gr/s/5281582/Adidas-Stan-Smith-M20325.html#reviews'\n",
    "rselector= '#sku_reviews_list > li div.review-body'\n",
    "sselector = '#sku_reviews_list > li div.actual-rating > span'\n",
    "data = data_extraction(url,rselector,sselector)\n",
    "\n",
    "vectorized_data = tfidfvectorizer.transform(data['reviews'])\n",
    "vectorized_data_downsampled = tfidfvectorizer_downsampled.transform(data['reviews'])\n",
    "\n",
    "average_confidence = np.sum(np.sum(text_svc.decision_function(vectorized_data)))/len(text_svc.decision_function(vectorized_data))\n",
    "average_confidence_downsampled = np.sum(np.abs(text_svc_downsampled.decision_function(vectorized_data_downsampled)))/len(text_svc_downsampled.decision_function(vectorized_data_downsampled))\n",
    "\n",
    "print('Classifier trained with imbalanced dataset:\\n')\n",
    "print(metrics.classification_report(data['sentiment'],text_svc.predict(vectorized_data)))\n",
    "print('Average confidence score: ',average_confidence)\n",
    "print('\\n\\nClassifier trained with balanced dataset:\\n')\n",
    "print(metrics.classification_report(data['sentiment'],text_svc_downsampled.predict(vectorized_data_downsampled)))\n",
    "print('Average confidence score: ',average_confidence_downsampled)\n",
    "\n",
    "fig, ax = plt.subplots(1, 2, figsize = (10,5))\n",
    "confusion_matrix = metrics.plot_confusion_matrix(text_svc,vectorized_data,data['sentiment'],\n",
    "                                                 display_labels=['negative','positive'],ax=ax[0])\n",
    "\n",
    "ax[0].set_title('Inbalanced dataset')\n",
    "confusion_matrix_downsampled = metrics.plot_confusion_matrix(text_svc_downsampled,vectorized_data_downsampled,data['sentiment'],\n",
    "                                                 display_labels=['negative','positive'],ax=ax[1])\n",
    "\n",
    "ax[1].set_title('Balanced dataset')\n",
    "plt.suptitle(\"Confusion Matrix\", fontsize = 18)\n",
    "plt.tight_layout()"
   ]
  },
  {
   "cell_type": "markdown",
   "metadata": {},
   "source": [
    "### Conclusions\n",
    "---\n",
    "As a general observation, I can conclude that the sentiment classification task using artificially translated text is a feasible procedure. The classifier trained on the whole dataset performs better in most cases than the one trained on the balanced dataset, especially for correctly classifying positive reviews. The classifier trained on the balanced dataset is able to correctly classify most negative reviews in each case, however that comes as a result of the poor performance in classifying positive statements.\n",
    "\n",
    "Reviews extracted are also imblanced, with negative reviews be less than 17% on all cases.\n",
    "\n",
    "It's rather interesting that the classifiers are performing well on ratings written for other products, not phones. It is something expected due to the fact that words that express sentiment occur on those reviews as well.\n",
    "\n",
    "The final model selection strongly depends on the scenario and the needs that is going to fullfill. If it is necessary to be confident that the classified positive reviews are actually positive, that means higher **precision**, then the model trained on the full data should be selected. In case that what matters most is to correctly identify as many negative reviews as possible, regardless the number of incorrectly classified positive reviews, which means higher **recall**, then the model trained on the balanced dataset should be selected.\n",
    "\n",
    "Future improvements would include but not limited to:\n",
    "- use as input a dataset consisting of reviews written directly in greek, not artificially translated, \n",
    "- balance the dataset by adding more data labeled as negative\n",
    "- label ratings in a different way, for example use a new class (Neutral) for ratings of number `3`\n",
    "- take relations between words into account to effectively predict sentiment, use models like Word2Vec or Glove and approaches like n-gram graphs, recurrent neural networks or transformers"
   ]
  }
 ],
 "metadata": {
  "kernelspec": {
   "display_name": "Python 3",
   "language": "python",
   "name": "python3"
  },
  "language_info": {
   "codemirror_mode": {
    "name": "ipython",
    "version": 3
   },
   "file_extension": ".py",
   "mimetype": "text/x-python",
   "name": "python",
   "nbconvert_exporter": "python",
   "pygments_lexer": "ipython3",
   "version": "3.7.9"
  }
 },
 "nbformat": 4,
 "nbformat_minor": 4
}
