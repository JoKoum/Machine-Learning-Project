{
 "cells": [
  {
   "cell_type": "markdown",
   "metadata": {},
   "source": [
    "# Project in Machine Learning Class: Predict user's review sentiment\n",
    "\n",
    "### John Koumentis, MTN2012"
   ]
  },
  {
   "cell_type": "code",
   "execution_count": 1,
   "metadata": {},
   "outputs": [
    {
     "name": "stderr",
     "output_type": "stream",
     "text": [
      "[nltk_data] Downloading package stopwords to\n",
      "[nltk_data]     C:\\Users\\John\\AppData\\Roaming\\nltk_data...\n",
      "[nltk_data]   Package stopwords is already up-to-date!\n"
     ]
    },
    {
     "name": "stdout",
     "output_type": "stream",
     "text": [
      "Collecting el_core_news_sm==2.3.0\n",
      "  Downloading https://github.com/explosion/spacy-models/releases/download/el_core_news_sm-2.3.0/el_core_news_sm-2.3.0.tar.gz (11.6 MB)\n",
      "Requirement already satisfied: spacy<2.4.0,>=2.3.0 in c:\\users\\john\\anaconda3\\lib\\site-packages (from el_core_news_sm==2.3.0) (2.3.5)\n",
      "Requirement already satisfied: blis<0.8.0,>=0.4.0 in c:\\users\\john\\anaconda3\\lib\\site-packages (from spacy<2.4.0,>=2.3.0->el_core_news_sm==2.3.0) (0.4.1)\n",
      "Requirement already satisfied: requests<3.0.0,>=2.13.0 in c:\\users\\john\\anaconda3\\lib\\site-packages (from spacy<2.4.0,>=2.3.0->el_core_news_sm==2.3.0) (2.25.1)\n",
      "Requirement already satisfied: thinc<7.5.0,>=7.4.1 in c:\\users\\john\\anaconda3\\lib\\site-packages (from spacy<2.4.0,>=2.3.0->el_core_news_sm==2.3.0) (7.4.5)\n",
      "Requirement already satisfied: plac<1.2.0,>=0.9.6 in c:\\users\\john\\anaconda3\\lib\\site-packages (from spacy<2.4.0,>=2.3.0->el_core_news_sm==2.3.0) (1.1.3)\n",
      "Requirement already satisfied: srsly<1.1.0,>=1.0.2 in c:\\users\\john\\anaconda3\\lib\\site-packages (from spacy<2.4.0,>=2.3.0->el_core_news_sm==2.3.0) (1.0.5)\n",
      "Requirement already satisfied: murmurhash<1.1.0,>=0.28.0 in c:\\users\\john\\anaconda3\\lib\\site-packages (from spacy<2.4.0,>=2.3.0->el_core_news_sm==2.3.0) (1.0.5)\n",
      "Requirement already satisfied: cymem<2.1.0,>=2.0.2 in c:\\users\\john\\anaconda3\\lib\\site-packages (from spacy<2.4.0,>=2.3.0->el_core_news_sm==2.3.0) (2.0.4)\n",
      "Requirement already satisfied: preshed<3.1.0,>=3.0.2 in c:\\users\\john\\anaconda3\\lib\\site-packages (from spacy<2.4.0,>=2.3.0->el_core_news_sm==2.3.0) (3.0.2)\n",
      "Requirement already satisfied: wasabi<1.1.0,>=0.4.0 in c:\\users\\john\\anaconda3\\lib\\site-packages (from spacy<2.4.0,>=2.3.0->el_core_news_sm==2.3.0) (0.8.0)\n",
      "Requirement already satisfied: catalogue<1.1.0,>=0.0.7 in c:\\users\\john\\anaconda3\\lib\\site-packages (from spacy<2.4.0,>=2.3.0->el_core_news_sm==2.3.0) (1.0.0)\n",
      "Requirement already satisfied: tqdm<5.0.0,>=4.38.0 in c:\\users\\john\\anaconda3\\lib\\site-packages (from spacy<2.4.0,>=2.3.0->el_core_news_sm==2.3.0) (4.55.1)\n",
      "Requirement already satisfied: setuptools in c:\\users\\john\\anaconda3\\lib\\site-packages (from spacy<2.4.0,>=2.3.0->el_core_news_sm==2.3.0) (51.1.2.post20210112)\n",
      "Requirement already satisfied: numpy>=1.15.0 in c:\\users\\john\\anaconda3\\lib\\site-packages (from spacy<2.4.0,>=2.3.0->el_core_news_sm==2.3.0) (1.19.2)\n",
      "Requirement already satisfied: importlib-metadata>=0.20 in c:\\users\\john\\anaconda3\\lib\\site-packages (from catalogue<1.1.0,>=0.0.7->spacy<2.4.0,>=2.3.0->el_core_news_sm==2.3.0) (2.0.0)\n",
      "Requirement already satisfied: zipp>=0.5 in c:\\users\\john\\anaconda3\\lib\\site-packages (from importlib-metadata>=0.20->catalogue<1.1.0,>=0.0.7->spacy<2.4.0,>=2.3.0->el_core_news_sm==2.3.0) (3.4.0)\n",
      "Requirement already satisfied: chardet<5,>=3.0.2 in c:\\users\\john\\anaconda3\\lib\\site-packages (from requests<3.0.0,>=2.13.0->spacy<2.4.0,>=2.3.0->el_core_news_sm==2.3.0) (3.0.4)\n",
      "Requirement already satisfied: idna<3,>=2.5 in c:\\users\\john\\anaconda3\\lib\\site-packages (from requests<3.0.0,>=2.13.0->spacy<2.4.0,>=2.3.0->el_core_news_sm==2.3.0) (2.10)\n",
      "Requirement already satisfied: urllib3<1.27,>=1.21.1 in c:\\users\\john\\anaconda3\\lib\\site-packages (from requests<3.0.0,>=2.13.0->spacy<2.4.0,>=2.3.0->el_core_news_sm==2.3.0) (1.26.2)\n",
      "Requirement already satisfied: certifi>=2017.4.17 in c:\\users\\john\\anaconda3\\lib\\site-packages (from requests<3.0.0,>=2.13.0->spacy<2.4.0,>=2.3.0->el_core_news_sm==2.3.0) (2020.12.5)\n",
      "[+] Download and installation successful\n",
      "You can now load the model via spacy.load('el_core_news_sm')\n"
     ]
    }
   ],
   "source": [
    "import numpy as np\n",
    "import pandas as pd\n",
    "from collections import Counter\n",
    "import time\n",
    "import matplotlib.pyplot as plt\n",
    "%matplotlib inline\n",
    "import matplotlib.patches as mpatches\n",
    "import seaborn as sns\n",
    "\n",
    "import string\n",
    "import re\n",
    "import nltk\n",
    "from nltk.corpus import stopwords\n",
    "nltk.download('stopwords')\n",
    "import spacy\n",
    "!python -m spacy download el_core_news_sm\n",
    "\n",
    "from sklearn.model_selection import train_test_split\n",
    "from sklearn.pipeline import Pipeline\n",
    "from sklearn.feature_extraction.text import TfidfVectorizer\n",
    "from sklearn.naive_bayes import MultinomialNB\n",
    "from sklearn.svm import LinearSVC\n",
    "from sklearn.ensemble import RandomForestClassifier,GradientBoostingClassifier\n",
    "from sklearn import metrics\n",
    "from sklearn.utils import resample"
   ]
  },
  {
   "cell_type": "markdown",
   "metadata": {},
   "source": [
    "## Load and pre-process data"
   ]
  },
  {
   "cell_type": "markdown",
   "metadata": {},
   "source": [
    "The data used comes from the 'Amazon Cell Phones Reviews' dataset found in Kaggle (https://www.kaggle.com/grikomsn/amazon-cell-phones-reviews)"
   ]
  },
  {
   "cell_type": "code",
   "execution_count": 2,
   "metadata": {},
   "outputs": [],
   "source": [
    "#Read the reviews dataset\n",
    "df = pd.read_csv('20191226-reviews.csv')\n",
    "df = df.drop('name', axis=1)"
   ]
  },
  {
   "cell_type": "code",
   "execution_count": 3,
   "metadata": {},
   "outputs": [
    {
     "name": "stdout",
     "output_type": "stream",
     "text": [
      "asin                0\n",
      "rating              0\n",
      "date                0\n",
      "verified            0\n",
      "title              14\n",
      "body               21\n",
      "helpfulVotes    40771\n",
      "dtype: int64\n"
     ]
    }
   ],
   "source": [
    "#Check for missing data\n",
    "missing_data = df.isnull().sum()\n",
    "print(missing_data)"
   ]
  },
  {
   "cell_type": "code",
   "execution_count": 4,
   "metadata": {},
   "outputs": [
    {
     "data": {
      "text/plain": [
       "(array([ 9445, 18055, 19749, 20892, 21149, 21887, 22917, 29501, 30010,\n",
       "        35596, 36845, 43415, 45899, 46470, 51628, 52176, 55171, 57837,\n",
       "        61074, 62205, 64371], dtype=int64),)"
      ]
     },
     "execution_count": 4,
     "metadata": {},
     "output_type": "execute_result"
    }
   ],
   "source": [
    "#Remove empty reviews\n",
    "empty_reviews = np.where(pd.isnull(df.body))\n",
    "df.drop(list(empty_reviews)[0],inplace=True)\n",
    "empty_reviews"
   ]
  },
  {
   "cell_type": "code",
   "execution_count": 5,
   "metadata": {},
   "outputs": [
    {
     "data": {
      "text/html": [
       "<div>\n",
       "<style scoped>\n",
       "    .dataframe tbody tr th:only-of-type {\n",
       "        vertical-align: middle;\n",
       "    }\n",
       "\n",
       "    .dataframe tbody tr th {\n",
       "        vertical-align: top;\n",
       "    }\n",
       "\n",
       "    .dataframe thead th {\n",
       "        text-align: right;\n",
       "    }\n",
       "</style>\n",
       "<table border=\"1\" class=\"dataframe\">\n",
       "  <thead>\n",
       "    <tr style=\"text-align: right;\">\n",
       "      <th></th>\n",
       "      <th>asin</th>\n",
       "      <th>rating</th>\n",
       "      <th>date</th>\n",
       "      <th>verified</th>\n",
       "      <th>title</th>\n",
       "      <th>body</th>\n",
       "      <th>helpfulVotes</th>\n",
       "    </tr>\n",
       "  </thead>\n",
       "  <tbody>\n",
       "    <tr>\n",
       "      <th>0</th>\n",
       "      <td>B0000SX2UC</td>\n",
       "      <td>3</td>\n",
       "      <td>October 11, 2005</td>\n",
       "      <td>False</td>\n",
       "      <td>Def not best, but not worst</td>\n",
       "      <td>I had the Samsung A600 for awhile which is abs...</td>\n",
       "      <td>1.0</td>\n",
       "    </tr>\n",
       "    <tr>\n",
       "      <th>1</th>\n",
       "      <td>B0000SX2UC</td>\n",
       "      <td>1</td>\n",
       "      <td>January 7, 2004</td>\n",
       "      <td>False</td>\n",
       "      <td>Text Messaging Doesn't Work</td>\n",
       "      <td>Due to a software issue between Nokia and Spri...</td>\n",
       "      <td>17.0</td>\n",
       "    </tr>\n",
       "    <tr>\n",
       "      <th>2</th>\n",
       "      <td>B0000SX2UC</td>\n",
       "      <td>5</td>\n",
       "      <td>December 30, 2003</td>\n",
       "      <td>False</td>\n",
       "      <td>Love This Phone</td>\n",
       "      <td>This is a great, reliable phone. I also purcha...</td>\n",
       "      <td>5.0</td>\n",
       "    </tr>\n",
       "    <tr>\n",
       "      <th>3</th>\n",
       "      <td>B0000SX2UC</td>\n",
       "      <td>3</td>\n",
       "      <td>March 18, 2004</td>\n",
       "      <td>False</td>\n",
       "      <td>Love the Phone, BUT...!</td>\n",
       "      <td>I love the phone and all, because I really did...</td>\n",
       "      <td>1.0</td>\n",
       "    </tr>\n",
       "    <tr>\n",
       "      <th>4</th>\n",
       "      <td>B0000SX2UC</td>\n",
       "      <td>4</td>\n",
       "      <td>August 28, 2005</td>\n",
       "      <td>False</td>\n",
       "      <td>Great phone service and options, lousy case!</td>\n",
       "      <td>The phone has been great for every purpose it ...</td>\n",
       "      <td>1.0</td>\n",
       "    </tr>\n",
       "    <tr>\n",
       "      <th>5</th>\n",
       "      <td>B0000SX2UC</td>\n",
       "      <td>4</td>\n",
       "      <td>September 25, 2005</td>\n",
       "      <td>False</td>\n",
       "      <td>Worked great for me</td>\n",
       "      <td>Hello, I have this phone and used it until I d...</td>\n",
       "      <td>NaN</td>\n",
       "    </tr>\n",
       "    <tr>\n",
       "      <th>6</th>\n",
       "      <td>B0000SX2UC</td>\n",
       "      <td>5</td>\n",
       "      <td>April 16, 2004</td>\n",
       "      <td>False</td>\n",
       "      <td>Wanna cool Nokia? You have it here!</td>\n",
       "      <td>Cool. Cheap. Color: 3 words that describe the ...</td>\n",
       "      <td>2.0</td>\n",
       "    </tr>\n",
       "    <tr>\n",
       "      <th>7</th>\n",
       "      <td>B0000SX2UC</td>\n",
       "      <td>4</td>\n",
       "      <td>April 3, 2004</td>\n",
       "      <td>False</td>\n",
       "      <td>Problem with 3588i universal headset</td>\n",
       "      <td>The 3599i is overall a nice phone, except that...</td>\n",
       "      <td>2.0</td>\n",
       "    </tr>\n",
       "    <tr>\n",
       "      <th>8</th>\n",
       "      <td>B0000SX2UC</td>\n",
       "      <td>5</td>\n",
       "      <td>November 24, 2003</td>\n",
       "      <td>False</td>\n",
       "      <td>cool phone!!!!!!!!</td>\n",
       "      <td>I've never owned a Nokia phone before, so this...</td>\n",
       "      <td>7.0</td>\n",
       "    </tr>\n",
       "    <tr>\n",
       "      <th>9</th>\n",
       "      <td>B0000SX2UC</td>\n",
       "      <td>3</td>\n",
       "      <td>February 2, 2004</td>\n",
       "      <td>False</td>\n",
       "      <td>Pissed off-a little bit</td>\n",
       "      <td>ok well im in school and i need the text messa...</td>\n",
       "      <td>3.0</td>\n",
       "    </tr>\n",
       "  </tbody>\n",
       "</table>\n",
       "</div>"
      ],
      "text/plain": [
       "         asin  rating                date  verified  \\\n",
       "0  B0000SX2UC       3    October 11, 2005     False   \n",
       "1  B0000SX2UC       1     January 7, 2004     False   \n",
       "2  B0000SX2UC       5   December 30, 2003     False   \n",
       "3  B0000SX2UC       3      March 18, 2004     False   \n",
       "4  B0000SX2UC       4     August 28, 2005     False   \n",
       "5  B0000SX2UC       4  September 25, 2005     False   \n",
       "6  B0000SX2UC       5      April 16, 2004     False   \n",
       "7  B0000SX2UC       4       April 3, 2004     False   \n",
       "8  B0000SX2UC       5   November 24, 2003     False   \n",
       "9  B0000SX2UC       3    February 2, 2004     False   \n",
       "\n",
       "                                          title  \\\n",
       "0                   Def not best, but not worst   \n",
       "1                   Text Messaging Doesn't Work   \n",
       "2                               Love This Phone   \n",
       "3                       Love the Phone, BUT...!   \n",
       "4  Great phone service and options, lousy case!   \n",
       "5                           Worked great for me   \n",
       "6           Wanna cool Nokia? You have it here!   \n",
       "7          Problem with 3588i universal headset   \n",
       "8                            cool phone!!!!!!!!   \n",
       "9                       Pissed off-a little bit   \n",
       "\n",
       "                                                body  helpfulVotes  \n",
       "0  I had the Samsung A600 for awhile which is abs...           1.0  \n",
       "1  Due to a software issue between Nokia and Spri...          17.0  \n",
       "2  This is a great, reliable phone. I also purcha...           5.0  \n",
       "3  I love the phone and all, because I really did...           1.0  \n",
       "4  The phone has been great for every purpose it ...           1.0  \n",
       "5  Hello, I have this phone and used it until I d...           NaN  \n",
       "6  Cool. Cheap. Color: 3 words that describe the ...           2.0  \n",
       "7  The 3599i is overall a nice phone, except that...           2.0  \n",
       "8  I've never owned a Nokia phone before, so this...           7.0  \n",
       "9  ok well im in school and i need the text messa...           3.0  "
      ]
     },
     "execution_count": 5,
     "metadata": {},
     "output_type": "execute_result"
    }
   ],
   "source": [
    "df.head(10)"
   ]
  },
  {
   "cell_type": "code",
   "execution_count": 6,
   "metadata": {},
   "outputs": [
    {
     "data": {
      "text/html": [
       "<div>\n",
       "<style scoped>\n",
       "    .dataframe tbody tr th:only-of-type {\n",
       "        vertical-align: middle;\n",
       "    }\n",
       "\n",
       "    .dataframe tbody tr th {\n",
       "        vertical-align: top;\n",
       "    }\n",
       "\n",
       "    .dataframe thead th {\n",
       "        text-align: right;\n",
       "    }\n",
       "</style>\n",
       "<table border=\"1\" class=\"dataframe\">\n",
       "  <thead>\n",
       "    <tr style=\"text-align: right;\">\n",
       "      <th></th>\n",
       "      <th>reviews</th>\n",
       "      <th>ratings</th>\n",
       "    </tr>\n",
       "  </thead>\n",
       "  <tbody>\n",
       "    <tr>\n",
       "      <th>0</th>\n",
       "      <td>I had the Samsung A600 for awhile which is abs...</td>\n",
       "      <td>3</td>\n",
       "    </tr>\n",
       "    <tr>\n",
       "      <th>1</th>\n",
       "      <td>Due to a software issue between Nokia and Spri...</td>\n",
       "      <td>1</td>\n",
       "    </tr>\n",
       "    <tr>\n",
       "      <th>2</th>\n",
       "      <td>This is a great, reliable phone. I also purcha...</td>\n",
       "      <td>5</td>\n",
       "    </tr>\n",
       "    <tr>\n",
       "      <th>3</th>\n",
       "      <td>I love the phone and all, because I really did...</td>\n",
       "      <td>3</td>\n",
       "    </tr>\n",
       "    <tr>\n",
       "      <th>4</th>\n",
       "      <td>The phone has been great for every purpose it ...</td>\n",
       "      <td>4</td>\n",
       "    </tr>\n",
       "  </tbody>\n",
       "</table>\n",
       "</div>"
      ],
      "text/plain": [
       "                                             reviews  ratings\n",
       "0  I had the Samsung A600 for awhile which is abs...        3\n",
       "1  Due to a software issue between Nokia and Spri...        1\n",
       "2  This is a great, reliable phone. I also purcha...        5\n",
       "3  I love the phone and all, because I really did...        3\n",
       "4  The phone has been great for every purpose it ...        4"
      ]
     },
     "execution_count": 6,
     "metadata": {},
     "output_type": "execute_result"
    }
   ],
   "source": [
    "#Isolate body and rating columns in a new dataset\n",
    "reviews_dataset = pd.DataFrame({'reviews':df.body.values, 'ratings':df.rating.values})\n",
    "#reviews_dataset.to_csv('reviews.csv')\n",
    "reviews_dataset.head()"
   ]
  },
  {
   "cell_type": "markdown",
   "metadata": {},
   "source": [
    "After removing the lines containing the empty reviews and creating a new dataset by keeping only the reviews and ratings column, the reviews column was loaded in XLSX format at https://translate.google.gr/?hl=el&sl=auto&tl=el&op=docs and translated. The output was an HTML table that was launched via Excel and stored in CSV format with name 'translate.csv'."
   ]
  },
  {
   "cell_type": "code",
   "execution_count": 7,
   "metadata": {},
   "outputs": [
    {
     "data": {
      "text/html": [
       "<div>\n",
       "<style scoped>\n",
       "    .dataframe tbody tr th:only-of-type {\n",
       "        vertical-align: middle;\n",
       "    }\n",
       "\n",
       "    .dataframe tbody tr th {\n",
       "        vertical-align: top;\n",
       "    }\n",
       "\n",
       "    .dataframe thead th {\n",
       "        text-align: right;\n",
       "    }\n",
       "</style>\n",
       "<table border=\"1\" class=\"dataframe\">\n",
       "  <thead>\n",
       "    <tr style=\"text-align: right;\">\n",
       "      <th></th>\n",
       "      <th>reviews</th>\n",
       "      <th>greek</th>\n",
       "      <th>ratings</th>\n",
       "    </tr>\n",
       "  </thead>\n",
       "  <tbody>\n",
       "    <tr>\n",
       "      <th>0</th>\n",
       "      <td>I had the Samsung A600 for awhile which is abs...</td>\n",
       "      <td>Είχα το Samsung A600 για λίγο που είναι απόλυτ...</td>\n",
       "      <td>3</td>\n",
       "    </tr>\n",
       "    <tr>\n",
       "      <th>1</th>\n",
       "      <td>Due to a software issue between Nokia and Spri...</td>\n",
       "      <td>Λόγω ενός προβλήματος λογισμικού μεταξύ της No...</td>\n",
       "      <td>1</td>\n",
       "    </tr>\n",
       "    <tr>\n",
       "      <th>2</th>\n",
       "      <td>This is a great, reliable phone. I also purcha...</td>\n",
       "      <td>Αυτό είναι ένα υπέροχο, αξιόπιστο τηλέφωνο. Αγ...</td>\n",
       "      <td>5</td>\n",
       "    </tr>\n",
       "    <tr>\n",
       "      <th>3</th>\n",
       "      <td>I love the phone and all, because I really did...</td>\n",
       "      <td>Λατρεύω το τηλέφωνο και όλα, γιατί πραγματικά ...</td>\n",
       "      <td>3</td>\n",
       "    </tr>\n",
       "    <tr>\n",
       "      <th>4</th>\n",
       "      <td>The phone has been great for every purpose it ...</td>\n",
       "      <td>Το τηλέφωνο ήταν τέλειο για κάθε σκοπό που προ...</td>\n",
       "      <td>4</td>\n",
       "    </tr>\n",
       "    <tr>\n",
       "      <th>5</th>\n",
       "      <td>Hello, I have this phone and used it until I d...</td>\n",
       "      <td>Γεια σας, έχω αυτό το τηλέφωνο και το χρησιμοπ...</td>\n",
       "      <td>4</td>\n",
       "    </tr>\n",
       "    <tr>\n",
       "      <th>6</th>\n",
       "      <td>Cool. Cheap. Color: 3 words that describe the ...</td>\n",
       "      <td>Δροσερός. Φτηνός. Χρώμα: 3 λέξεις που περιγράφ...</td>\n",
       "      <td>5</td>\n",
       "    </tr>\n",
       "    <tr>\n",
       "      <th>7</th>\n",
       "      <td>The 3599i is overall a nice phone, except that...</td>\n",
       "      <td>Το 3599i είναι γενικά ένα ωραίο τηλέφωνο, εκτό...</td>\n",
       "      <td>4</td>\n",
       "    </tr>\n",
       "    <tr>\n",
       "      <th>8</th>\n",
       "      <td>I've never owned a Nokia phone before, so this...</td>\n",
       "      <td>Δεν είχα ποτέ προηγουμένως τηλέφωνο Nokia, γι ...</td>\n",
       "      <td>5</td>\n",
       "    </tr>\n",
       "    <tr>\n",
       "      <th>9</th>\n",
       "      <td>ok well im in school and i need the text messa...</td>\n",
       "      <td>εντάξει, είμαι στο σχολείο και χρειάζομαι τα γ...</td>\n",
       "      <td>3</td>\n",
       "    </tr>\n",
       "  </tbody>\n",
       "</table>\n",
       "</div>"
      ],
      "text/plain": [
       "                                             reviews  \\\n",
       "0  I had the Samsung A600 for awhile which is abs...   \n",
       "1  Due to a software issue between Nokia and Spri...   \n",
       "2  This is a great, reliable phone. I also purcha...   \n",
       "3  I love the phone and all, because I really did...   \n",
       "4  The phone has been great for every purpose it ...   \n",
       "5  Hello, I have this phone and used it until I d...   \n",
       "6  Cool. Cheap. Color: 3 words that describe the ...   \n",
       "7  The 3599i is overall a nice phone, except that...   \n",
       "8  I've never owned a Nokia phone before, so this...   \n",
       "9  ok well im in school and i need the text messa...   \n",
       "\n",
       "                                               greek  ratings  \n",
       "0  Είχα το Samsung A600 για λίγο που είναι απόλυτ...        3  \n",
       "1  Λόγω ενός προβλήματος λογισμικού μεταξύ της No...        1  \n",
       "2  Αυτό είναι ένα υπέροχο, αξιόπιστο τηλέφωνο. Αγ...        5  \n",
       "3  Λατρεύω το τηλέφωνο και όλα, γιατί πραγματικά ...        3  \n",
       "4  Το τηλέφωνο ήταν τέλειο για κάθε σκοπό που προ...        4  \n",
       "5  Γεια σας, έχω αυτό το τηλέφωνο και το χρησιμοπ...        4  \n",
       "6  Δροσερός. Φτηνός. Χρώμα: 3 λέξεις που περιγράφ...        5  \n",
       "7  Το 3599i είναι γενικά ένα ωραίο τηλέφωνο, εκτό...        4  \n",
       "8  Δεν είχα ποτέ προηγουμένως τηλέφωνο Nokia, γι ...        5  \n",
       "9  εντάξει, είμαι στο σχολείο και χρειάζομαι τα γ...        3  "
      ]
     },
     "execution_count": 7,
     "metadata": {},
     "output_type": "execute_result"
    }
   ],
   "source": [
    "translated = pd.read_csv('translate.csv',header=None)\n",
    "reviews_dataset.insert(loc=1, column='greek', value=translated)\n",
    "reviews_dataset.head(10)"
   ]
  },
  {
   "cell_type": "markdown",
   "metadata": {},
   "source": [
    "Introducing a function to clean the translated text, that converts words to lowercase, removes punctuation and stopwords and applies lemmatization."
   ]
  },
  {
   "cell_type": "code",
   "execution_count": 8,
   "metadata": {},
   "outputs": [],
   "source": [
    "#Clean reviews text\n",
    "punctuation = set(string.punctuation)\n",
    "latin = re.compile(r'[^a-zÀ-ÿ]+') #Locate Latin characters\n",
    "special_chars = re.compile('[u\"\\U0001F300-\\U0001F5FF\"]+',flags=re.UNICODE) #Locate special characters like emojis\n",
    "nlp = spacy.load('el_core_news_sm')\n",
    "\n",
    "def clean_text(text):\n",
    "    # Convert the text into lowercase\n",
    "    text = text.lower()\n",
    "    # Remove special characters\n",
    "    text = special_chars.sub(r'',text)\n",
    "    # Remove Latin characters\n",
    "    wordList = latin.findall(text)\n",
    "    # Remove punctuation\n",
    "    wordList = [\"\".join(x for x in word if (x==\"'\")|(x not in punctuation)) for word in wordList]\n",
    "    # Remove stopwords\n",
    "    wordList = [word for word in wordList if word not in stopwords.words('greek')]\n",
    "    # Lemmatisation\n",
    "    cleaned_text = nlp(\" \".join(wordList))\n",
    "    cleaned_text = [token.lemma_ for token in cleaned_text]\n",
    "    return \" \".join(cleaned_text)"
   ]
  },
  {
   "cell_type": "markdown",
   "metadata": {},
   "source": [
    "Due to long execution time the results of the following cell execution were stored in the cleaned.csv file, to get retrieved directly from there."
   ]
  },
  {
   "cell_type": "code",
   "execution_count": 9,
   "metadata": {},
   "outputs": [],
   "source": [
    "#start = time.process_time()\n",
    "#reviews_dataset['cleaned_text'] = reviews_dataset['greek'].apply(clean_text)\n",
    "#print(time.process_time() - start)\n",
    "#reviews_dataset.to_csv('cleaned.csv')\n",
    "reviews_dataset = pd.read_csv('cleaned.csv',index_col=0)"
   ]
  },
  {
   "cell_type": "code",
   "execution_count": 10,
   "metadata": {},
   "outputs": [
    {
     "name": "stderr",
     "output_type": "stream",
     "text": [
      "C:\\Users\\John\\Anaconda3\\lib\\site-packages\\seaborn\\_decorators.py:43: FutureWarning: Pass the following variable as a keyword arg: x. From version 0.12, the only valid positional argument will be `data`, and passing other arguments without an explicit keyword will result in an error or misinterpretation.\n",
      "  FutureWarning\n"
     ]
    },
    {
     "data": {
      "text/plain": [
       "<AxesSubplot:xlabel='ratings', ylabel='count'>"
      ]
     },
     "execution_count": 10,
     "metadata": {},
     "output_type": "execute_result"
    },
    {
     "data": {
      "image/png": "[encoded data removed]",
      "text/plain": [
       "<Figure size 432x288 with 1 Axes>"
      ]
     },
     "metadata": {
      "needs_background": "light"
     },
     "output_type": "display_data"
    }
   ],
   "source": [
    "# Check the ratings count\n",
    "\n",
    "sns.countplot(reviews_dataset['ratings'])"
   ]
  },
  {
   "cell_type": "markdown",
   "metadata": {},
   "source": [
    "The `4` and `5` star (positive) ratings combined are more than the `1`,`2` ones (negative) combined. Hence, I decided to add the `3` star ratings to the negative ratings. In order to simplify the situation, I replaced the `4`,`5` star ratings with the label `1`, to indicate positive sentiment and the `1`,`2`,`3` star ratings with the label `0`, to indicate negative sentiment."
   ]
  },
  {
   "cell_type": "code",
   "execution_count": 11,
   "metadata": {},
   "outputs": [
    {
     "data": {
      "text/html": [
       "<div>\n",
       "<style scoped>\n",
       "    .dataframe tbody tr th:only-of-type {\n",
       "        vertical-align: middle;\n",
       "    }\n",
       "\n",
       "    .dataframe tbody tr th {\n",
       "        vertical-align: top;\n",
       "    }\n",
       "\n",
       "    .dataframe thead th {\n",
       "        text-align: right;\n",
       "    }\n",
       "</style>\n",
       "<table border=\"1\" class=\"dataframe\">\n",
       "  <thead>\n",
       "    <tr style=\"text-align: right;\">\n",
       "      <th></th>\n",
       "      <th>reviews</th>\n",
       "      <th>greek</th>\n",
       "      <th>ratings</th>\n",
       "      <th>cleaned_text</th>\n",
       "    </tr>\n",
       "  </thead>\n",
       "  <tbody>\n",
       "    <tr>\n",
       "      <th>0</th>\n",
       "      <td>I had the Samsung A600 for awhile which is abs...</td>\n",
       "      <td>Είχα το Samsung A600 για λίγο που είναι απόλυτ...</td>\n",
       "      <td>0</td>\n",
       "      <td>έχω το     600 για λίγο που είναι απόλυτος    ...</td>\n",
       "    </tr>\n",
       "    <tr>\n",
       "      <th>1</th>\n",
       "      <td>Due to a software issue between Nokia and Spri...</td>\n",
       "      <td>Λόγω ενός προβλήματος λογισμικού μεταξύ της No...</td>\n",
       "      <td>0</td>\n",
       "      <td>λόγω ενός προβλήματος λογισμικός μεταξύ της   ...</td>\n",
       "    </tr>\n",
       "    <tr>\n",
       "      <th>2</th>\n",
       "      <td>This is a great, reliable phone. I also purcha...</td>\n",
       "      <td>Αυτό είναι ένα υπέροχο, αξιόπιστο τηλέφωνο. Αγ...</td>\n",
       "      <td>1</td>\n",
       "      <td>αυτό είναι ένα υπέροχος αξιόπιστος τηλέφωνο αγ...</td>\n",
       "    </tr>\n",
       "    <tr>\n",
       "      <th>3</th>\n",
       "      <td>I love the phone and all, because I really did...</td>\n",
       "      <td>Λατρεύω το τηλέφωνο και όλα, γιατί πραγματικά ...</td>\n",
       "      <td>0</td>\n",
       "      <td>λατρεύω το τηλέφωνος και όλος γιατί πραγματικά...</td>\n",
       "    </tr>\n",
       "    <tr>\n",
       "      <th>4</th>\n",
       "      <td>The phone has been great for every purpose it ...</td>\n",
       "      <td>Το τηλέφωνο ήταν τέλειο για κάθε σκοπό που προ...</td>\n",
       "      <td>1</td>\n",
       "      <td>το τηλέφωνος ήταν τέλειος για κάθε σκοπό που π...</td>\n",
       "    </tr>\n",
       "    <tr>\n",
       "      <th>5</th>\n",
       "      <td>Hello, I have this phone and used it until I d...</td>\n",
       "      <td>Γεια σας, έχω αυτό το τηλέφωνο και το χρησιμοπ...</td>\n",
       "      <td>1</td>\n",
       "      <td>γειο σας έχω αυτό το τηλέφωνος και το χρησιμοπ...</td>\n",
       "    </tr>\n",
       "    <tr>\n",
       "      <th>6</th>\n",
       "      <td>Cool. Cheap. Color: 3 words that describe the ...</td>\n",
       "      <td>Δροσερός. Φτηνός. Χρώμα: 3 λέξεις που περιγράφ...</td>\n",
       "      <td>1</td>\n",
       "      <td>δροσερός φτηνό χρώμα 3 λέξει που περιγράφω τέλ...</td>\n",
       "    </tr>\n",
       "    <tr>\n",
       "      <th>7</th>\n",
       "      <td>The 3599i is overall a nice phone, except that...</td>\n",
       "      <td>Το 3599i είναι γενικά ένα ωραίο τηλέφωνο, εκτό...</td>\n",
       "      <td>1</td>\n",
       "      <td>το 3599   είναι γενικά ένα ωραίος τηλέφωνο εκτ...</td>\n",
       "    </tr>\n",
       "    <tr>\n",
       "      <th>8</th>\n",
       "      <td>I've never owned a Nokia phone before, so this...</td>\n",
       "      <td>Δεν είχα ποτέ προηγουμένως τηλέφωνο Nokia, γι ...</td>\n",
       "      <td>1</td>\n",
       "      <td>δεν έχω ποτέ προηγουμένως τηλέφωνος    γι ' αυ...</td>\n",
       "    </tr>\n",
       "    <tr>\n",
       "      <th>9</th>\n",
       "      <td>ok well im in school and i need the text messa...</td>\n",
       "      <td>εντάξει, είμαι στο σχολείο και χρειάζομαι τα γ...</td>\n",
       "      <td>0</td>\n",
       "      <td>εντάξω είμαι στο σχολείο και χρειάζομαι τα γρα...</td>\n",
       "    </tr>\n",
       "  </tbody>\n",
       "</table>\n",
       "</div>"
      ],
      "text/plain": [
       "                                             reviews  \\\n",
       "0  I had the Samsung A600 for awhile which is abs...   \n",
       "1  Due to a software issue between Nokia and Spri...   \n",
       "2  This is a great, reliable phone. I also purcha...   \n",
       "3  I love the phone and all, because I really did...   \n",
       "4  The phone has been great for every purpose it ...   \n",
       "5  Hello, I have this phone and used it until I d...   \n",
       "6  Cool. Cheap. Color: 3 words that describe the ...   \n",
       "7  The 3599i is overall a nice phone, except that...   \n",
       "8  I've never owned a Nokia phone before, so this...   \n",
       "9  ok well im in school and i need the text messa...   \n",
       "\n",
       "                                               greek  ratings  \\\n",
       "0  Είχα το Samsung A600 για λίγο που είναι απόλυτ...        0   \n",
       "1  Λόγω ενός προβλήματος λογισμικού μεταξύ της No...        0   \n",
       "2  Αυτό είναι ένα υπέροχο, αξιόπιστο τηλέφωνο. Αγ...        1   \n",
       "3  Λατρεύω το τηλέφωνο και όλα, γιατί πραγματικά ...        0   \n",
       "4  Το τηλέφωνο ήταν τέλειο για κάθε σκοπό που προ...        1   \n",
       "5  Γεια σας, έχω αυτό το τηλέφωνο και το χρησιμοπ...        1   \n",
       "6  Δροσερός. Φτηνός. Χρώμα: 3 λέξεις που περιγράφ...        1   \n",
       "7  Το 3599i είναι γενικά ένα ωραίο τηλέφωνο, εκτό...        1   \n",
       "8  Δεν είχα ποτέ προηγουμένως τηλέφωνο Nokia, γι ...        1   \n",
       "9  εντάξει, είμαι στο σχολείο και χρειάζομαι τα γ...        0   \n",
       "\n",
       "                                        cleaned_text  \n",
       "0  έχω το     600 για λίγο που είναι απόλυτος    ...  \n",
       "1  λόγω ενός προβλήματος λογισμικός μεταξύ της   ...  \n",
       "2  αυτό είναι ένα υπέροχος αξιόπιστος τηλέφωνο αγ...  \n",
       "3  λατρεύω το τηλέφωνος και όλος γιατί πραγματικά...  \n",
       "4  το τηλέφωνος ήταν τέλειος για κάθε σκοπό που π...  \n",
       "5  γειο σας έχω αυτό το τηλέφωνος και το χρησιμοπ...  \n",
       "6  δροσερός φτηνό χρώμα 3 λέξει που περιγράφω τέλ...  \n",
       "7  το 3599   είναι γενικά ένα ωραίος τηλέφωνο εκτ...  \n",
       "8  δεν έχω ποτέ προηγουμένως τηλέφωνος    γι ' αυ...  \n",
       "9  εντάξω είμαι στο σχολείο και χρειάζομαι τα γρα...  "
      ]
     },
     "execution_count": 11,
     "metadata": {},
     "output_type": "execute_result"
    }
   ],
   "source": [
    "sentiment_dict = {1:0, 2:0, 3:0, 4:1, 5:1}\n",
    "reviews_dataset['ratings'].replace(sentiment_dict,inplace=True)\n",
    "reviews_dataset.head(10)"
   ]
  },
  {
   "cell_type": "code",
   "execution_count": 12,
   "metadata": {},
   "outputs": [
    {
     "name": "stderr",
     "output_type": "stream",
     "text": [
      "C:\\Users\\John\\Anaconda3\\lib\\site-packages\\seaborn\\_decorators.py:43: FutureWarning: Pass the following variable as a keyword arg: x. From version 0.12, the only valid positional argument will be `data`, and passing other arguments without an explicit keyword will result in an error or misinterpretation.\n",
      "  FutureWarning\n"
     ]
    },
    {
     "data": {
      "text/plain": [
       "<AxesSubplot:xlabel='ratings', ylabel='count'>"
      ]
     },
     "execution_count": 12,
     "metadata": {},
     "output_type": "execute_result"
    },
    {
     "data": {
      "image/png": "[encoded data removed]",
      "text/plain": [
       "<Figure size 432x288 with 1 Axes>"
      ]
     },
     "metadata": {
      "needs_background": "light"
     },
     "output_type": "display_data"
    }
   ],
   "source": [
    "sns.countplot(reviews_dataset['ratings'])"
   ]
  },
  {
   "cell_type": "markdown",
   "metadata": {},
   "source": [
    "After cleaning the data, there were some reviews that provided empty result:"
   ]
  },
  {
   "cell_type": "code",
   "execution_count": 13,
   "metadata": {},
   "outputs": [
    {
     "name": "stdout",
     "output_type": "stream",
     "text": [
      "reviews           0\n",
      "greek             0\n",
      "ratings           0\n",
      "cleaned_text    285\n",
      "dtype: int64\n"
     ]
    }
   ],
   "source": [
    "missing_data = reviews_dataset.isnull().sum()\n",
    "print(missing_data)"
   ]
  },
  {
   "cell_type": "code",
   "execution_count": 14,
   "metadata": {},
   "outputs": [
    {
     "data": {
      "text/plain": [
       "(array([ 9445, 18055, 19749, 20892, 21149, 21887, 22917, 29501, 30010,\n",
       "        35596, 36845, 43415, 45899, 46470, 51628, 52176, 55171, 57837,\n",
       "        61074, 62205, 64371], dtype=int64),)"
      ]
     },
     "execution_count": 14,
     "metadata": {},
     "output_type": "execute_result"
    }
   ],
   "source": [
    "nans = np.where(pd.isnull(reviews_dataset.cleaned_text))\n",
    "reviews_dataset.drop(list(nans)[0],inplace=True)\n",
    "empty_reviews"
   ]
  },
  {
   "cell_type": "code",
   "execution_count": 15,
   "metadata": {},
   "outputs": [
    {
     "data": {
      "text/html": [
       "<div>\n",
       "<style scoped>\n",
       "    .dataframe tbody tr th:only-of-type {\n",
       "        vertical-align: middle;\n",
       "    }\n",
       "\n",
       "    .dataframe tbody tr th {\n",
       "        vertical-align: top;\n",
       "    }\n",
       "\n",
       "    .dataframe thead th {\n",
       "        text-align: right;\n",
       "    }\n",
       "</style>\n",
       "<table border=\"1\" class=\"dataframe\">\n",
       "  <thead>\n",
       "    <tr style=\"text-align: right;\">\n",
       "      <th></th>\n",
       "      <th>reviews</th>\n",
       "      <th>ratings</th>\n",
       "    </tr>\n",
       "  </thead>\n",
       "  <tbody>\n",
       "    <tr>\n",
       "      <th>0</th>\n",
       "      <td>έχω το     600 για λίγο που είναι απόλυτος    ...</td>\n",
       "      <td>0</td>\n",
       "    </tr>\n",
       "    <tr>\n",
       "      <th>1</th>\n",
       "      <td>λόγω ενός προβλήματος λογισμικός μεταξύ της   ...</td>\n",
       "      <td>0</td>\n",
       "    </tr>\n",
       "    <tr>\n",
       "      <th>2</th>\n",
       "      <td>αυτό είναι ένα υπέροχος αξιόπιστος τηλέφωνο αγ...</td>\n",
       "      <td>1</td>\n",
       "    </tr>\n",
       "    <tr>\n",
       "      <th>3</th>\n",
       "      <td>λατρεύω το τηλέφωνος και όλος γιατί πραγματικά...</td>\n",
       "      <td>0</td>\n",
       "    </tr>\n",
       "    <tr>\n",
       "      <th>4</th>\n",
       "      <td>το τηλέφωνος ήταν τέλειος για κάθε σκοπό που π...</td>\n",
       "      <td>1</td>\n",
       "    </tr>\n",
       "  </tbody>\n",
       "</table>\n",
       "</div>"
      ],
      "text/plain": [
       "                                             reviews  ratings\n",
       "0  έχω το     600 για λίγο που είναι απόλυτος    ...        0\n",
       "1  λόγω ενός προβλήματος λογισμικός μεταξύ της   ...        0\n",
       "2  αυτό είναι ένα υπέροχος αξιόπιστος τηλέφωνο αγ...        1\n",
       "3  λατρεύω το τηλέφωνος και όλος γιατί πραγματικά...        0\n",
       "4  το τηλέφωνος ήταν τέλειος για κάθε σκοπό που π...        1"
      ]
     },
     "execution_count": 15,
     "metadata": {},
     "output_type": "execute_result"
    }
   ],
   "source": [
    "#Isolate cleaned text and ratings columns in a new dataset\n",
    "reviews = pd.DataFrame({'reviews':reviews_dataset.cleaned_text.values, 'ratings':reviews_dataset.ratings.values})\n",
    "#reviews_dataset.to_csv('reviews.csv')\n",
    "reviews.head()"
   ]
  },
  {
   "cell_type": "code",
   "execution_count": 16,
   "metadata": {},
   "outputs": [],
   "source": [
    "greek_reviews = reviews.reviews\n",
    "labels = reviews.ratings"
   ]
  },
  {
   "cell_type": "markdown",
   "metadata": {},
   "source": [
    "## Check Positive and Negative usage of words"
   ]
  },
  {
   "cell_type": "code",
   "execution_count": 17,
   "metadata": {},
   "outputs": [],
   "source": [
    "# Create three Counter objects to store positive, negative and total counts\n",
    "positive_counts = Counter()\n",
    "negative_counts = Counter()\n",
    "total_counts = Counter()"
   ]
  },
  {
   "cell_type": "code",
   "execution_count": 18,
   "metadata": {},
   "outputs": [],
   "source": [
    "# Loop over all the words in all the reviews and increment the counts in the appropriate counter objects\n",
    "for i in range(len(reviews)):\n",
    "    try:\n",
    "        for word in greek_reviews[i].split(\" \"):\n",
    "            total_counts[word] += 1\n",
    "            if labels[i] == 1:\n",
    "                positive_counts[word] += 1\n",
    "            else:\n",
    "                negative_counts[word] += 1\n",
    "    except KeyError:\n",
    "        pass"
   ]
  },
  {
   "cell_type": "code",
   "execution_count": 19,
   "metadata": {},
   "outputs": [],
   "source": [
    "pos_neg_ratios = Counter()\n",
    "pos_neg_ratios_log = Counter()\n",
    "\n",
    "# Calculate the ratios of positive and negative uses of the most common words\n",
    "# Consider words to be \"common\" if they've been used at least 100 times\n",
    "for term,cnt in list(total_counts.most_common()):\n",
    "    if(cnt > 100):\n",
    "        pos_neg_ratios[term] = positive_counts[term] / float(negative_counts[term]+1)\n",
    "        \n",
    "# Convert ratios to logs\n",
    "for word,ratio in pos_neg_ratios.most_common():\n",
    "    pos_neg_ratios_log[word] = np.log(ratio)"
   ]
  },
  {
   "cell_type": "code",
   "execution_count": 20,
   "metadata": {},
   "outputs": [
    {
     "name": "stdout",
     "output_type": "stream",
     "text": [
      "Pos-to-neg ratio for 'λόγω' = 0.2786746254947829\n",
      "Pos-to-neg ratio for 'υπέροχο' = 2.23157193007374\n",
      "Pos-to-neg ratio for 'απογοητευμένος' = -1.6123747721074102\n"
     ]
    }
   ],
   "source": [
    "print(\"Pos-to-neg ratio for 'λόγω' = {}\".format(pos_neg_ratios_log[\"λόγω\"]))\n",
    "print(\"Pos-to-neg ratio for 'υπέροχο' = {}\".format(pos_neg_ratios_log[\"υπέροχο\"]))\n",
    "print(\"Pos-to-neg ratio for 'απογοητευμένος' = {}\".format(pos_neg_ratios_log[\"απογοητευμένος\"]))"
   ]
  },
  {
   "cell_type": "markdown",
   "metadata": {},
   "source": [
    "Neutral words like 'λόγω' have logarithmic pos-to-neg ratio slightly larger than zero. Positive words like 'υπέροχο' logarithmic ratio is larger than `1`, that means it is used mostly in positive reviews, whereas negative words like 'απογοητευμένος' have a ratio value smaller than `-1` indicating that they are used mostly in negative reviews."
   ]
  },
  {
   "cell_type": "code",
   "execution_count": 21,
   "metadata": {},
   "outputs": [
    {
     "data": {
      "text/plain": [
       "{'χρημάτο': -1.9745325952326636,\n",
       " 'ελαττωματικό': -1.9830278120118159,\n",
       " 'απενεργοποιείται': -2.0149030205422647,\n",
       " 'τυχαίο': -2.02537432040956,\n",
       " 'κολλημένος': -2.087223682121891,\n",
       " 'επιστροφός': -2.1279611064699955,\n",
       " 'επισκευή': -2.132581721074134,\n",
       " 'απάτη': -2.167548809190103,\n",
       " 'σπατάλη': -2.468099531471619,\n",
       " 'αγορασω': -2.6026896854443837}"
      ]
     },
     "execution_count": 21,
     "metadata": {},
     "output_type": "execute_result"
    }
   ],
   "source": [
    "dict(pos_neg_ratios_log.most_common()[-10:])"
   ]
  },
  {
   "cell_type": "code",
   "execution_count": 22,
   "metadata": {},
   "outputs": [
    {
     "data": {
      "text/plain": [
       "{'εξοχο': 4.6913478822291435,\n",
       " 'δουλευει': 4.518158808998462,\n",
       " 'τελεια': 3.817712325956905,\n",
       " 'νικήσω': 3.2358734012367716,\n",
       " 'αγαπω': 3.0647251450409425,\n",
       " 'ανησυχούσας': 3.005682604407159,\n",
       " 'λατρεύω': 2.807116439488649,\n",
       " 'οπως': 2.7990219793079367,\n",
       " 'προσιτός': 2.70805020110221,\n",
       " 'ερωτευμένος': 2.5726122302071057}"
      ]
     },
     "execution_count": 22,
     "metadata": {},
     "output_type": "execute_result"
    }
   ],
   "source": [
    "dict(pos_neg_ratios_log.most_common()[0:10])"
   ]
  },
  {
   "cell_type": "markdown",
   "metadata": {},
   "source": [
    "As a final preparation step, the tf-idf vectorizer was used to transform the words in vectors according to their frequency and importance. As it is mentioned at the corresponding scikit learn documentation topic, the goal of using tf-idf instead of the raw frequencies of occurrence of a token in a given document is to scale down the impact of tokens that occur very frequently in a given corpus and that are hence empirically less informative than features that occur in a small fraction of the training corpus."
   ]
  },
  {
   "cell_type": "code",
   "execution_count": 23,
   "metadata": {},
   "outputs": [
    {
     "name": "stdout",
     "output_type": "stream",
     "text": [
      "  (0, 12)\t0.025375480354459794\n",
      "  (0, 10)\t0.025375480354459794\n",
      "  (0, 7)\t0.025375480354459794\n",
      "  (0, 19)\t0.025375480354459794\n",
      "  (0, 16)\t0.025375480354459794\n",
      "  (0, 4)\t0.025375480354459794\n",
      "  (0, 1)\t0.025375480354459794\n",
      "  (0, 15)\t0.025375480354459794\n",
      "  (0, 2)\t0.025375480354459794\n",
      "  (0, 11)\t0.025375480354459794\n",
      "  (0, 3)\t0.025375480354459794\n",
      "  (0, 13)\t0.025375480354459794\n",
      "  (0, 17)\t0.025375480354459794\n",
      "  (0, 9)\t0.025375480354459794\n",
      "  (0, 18)\t0.025375480354459794\n",
      "  (0, 5)\t0.025375480354459794\n",
      "  (0, 14)\t0.025375480354459794\n",
      "  (0, 8)\t0.025375480354459794\n",
      "  (0, 0)\t0.025375480354459794\n",
      "  (0, 6)\t0.07612644106337939\n"
     ]
    }
   ],
   "source": [
    "tfidf = TfidfVectorizer()\n",
    "vectorized = tfidf.fit_transform([reviews.reviews[0]])\n",
    "print(vectorized[0,0:20])"
   ]
  },
  {
   "cell_type": "markdown",
   "metadata": {},
   "source": [
    "## Machine Learning Pipeline"
   ]
  },
  {
   "cell_type": "code",
   "execution_count": 24,
   "metadata": {},
   "outputs": [],
   "source": [
    "X = reviews['reviews']\n",
    "y = reviews['ratings']"
   ]
  },
  {
   "cell_type": "code",
   "execution_count": 25,
   "metadata": {},
   "outputs": [],
   "source": [
    "def model_training(X,y,algorithm):\n",
    "    \n",
    "    metrics_dict = {}\n",
    "    \n",
    "    X_train, X_test, y_train, y_test = train_test_split(X, y, test_size=0.3, random_state=77)\n",
    "\n",
    "    model_clf = Pipeline([('tfidf', TfidfVectorizer()),\n",
    "                     ('clf', algorithm),\n",
    "    ])\n",
    "    \n",
    "    #print algorithm\n",
    "    print('########## Using',str(algorithm),'algorithm ##########\\n')\n",
    "    \n",
    "    # Feed the training data through the pipeline\n",
    "    training_time_start = time.process_time()\n",
    "    model_clf.fit(X_train, y_train)\n",
    "    training_time = time.process_time() - training_time_start\n",
    "    metrics_dict['Total training time'] = training_time\n",
    "    print('Total training time: ',training_time)\n",
    "    \n",
    "\n",
    "    # Form predictions using test set\n",
    "    testing_time_start = time.process_time()\n",
    "    predictions = model_clf.predict(X_test)\n",
    "    testing_time = time.process_time() - testing_time_start\n",
    "    metrics_dict['Total testing time'] = testing_time\n",
    "    print('Total testing time: ',testing_time,'\\n')\n",
    "\n",
    "    # Report the confusion matrix\n",
    "    confusion_matrix = metrics.confusion_matrix(y_test,predictions)\n",
    "    metrics_dict['Confusion matrix'] = confusion_matrix\n",
    "    print('Confusion Matrix\\n{}\\n'.format(confusion_matrix))\n",
    "\n",
    "    # Create a classification report\n",
    "    report = metrics.classification_report(y_test,predictions)\n",
    "    metrics_dict['Classification report'] = report\n",
    "    print('Classification report\\n{}\\n'.format(report))\n",
    "\n",
    "    # Calculate the overall accuracy\n",
    "    accuracy_score = metrics.accuracy_score(y_test,predictions)\n",
    "    metrics_dict['Accuracy'] = accuracy_score\n",
    "    precision = metrics.precision_score(y_test,predictions)\n",
    "    metrics_dict['Precision'] = precision\n",
    "    recall = metrics.recall_score(y_test,predictions)\n",
    "    metrics_dict['Recall'] = recall\n",
    "    f1_score = metrics.f1_score(y_test,predictions)\n",
    "    metrics_dict['F1 Score'] = f1_score\n",
    "    print('Overall accuracy: {}\\nPrecision: {}\\nRecall: {}\\nF1-Score: {}\\n\\n'.format(accuracy_score,precision,\n",
    "                                                                                 recall,f1_score))\n",
    "    #Plot ROC curve\n",
    "    metrics.plot_roc_curve(model_clf,X_test,y_test)\n",
    "    plt.title(str(algorithm)+' ROC curve')\n",
    "    plt.show()\n",
    "    print('---------------------------------------------------------------------------------')\n",
    "    return model_clf, metrics_dict"
   ]
  },
  {
   "cell_type": "code",
   "execution_count": 26,
   "metadata": {},
   "outputs": [
    {
     "name": "stdout",
     "output_type": "stream",
     "text": [
      "########## Using MultinomialNB() algorithm ##########\n",
      "\n",
      "Total training time:  2.515625\n",
      "Total testing time:  1.125 \n",
      "\n",
      "Confusion Matrix\n",
      "[[ 3438  3067]\n",
      " [  270 13529]]\n",
      "\n",
      "Classification report\n",
      "              precision    recall  f1-score   support\n",
      "\n",
      "           0       0.93      0.53      0.67      6505\n",
      "           1       0.82      0.98      0.89     13799\n",
      "\n",
      "    accuracy                           0.84     20304\n",
      "   macro avg       0.87      0.75      0.78     20304\n",
      "weighted avg       0.85      0.84      0.82     20304\n",
      "\n",
      "\n",
      "Overall accuracy: 0.8356481481481481\n",
      "Precision: 0.8151964328753917\n",
      "Recall: 0.9804333647365752\n",
      "F1-Score: 0.8902122059549269\n",
      "\n",
      "\n"
     ]
    },
    {
     "data": {
      "image/png": "[encoded data removed]",
      "text/plain": [
       "<Figure size 432x288 with 1 Axes>"
      ]
     },
     "metadata": {
      "needs_background": "light"
     },
     "output_type": "display_data"
    },
    {
     "name": "stdout",
     "output_type": "stream",
     "text": [
      "---------------------------------------------------------------------------------\n",
      "########## Using LinearSVC() algorithm ##########\n",
      "\n",
      "Total training time:  2.78125\n",
      "Total testing time:  1.046875 \n",
      "\n",
      "Confusion Matrix\n",
      "[[ 5069  1436]\n",
      " [  847 12952]]\n",
      "\n",
      "Classification report\n",
      "              precision    recall  f1-score   support\n",
      "\n",
      "           0       0.86      0.78      0.82      6505\n",
      "           1       0.90      0.94      0.92     13799\n",
      "\n",
      "    accuracy                           0.89     20304\n",
      "   macro avg       0.88      0.86      0.87     20304\n",
      "weighted avg       0.89      0.89      0.89     20304\n",
      "\n",
      "\n",
      "Overall accuracy: 0.8875591016548463\n",
      "Precision: 0.900194606616625\n",
      "Recall: 0.9386187404884412\n",
      "F1-Score: 0.9190052151701139\n",
      "\n",
      "\n"
     ]
    },
    {
     "data": {
      "image/png": "[encoded data removed]",
      "text/plain": [
       "<Figure size 432x288 with 1 Axes>"
      ]
     },
     "metadata": {
      "needs_background": "light"
     },
     "output_type": "display_data"
    },
    {
     "name": "stdout",
     "output_type": "stream",
     "text": [
      "---------------------------------------------------------------------------------\n",
      "########## Using RandomForestClassifier() algorithm ##########\n",
      "\n",
      "Total training time:  146.9375\n",
      "Total testing time:  2.328125 \n",
      "\n",
      "Confusion Matrix\n",
      "[[ 4456  2049]\n",
      " [  561 13238]]\n",
      "\n",
      "Classification report\n",
      "              precision    recall  f1-score   support\n",
      "\n",
      "           0       0.89      0.69      0.77      6505\n",
      "           1       0.87      0.96      0.91     13799\n",
      "\n",
      "    accuracy                           0.87     20304\n",
      "   macro avg       0.88      0.82      0.84     20304\n",
      "weighted avg       0.87      0.87      0.87     20304\n",
      "\n",
      "\n",
      "Overall accuracy: 0.8714539007092199\n",
      "Precision: 0.8659645450382678\n",
      "Recall: 0.9593448800637727\n",
      "F1-Score: 0.9102661074056247\n",
      "\n",
      "\n"
     ]
    },
    {
     "data": {
      "image/png": "[encoded data removed]",
      "text/plain": [
       "<Figure size 432x288 with 1 Axes>"
      ]
     },
     "metadata": {
      "needs_background": "light"
     },
     "output_type": "display_data"
    },
    {
     "name": "stdout",
     "output_type": "stream",
     "text": [
      "---------------------------------------------------------------------------------\n",
      "########## Using GradientBoostingClassifier() algorithm ##########\n",
      "\n",
      "Total training time:  55.140625\n",
      "Total testing time:  1.0 \n",
      "\n",
      "Confusion Matrix\n",
      "[[ 3929  2576]\n",
      " [  964 12835]]\n",
      "\n",
      "Classification report\n",
      "              precision    recall  f1-score   support\n",
      "\n",
      "           0       0.80      0.60      0.69      6505\n",
      "           1       0.83      0.93      0.88     13799\n",
      "\n",
      "    accuracy                           0.83     20304\n",
      "   macro avg       0.82      0.77      0.78     20304\n",
      "weighted avg       0.82      0.83      0.82     20304\n",
      "\n",
      "\n",
      "Overall accuracy: 0.8256501182033097\n",
      "Precision: 0.832846667964441\n",
      "Recall: 0.9301398652076237\n",
      "F1-Score: 0.8788086271824718\n",
      "\n",
      "\n"
     ]
    },
    {
     "data": {
      "image/png": "[encoded data removed]",
      "text/plain": [
       "<Figure size 432x288 with 1 Axes>"
      ]
     },
     "metadata": {
      "needs_background": "light"
     },
     "output_type": "display_data"
    },
    {
     "name": "stdout",
     "output_type": "stream",
     "text": [
      "---------------------------------------------------------------------------------\n"
     ]
    }
   ],
   "source": [
    "text_nb, nb_metrics = model_training(X,y,MultinomialNB())\n",
    "text_svm, svm_metrics = model_training(X,y,LinearSVC())\n",
    "text_rf, rf_metrics = model_training(X,y,RandomForestClassifier())\n",
    "text_gb, gb_metrics = model_training(X,y,GradientBoostingClassifier())"
   ]
  },
  {
   "cell_type": "markdown",
   "metadata": {},
   "source": [
    "### Balance positive and negative reviews and re-train"
   ]
  },
  {
   "cell_type": "code",
   "execution_count": 27,
   "metadata": {},
   "outputs": [
    {
     "data": {
      "text/plain": [
       "1    46294\n",
       "0    21386\n",
       "Name: ratings, dtype: int64"
      ]
     },
     "execution_count": 27,
     "metadata": {},
     "output_type": "execute_result"
    }
   ],
   "source": [
    "reviews['ratings'].value_counts()"
   ]
  },
  {
   "cell_type": "code",
   "execution_count": 28,
   "metadata": {},
   "outputs": [
    {
     "data": {
      "text/plain": [
       "1    21386\n",
       "0    21386\n",
       "Name: ratings, dtype: int64"
      ]
     },
     "execution_count": 28,
     "metadata": {},
     "output_type": "execute_result"
    }
   ],
   "source": [
    "majority = reviews[reviews.ratings == 1]\n",
    "minority = reviews[reviews.ratings == 0]\n",
    "\n",
    "downsampled_majority = resample(majority,replace=False, n_samples=len(minority), random_state=77)\n",
    "\n",
    "reviews_downsampled = pd.concat([downsampled_majority, minority])\n",
    " \n",
    "reviews_downsampled['ratings'].value_counts()"
   ]
  },
  {
   "cell_type": "code",
   "execution_count": 29,
   "metadata": {},
   "outputs": [],
   "source": [
    "X_downsampled = reviews_downsampled['reviews']\n",
    "y_downsampled = reviews_downsampled['ratings']"
   ]
  },
  {
   "cell_type": "code",
   "execution_count": 30,
   "metadata": {},
   "outputs": [
    {
     "name": "stdout",
     "output_type": "stream",
     "text": [
      "########## Using MultinomialNB() algorithm ##########\n",
      "\n",
      "Total training time:  1.53125\n",
      "Total testing time:  0.609375 \n",
      "\n",
      "Confusion Matrix\n",
      "[[5683  720]\n",
      " [1255 5174]]\n",
      "\n",
      "Classification report\n",
      "              precision    recall  f1-score   support\n",
      "\n",
      "           0       0.82      0.89      0.85      6403\n",
      "           1       0.88      0.80      0.84      6429\n",
      "\n",
      "    accuracy                           0.85     12832\n",
      "   macro avg       0.85      0.85      0.85     12832\n",
      "weighted avg       0.85      0.85      0.85     12832\n",
      "\n",
      "\n",
      "Overall accuracy: 0.8460879052369077\n",
      "Precision: 0.8778418730912793\n",
      "Recall: 0.8047907917249961\n",
      "F1-Score: 0.8397305850848009\n",
      "\n",
      "\n"
     ]
    },
    {
     "data": {
      "image/png": "[encoded data removed]",
      "text/plain": [
       "<Figure size 432x288 with 1 Axes>"
      ]
     },
     "metadata": {
      "needs_background": "light"
     },
     "output_type": "display_data"
    },
    {
     "name": "stdout",
     "output_type": "stream",
     "text": [
      "---------------------------------------------------------------------------------\n",
      "########## Using LinearSVC() algorithm ##########\n",
      "\n",
      "Total training time:  1.796875\n",
      "Total testing time:  0.609375 \n",
      "\n",
      "Confusion Matrix\n",
      "[[5529  874]\n",
      " [ 745 5684]]\n",
      "\n",
      "Classification report\n",
      "              precision    recall  f1-score   support\n",
      "\n",
      "           0       0.88      0.86      0.87      6403\n",
      "           1       0.87      0.88      0.88      6429\n",
      "\n",
      "    accuracy                           0.87     12832\n",
      "   macro avg       0.87      0.87      0.87     12832\n",
      "weighted avg       0.87      0.87      0.87     12832\n",
      "\n",
      "\n",
      "Overall accuracy: 0.8738310473815462\n",
      "Precision: 0.8667276608722171\n",
      "Recall: 0.8841188365220096\n",
      "F1-Score: 0.8753368753368752\n",
      "\n",
      "\n"
     ]
    },
    {
     "data": {
      "image/png": "[encoded data removed]",
      "text/plain": [
       "<Figure size 432x288 with 1 Axes>"
      ]
     },
     "metadata": {
      "needs_background": "light"
     },
     "output_type": "display_data"
    },
    {
     "name": "stdout",
     "output_type": "stream",
     "text": [
      "---------------------------------------------------------------------------------\n",
      "########## Using RandomForestClassifier() algorithm ##########\n",
      "\n",
      "Total training time:  81.0625\n",
      "Total testing time:  1.375 \n",
      "\n",
      "Confusion Matrix\n",
      "[[5665  738]\n",
      " [1301 5128]]\n",
      "\n",
      "Classification report\n",
      "              precision    recall  f1-score   support\n",
      "\n",
      "           0       0.81      0.88      0.85      6403\n",
      "           1       0.87      0.80      0.83      6429\n",
      "\n",
      "    accuracy                           0.84     12832\n",
      "   macro avg       0.84      0.84      0.84     12832\n",
      "weighted avg       0.84      0.84      0.84     12832\n",
      "\n",
      "\n",
      "Overall accuracy: 0.841100374064838\n",
      "Precision: 0.8741902488919195\n",
      "Recall: 0.7976357131746773\n",
      "F1-Score: 0.8341602277348517\n",
      "\n",
      "\n"
     ]
    },
    {
     "data": {
      "image/png": "[encoded data removed]",
      "text/plain": [
       "<Figure size 432x288 with 1 Axes>"
      ]
     },
     "metadata": {
      "needs_background": "light"
     },
     "output_type": "display_data"
    },
    {
     "name": "stdout",
     "output_type": "stream",
     "text": [
      "---------------------------------------------------------------------------------\n",
      "########## Using GradientBoostingClassifier() algorithm ##########\n",
      "\n",
      "Total training time:  37.859375\n",
      "Total testing time:  0.65625 \n",
      "\n",
      "Confusion Matrix\n",
      "[[4977 1426]\n",
      " [1204 5225]]\n",
      "\n",
      "Classification report\n",
      "              precision    recall  f1-score   support\n",
      "\n",
      "           0       0.81      0.78      0.79      6403\n",
      "           1       0.79      0.81      0.80      6429\n",
      "\n",
      "    accuracy                           0.80     12832\n",
      "   macro avg       0.80      0.80      0.79     12832\n",
      "weighted avg       0.80      0.80      0.79     12832\n",
      "\n",
      "\n",
      "Overall accuracy: 0.7950436408977556\n",
      "Precision: 0.7855961509547437\n",
      "Recall: 0.8127235962046975\n",
      "F1-Score: 0.7989296636085628\n",
      "\n",
      "\n"
     ]
    },
    {
     "data": {
      "image/png": "[encoded data removed]",
      "text/plain": [
       "<Figure size 432x288 with 1 Axes>"
      ]
     },
     "metadata": {
      "needs_background": "light"
     },
     "output_type": "display_data"
    },
    {
     "name": "stdout",
     "output_type": "stream",
     "text": [
      "---------------------------------------------------------------------------------\n"
     ]
    }
   ],
   "source": [
    "text_nb_downsampled, nb_downsampled_metrics = model_training(X_downsampled,y_downsampled,MultinomialNB())\n",
    "text_svm_downsampled, svm_downsampled_metrics = model_training(X_downsampled,y_downsampled,LinearSVC())\n",
    "text_rf_downsampled, rf_downsampled_metrics = model_training(X_downsampled,y_downsampled,RandomForestClassifier())\n",
    "text_gb_downsampled, gb_downsampled_metrics = model_training(X_downsampled,y_downsampled,GradientBoostingClassifier())"
   ]
  },
  {
   "cell_type": "code",
   "execution_count": 31,
   "metadata": {},
   "outputs": [
    {
     "data": {
      "text/plain": [
       "1    46294\n",
       "0    46294\n",
       "Name: ratings, dtype: int64"
      ]
     },
     "execution_count": 31,
     "metadata": {},
     "output_type": "execute_result"
    }
   ],
   "source": [
    "upsampled_minority = resample(minority,replace=True, n_samples=len(majority), random_state=77)\n",
    "\n",
    "reviews_upsampled = pd.concat([upsampled_minority, majority])\n",
    " \n",
    "reviews_upsampled['ratings'].value_counts()"
   ]
  },
  {
   "cell_type": "code",
   "execution_count": 32,
   "metadata": {},
   "outputs": [],
   "source": [
    "X_upsampled = reviews_upsampled['reviews']\n",
    "y_upsampled = reviews_upsampled['ratings']"
   ]
  },
  {
   "cell_type": "code",
   "execution_count": 33,
   "metadata": {},
   "outputs": [
    {
     "name": "stdout",
     "output_type": "stream",
     "text": [
      "########## Using MultinomialNB() algorithm ##########\n",
      "\n",
      "Total training time:  3.375\n",
      "Total testing time:  1.59375 \n",
      "\n",
      "Confusion Matrix\n",
      "[[12281  1613]\n",
      " [ 1912 11971]]\n",
      "\n",
      "Classification report\n",
      "              precision    recall  f1-score   support\n",
      "\n",
      "           0       0.87      0.88      0.87     13894\n",
      "           1       0.88      0.86      0.87     13883\n",
      "\n",
      "    accuracy                           0.87     27777\n",
      "   macro avg       0.87      0.87      0.87     27777\n",
      "weighted avg       0.87      0.87      0.87     27777\n",
      "\n",
      "\n",
      "Overall accuracy: 0.8730964467005076\n",
      "Precision: 0.8812573616018846\n",
      "Recall: 0.8622776057048188\n",
      "F1-Score: 0.8716641788327811\n",
      "\n",
      "\n"
     ]
    },
    {
     "data": {
      "image/png": "[encoded data removed]",
      "text/plain": [
       "<Figure size 432x288 with 1 Axes>"
      ]
     },
     "metadata": {
      "needs_background": "light"
     },
     "output_type": "display_data"
    },
    {
     "name": "stdout",
     "output_type": "stream",
     "text": [
      "---------------------------------------------------------------------------------\n",
      "########## Using LinearSVC() algorithm ##########\n",
      "\n",
      "Total training time:  4.46875\n",
      "Total testing time:  1.5 \n",
      "\n",
      "Confusion Matrix\n",
      "[[12689  1205]\n",
      " [ 1339 12544]]\n",
      "\n",
      "Classification report\n",
      "              precision    recall  f1-score   support\n",
      "\n",
      "           0       0.90      0.91      0.91     13894\n",
      "           1       0.91      0.90      0.91     13883\n",
      "\n",
      "    accuracy                           0.91     27777\n",
      "   macro avg       0.91      0.91      0.91     27777\n",
      "weighted avg       0.91      0.91      0.91     27777\n",
      "\n",
      "\n",
      "Overall accuracy: 0.9084134355761961\n",
      "Precision: 0.9123572623463525\n",
      "Recall: 0.9035511056688036\n",
      "F1-Score: 0.9079328314997105\n",
      "\n",
      "\n"
     ]
    },
    {
     "data": {
      "image/png": "[encoded data removed]",
      "text/plain": [
       "<Figure size 432x288 with 1 Axes>"
      ]
     },
     "metadata": {
      "needs_background": "light"
     },
     "output_type": "display_data"
    },
    {
     "name": "stdout",
     "output_type": "stream",
     "text": [
      "---------------------------------------------------------------------------------\n",
      "########## Using RandomForestClassifier() algorithm ##########\n",
      "\n",
      "Total training time:  219.953125\n",
      "Total testing time:  3.40625 \n",
      "\n",
      "Confusion Matrix\n",
      "[[13111   783]\n",
      " [ 1229 12654]]\n",
      "\n",
      "Classification report\n",
      "              precision    recall  f1-score   support\n",
      "\n",
      "           0       0.91      0.94      0.93     13894\n",
      "           1       0.94      0.91      0.93     13883\n",
      "\n",
      "    accuracy                           0.93     27777\n",
      "   macro avg       0.93      0.93      0.93     27777\n",
      "weighted avg       0.93      0.93      0.93     27777\n",
      "\n",
      "\n",
      "Overall accuracy: 0.9275659718472117\n",
      "Precision: 0.941728064300067\n",
      "Recall: 0.9114744651732335\n",
      "F1-Score: 0.9263543191800879\n",
      "\n",
      "\n"
     ]
    },
    {
     "data": {
      "image/png": "[encoded data removed]",
      "text/plain": [
       "<Figure size 432x288 with 1 Axes>"
      ]
     },
     "metadata": {
      "needs_background": "light"
     },
     "output_type": "display_data"
    },
    {
     "name": "stdout",
     "output_type": "stream",
     "text": [
      "---------------------------------------------------------------------------------\n",
      "########## Using GradientBoostingClassifier() algorithm ##########\n",
      "\n",
      "Total training time:  80.796875\n",
      "Total testing time:  1.4375 \n",
      "\n",
      "Confusion Matrix\n",
      "[[10928  2966]\n",
      " [ 2376 11507]]\n",
      "\n",
      "Classification report\n",
      "              precision    recall  f1-score   support\n",
      "\n",
      "           0       0.82      0.79      0.80     13894\n",
      "           1       0.80      0.83      0.81     13883\n",
      "\n",
      "    accuracy                           0.81     27777\n",
      "   macro avg       0.81      0.81      0.81     27777\n",
      "weighted avg       0.81      0.81      0.81     27777\n",
      "\n",
      "\n",
      "Overall accuracy: 0.8076826151132231\n",
      "Precision: 0.7950666758792234\n",
      "Recall: 0.8288554347043147\n",
      "F1-Score: 0.8116095359006912\n",
      "\n",
      "\n"
     ]
    },
    {
     "data": {
      "image/png": "[encoded data removed]",
      "text/plain": [
       "<Figure size 432x288 with 1 Axes>"
      ]
     },
     "metadata": {
      "needs_background": "light"
     },
     "output_type": "display_data"
    },
    {
     "name": "stdout",
     "output_type": "stream",
     "text": [
      "---------------------------------------------------------------------------------\n"
     ]
    }
   ],
   "source": [
    "text_nb_upsampled, nb_upsampled_metrics = model_training(X_upsampled,y_upsampled,MultinomialNB())\n",
    "text_svm_upsampled, svm_upsampled_metrics = model_training(X_upsampled,y_upsampled,LinearSVC())\n",
    "text_rf_upsampled, rf_upsampled_metrics = model_training(X_upsampled,y_upsampled,RandomForestClassifier())\n",
    "text_gb_upsampled, gb_upsampled_metrics = model_training(X_upsampled,y_upsampled,GradientBoostingClassifier())"
   ]
  },
  {
   "cell_type": "code",
   "execution_count": 34,
   "metadata": {},
   "outputs": [],
   "source": [
    "learners = {'Naive Bayes':text_nb, \n",
    "            'Naive Bayes (Downsampled)':text_nb_downsampled,\n",
    "            'Naive Bayes (Upsampled)':text_nb_upsampled,\n",
    "            'SVM':text_svm,\n",
    "            'SVM (Downsampled)':text_svm_downsampled,\n",
    "            'SVM (Upsampled)':text_svm_upsampled,\n",
    "            'Random Forest':text_rf,\n",
    "            'Random Forest (Downsampled)':text_rf_downsampled,\n",
    "            'Random Forest (Upsampled)':text_rf_upsampled,\n",
    "            'Gradient Boosting':text_gb,\n",
    "            'Gradient Boosting (Downsampled)':text_gb_downsampled,\n",
    "            'Gradient Boosting (Upsampled)':text_gb_upsampled\n",
    "           }\n",
    "metrics = {'Naive Bayes':nb_metrics, \n",
    "            'Naive Bayes (Downsampled)':nb_downsampled_metrics,\n",
    "            'Naive Bayes (Upsampled)':nb_upsampled_metrics,\n",
    "            'SVM':svm_metrics,\n",
    "            'SVM (Downsampled)':svm_downsampled_metrics,\n",
    "            'SVM (Upsampled)':svm_upsampled_metrics,\n",
    "            'Random Forest':rf_metrics,\n",
    "            'Random Forest (Downsampled)':rf_downsampled_metrics,\n",
    "            'Random Forest (Upsampled)':rf_upsampled_metrics,\n",
    "            'Gradient Boosting':gb_metrics,\n",
    "            'Gradient Boosting (Downsampled)':gb_downsampled_metrics,\n",
    "            'Gradient Boosting (Upsampled)':gb_upsampled_metrics\n",
    "           }"
   ]
  },
  {
   "cell_type": "code",
   "execution_count": 35,
   "metadata": {},
   "outputs": [
    {
     "data": {
      "image/png": "[encoded data removed]",
      "text/plain": [
       "<Figure size 1080x720 with 4 Axes>"
      ]
     },
     "metadata": {
      "needs_background": "light"
     },
     "output_type": "display_data"
    }
   ],
   "source": [
    "fig, ax = plt.subplots(2, 2, figsize = (15,10))\n",
    "colors = ['#A00000','#A0FFF1','#A000FF','#00F0A0',\n",
    "          '#00A0AF','#00F0A0','#00A000','#FFA500',\n",
    "          '#BFA500','#DFA500','#FFF500','#FFAFF0']\n",
    "\n",
    "for k, learner in enumerate(learners.keys()):\n",
    "    for j, metric in enumerate(['Total training time','Total testing time','Accuracy','F1 Score']):\n",
    "        ax[j//2, j%2].bar(k, metrics[learner][metric],color = colors[k])\n",
    "            \n",
    "ax[0, 0].set_ylabel(\"Time (in seconds)\")\n",
    "ax[0, 0].set_title(\"Model Training time\")\n",
    "\n",
    "ax[0, 1].set_ylabel(\"Time (in seconds)\")\n",
    "ax[0, 1].set_title(\"Model Testing time\")\n",
    "\n",
    "ax[1, 0].set_ylabel(\"Accuracy\")\n",
    "ax[1, 0].set_title(\"Testing Accuracy Score\")\n",
    "\n",
    "ax[1, 1].set_ylabel(\"F-score\")\n",
    "ax[1, 1].set_title(\"Testing F1 Score\")\n",
    "\n",
    "\n",
    "patches = []\n",
    "for i, learner in enumerate(learners.keys()):\n",
    "    patches.append(mpatches.Patch(color = colors[i], label = learner))\n",
    "fig.legend(handles = patches, loc='upper center', bbox_to_anchor=(1.1, 1), ncol = 1, fontsize = 'medium')\n",
    "\n",
    "plt.suptitle(\"Performance Metrics for the Machine Learning Models\", fontsize = 18)\n",
    "plt.tight_layout()\n",
    "plt.show()"
   ]
  },
  {
   "cell_type": "markdown",
   "metadata": {},
   "source": [
    "#### Check prediction in reviews from https://www.skroutz.gr/s/20060269/Apple-iPhone-11-64GB-Black.html"
   ]
  },
  {
   "cell_type": "code",
   "execution_count": 36,
   "metadata": {},
   "outputs": [],
   "source": [
    "review1 = 'Κατοχος περιπου 7 χρονια iphone, πιστευω πως ειναι το καλυτερο iphone που εχω παρει ποτε,\\\n",
    " σε μεγεθος ειναι ο,τι πρεπει, και η μπαταρια του πολυ καλη, ειχα πετυχει μεχρι και δυο 24ωρα\\\n",
    " διαρκεια μπαταριας στις αρχες που το ειχα παρει, θα μεινω αρκετο καιρο μ αυτο το κινητο απ οτι βλεπω...'\n",
    "\n",
    "review2 = 'Εκτος απο τον γρηγορο επεξεργαστη στα υπολοιπα υστερει: Μικρη μπαταρια , δεν εχει fast charging ,\\\n",
    " μολις 12 mp camera , τεραστιο notch , το face id ειναι εκνευριστικο κτλ\\\n",
    " Γενικα αποφυγετε τα κινητα της Apple , το κοστος τους ειναι απολυτως δυσαναλογο με τις δυνατοτητες που προσφερουν\\\n",
    " και τα χαρακτηριστηκα τους σε συγκριση με αλλα τηλεφωνα στο ιδιο ευρος χρηματων ή ακομη και σε σχεση με αρκετα\\\n",
    " φθηνοτερα κινητα.'\n",
    "\n",
    "review3 = 'Τρομερό το κινητό σε εντυπωσιάζει καθημερινά.\\\n",
    "Με εξαίρεση την οθόνη η οποία είναι τεχνολογικά πίσω σε σχέση με αλλά κινητά αντίστοιχης τιμής (πολύ καλή ωστόσο) \\\n",
    "σε όλα τα άλλα είναι φοβερό. Αστεία γρήγορο, πολύ καλή μπαταρία που βγάζει άνετα τη μέρα, απολαυστικό σε όλα και το \\\n",
    "iOS έχει προοδεύσει αρκετά μιας και έρχομαι από iPhone 5s και iOS 10.\\\n",
    "Όσοι το επιλέξετε δε θα το μετανιώσετε καθόλου.'\n",
    "\n",
    "reviews_production = np.array([review1,review2,review3])"
   ]
  },
  {
   "cell_type": "code",
   "execution_count": 37,
   "metadata": {},
   "outputs": [
    {
     "name": "stdout",
     "output_type": "stream",
     "text": [
      "Κατοχος περιπου 7 χρονια iphone, πιστευω πως ειναι το καλυτερο iphone που εχω παρει ποτε, σε μεγεθος ειναι ο,τι πρεπει, και η μπαταρια του πολυ καλη, ειχα πετυχει μεχρι και δυο 24ωρα διαρκεια μπαταριας στις αρχες που το ειχα παρει, θα μεινω αρκετο καιρο μ αυτο το κινητο απ οτι βλεπω... \n",
      "\n",
      "Naive Bayes prediction: [0]\n",
      "SVM prediction: [1],\n",
      "Random Forest prediction: [1],    \n",
      "Gradient Boosting prediction: [1]\n",
      "Naive Bayes Class probabilities: [[0.61931548 0.38068452]]\n",
      "SVM Confidence level : 0.7716069871754264\n",
      "\n",
      "\n",
      "Εκτος απο τον γρηγορο επεξεργαστη στα υπολοιπα υστερει: Μικρη μπαταρια , δεν εχει fast charging , μολις 12 mp camera , τεραστιο notch , το face id ειναι εκνευριστικο κτλ Γενικα αποφυγετε τα κινητα της Apple , το κοστος τους ειναι απολυτως δυσαναλογο με τις δυνατοτητες που προσφερουν και τα χαρακτηριστηκα τους σε συγκριση με αλλα τηλεφωνα στο ιδιο ευρος χρηματων ή ακομη και σε σχεση με αρκετα φθηνοτερα κινητα. \n",
      "\n",
      "Naive Bayes prediction: [0]\n",
      "SVM prediction: [0],\n",
      "Random Forest prediction: [1],    \n",
      "Gradient Boosting prediction: [1]\n",
      "Naive Bayes Class probabilities: [[0.80982818 0.19017182]]\n",
      "SVM Confidence level : -0.46981114859722617\n",
      "\n",
      "\n",
      "Τρομερό το κινητό σε εντυπωσιάζει καθημερινά.Με εξαίρεση την οθόνη η οποία είναι τεχνολογικά πίσω σε σχέση με αλλά κινητά αντίστοιχης τιμής (πολύ καλή ωστόσο) σε όλα τα άλλα είναι φοβερό. Αστεία γρήγορο, πολύ καλή μπαταρία που βγάζει άνετα τη μέρα, απολαυστικό σε όλα και το iOS έχει προοδεύσει αρκετά μιας και έρχομαι από iPhone 5s και iOS 10.Όσοι το επιλέξετε δε θα το μετανιώσετε καθόλου. \n",
      "\n",
      "Naive Bayes prediction: [1]\n",
      "SVM prediction: [1],\n",
      "Random Forest prediction: [1],    \n",
      "Gradient Boosting prediction: [1]\n",
      "Naive Bayes Class probabilities: [[0.16569155 0.83430845]]\n",
      "SVM Confidence level : 0.3696968159504782\n",
      "\n",
      "\n"
     ]
    }
   ],
   "source": [
    "for r in reviews_production:\n",
    "    print(r,'\\n')\n",
    "    print('Naive Bayes prediction: {}\\nSVM prediction: {},\\nRandom Forest prediction: {},\\\n",
    "    \\nGradient Boosting prediction: {}'.format(text_nb.predict([clean_text(r)]),\n",
    "                                         text_svm.predict([clean_text(r)]),\n",
    "                                        text_rf.predict([clean_text(r)]),\n",
    "                                         text_gb.predict([clean_text(r)])))\n",
    "    \n",
    "    print('Naive Bayes Class probabilities: {}'.format(text_nb.predict_proba([clean_text(r)])))\n",
    "    print('SVM Confidence level : {}\\n\\n'.format(text_svm.decision_function([clean_text(r)])[0]))"
   ]
  },
  {
   "cell_type": "code",
   "execution_count": 38,
   "metadata": {},
   "outputs": [
    {
     "name": "stdout",
     "output_type": "stream",
     "text": [
      "Κατοχος περιπου 7 χρονια iphone, πιστευω πως ειναι το καλυτερο iphone που εχω παρει ποτε, σε μεγεθος ειναι ο,τι πρεπει, και η μπαταρια του πολυ καλη, ειχα πετυχει μεχρι και δυο 24ωρα διαρκεια μπαταριας στις αρχες που το ειχα παρει, θα μεινω αρκετο καιρο μ αυτο το κινητο απ οτι βλεπω... \n",
      "\n",
      "Naive Bayes prediction: [0]\n",
      "SVM prediction: [0],\n",
      "Random Forest prediction: [1],    \n",
      "Gradient Boosting prediction: [1]\n",
      "Naive Bayes Class probabilities: [[0.70193072 0.29806928]]\n",
      "SVM Confidence level : -0.009209073924987266\n",
      "\n",
      "\n",
      "Εκτος απο τον γρηγορο επεξεργαστη στα υπολοιπα υστερει: Μικρη μπαταρια , δεν εχει fast charging , μολις 12 mp camera , τεραστιο notch , το face id ειναι εκνευριστικο κτλ Γενικα αποφυγετε τα κινητα της Apple , το κοστος τους ειναι απολυτως δυσαναλογο με τις δυνατοτητες που προσφερουν και τα χαρακτηριστηκα τους σε συγκριση με αλλα τηλεφωνα στο ιδιο ευρος χρηματων ή ακομη και σε σχεση με αρκετα φθηνοτερα κινητα. \n",
      "\n",
      "Naive Bayes prediction: [0]\n",
      "SVM prediction: [0],\n",
      "Random Forest prediction: [0],    \n",
      "Gradient Boosting prediction: [0]\n",
      "Naive Bayes Class probabilities: [[0.75434151 0.24565849]]\n",
      "SVM Confidence level : -0.512378930569674\n",
      "\n",
      "\n",
      "Τρομερό το κινητό σε εντυπωσιάζει καθημερινά.Με εξαίρεση την οθόνη η οποία είναι τεχνολογικά πίσω σε σχέση με αλλά κινητά αντίστοιχης τιμής (πολύ καλή ωστόσο) σε όλα τα άλλα είναι φοβερό. Αστεία γρήγορο, πολύ καλή μπαταρία που βγάζει άνετα τη μέρα, απολαυστικό σε όλα και το iOS έχει προοδεύσει αρκετά μιας και έρχομαι από iPhone 5s και iOS 10.Όσοι το επιλέξετε δε θα το μετανιώσετε καθόλου. \n",
      "\n",
      "Naive Bayes prediction: [1]\n",
      "SVM prediction: [1],\n",
      "Random Forest prediction: [1],    \n",
      "Gradient Boosting prediction: [1]\n",
      "Naive Bayes Class probabilities: [[0.30917681 0.69082319]]\n",
      "SVM Confidence level : 0.456071342357961\n",
      "\n",
      "\n"
     ]
    }
   ],
   "source": [
    "for r in reviews_production:\n",
    "    print(r,'\\n')\n",
    "    print('Naive Bayes prediction: {}\\nSVM prediction: {},\\nRandom Forest prediction: {},\\\n",
    "    \\nGradient Boosting prediction: {}'.format(text_nb_downsampled.predict([clean_text(r)]),\n",
    "                                         text_svm_downsampled.predict([clean_text(r)]),\n",
    "                                        text_rf_downsampled.predict([clean_text(r)]),\n",
    "                                         text_gb_downsampled.predict([clean_text(r)])))\n",
    "    \n",
    "    print('Naive Bayes Class probabilities: {}'.format(text_nb_downsampled.predict_proba([clean_text(r)])))\n",
    "    print('SVM Confidence level : {}\\n\\n'.format(text_svm_downsampled.decision_function([clean_text(r)])[0]))"
   ]
  },
  {
   "cell_type": "code",
   "execution_count": 39,
   "metadata": {},
   "outputs": [
    {
     "name": "stdout",
     "output_type": "stream",
     "text": [
      "Κατοχος περιπου 7 χρονια iphone, πιστευω πως ειναι το καλυτερο iphone που εχω παρει ποτε, σε μεγεθος ειναι ο,τι πρεπει, και η μπαταρια του πολυ καλη, ειχα πετυχει μεχρι και δυο 24ωρα διαρκεια μπαταριας στις αρχες που το ειχα παρει, θα μεινω αρκετο καιρο μ αυτο το κινητο απ οτι βλεπω... \n",
      "\n",
      "Naive Bayes prediction: [0]\n",
      "SVM prediction: [0],\n",
      "Random Forest prediction: [1],    \n",
      "Gradient Boosting prediction: [1]\n",
      "Naive Bayes Class probabilities: [[0.69724444 0.30275556]]\n",
      "SVM Confidence level : -0.09668851522103344\n",
      "\n",
      "\n",
      "Εκτος απο τον γρηγορο επεξεργαστη στα υπολοιπα υστερει: Μικρη μπαταρια , δεν εχει fast charging , μολις 12 mp camera , τεραστιο notch , το face id ειναι εκνευριστικο κτλ Γενικα αποφυγετε τα κινητα της Apple , το κοστος τους ειναι απολυτως δυσαναλογο με τις δυνατοτητες που προσφερουν και τα χαρακτηριστηκα τους σε συγκριση με αλλα τηλεφωνα στο ιδιο ευρος χρηματων ή ακομη και σε σχεση με αρκετα φθηνοτερα κινητα. \n",
      "\n",
      "Naive Bayes prediction: [0]\n",
      "SVM prediction: [0],\n",
      "Random Forest prediction: [1],    \n",
      "Gradient Boosting prediction: [0]\n",
      "Naive Bayes Class probabilities: [[0.81462711 0.18537289]]\n",
      "SVM Confidence level : -0.4625180869627585\n",
      "\n",
      "\n",
      "Τρομερό το κινητό σε εντυπωσιάζει καθημερινά.Με εξαίρεση την οθόνη η οποία είναι τεχνολογικά πίσω σε σχέση με αλλά κινητά αντίστοιχης τιμής (πολύ καλή ωστόσο) σε όλα τα άλλα είναι φοβερό. Αστεία γρήγορο, πολύ καλή μπαταρία που βγάζει άνετα τη μέρα, απολαυστικό σε όλα και το iOS έχει προοδεύσει αρκετά μιας και έρχομαι από iPhone 5s και iOS 10.Όσοι το επιλέξετε δε θα το μετανιώσετε καθόλου. \n",
      "\n",
      "Naive Bayes prediction: [1]\n",
      "SVM prediction: [1],\n",
      "Random Forest prediction: [1],    \n",
      "Gradient Boosting prediction: [1]\n",
      "Naive Bayes Class probabilities: [[0.33844184 0.66155816]]\n",
      "SVM Confidence level : 0.6089849980098919\n",
      "\n",
      "\n"
     ]
    }
   ],
   "source": [
    "for r in reviews_production:\n",
    "    print(r,'\\n')\n",
    "    print('Naive Bayes prediction: {}\\nSVM prediction: {},\\nRandom Forest prediction: {},\\\n",
    "    \\nGradient Boosting prediction: {}'.format(text_nb_upsampled.predict([clean_text(r)]),\n",
    "                                         text_svm_upsampled.predict([clean_text(r)]),\n",
    "                                        text_rf_upsampled.predict([clean_text(r)]),\n",
    "                                         text_gb_upsampled.predict([clean_text(r)])))\n",
    "    \n",
    "    print('Naive Bayes Class probabilities: {}'.format(text_nb_upsampled.predict_proba([clean_text(r)])))\n",
    "    print('SVM Confidence level : {}\\n\\n'.format(text_svm_upsampled.decision_function([clean_text(r)])[0]))"
   ]
  },
  {
   "cell_type": "code",
   "execution_count": null,
   "metadata": {},
   "outputs": [],
   "source": []
  }
 ],
 "metadata": {
  "kernelspec": {
   "display_name": "Python 3",
   "language": "python",
   "name": "python3"
  },
  "language_info": {
   "codemirror_mode": {
    "name": "ipython",
    "version": 3
   },
   "file_extension": ".py",
   "mimetype": "text/x-python",
   "name": "python",
   "nbconvert_exporter": "python",
   "pygments_lexer": "ipython3",
   "version": "3.7.9"
  }
 },
 "nbformat": 4,
 "nbformat_minor": 4
}
